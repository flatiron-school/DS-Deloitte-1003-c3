{
  "cells": [
    {
      "cell_type": "markdown",
      "metadata": {
        "id": "FxTXQ-Dl10Pl"
      },
      "source": [
        "# Evaluation of Neural Networks"
      ]
    },
    {
      "cell_type": "markdown",
      "metadata": {
        "id": "-dBqBCHB10Po"
      },
      "source": [
        "## Learning Objectives\n",
        "\n",
        "- use `keras` to code up a neural network model;\n",
        "- use wrappers inside `keras` to make models that can jibe with `sklearn`;\n",
        "- scale input data via normalization to promote faster training convergence."
      ]
    },
    {
      "cell_type": "markdown",
      "source": [
        "## Architecting a [Sequential Model](https://www.tensorflow.org/guide/keras/sequential_model)\n",
        "\n",
        "### Setup\n",
        "```\n",
        "import tensorflow as tf\n",
        "from tensorflow import keras\n",
        "from tensorflow.keras import layers\n",
        "```\n",
        "\n",
        "### When to Use a Sequential Model\n",
        "\n",
        "A `Sequential` model is appropriate for **a plain stack of layers** where each layer has **exactly one input tensor and one output tensor**.\n",
        "\n",
        "Schematically, this `Sequential` model:\n",
        "```\n",
        "# Define Sequential model with 3 layers\n",
        "model = keras.Sequential(\n",
        "    [\n",
        "        layers.Dense(2, activation=\"relu\", name=\"layer1\"),\n",
        "        layers.Dense(3, activation=\"relu\", name=\"layer2\"),\n",
        "        layers.Dense(4, name=\"layer3\"),\n",
        "    ]\n",
        ")\n",
        "# Call model on a test input\n",
        "x = tf.ones((3, 3))\n",
        "y = model(x)\n",
        "\n",
        "```\n",
        "\n",
        "...is equivalent to this function:\n",
        "```\n",
        "# Create 3 layers\n",
        "layer1 = layers.Dense(2, activation=\"relu\", name=\"layer1\")\n",
        "layer2 = layers.Dense(3, activation=\"relu\", name=\"layer2\")\n",
        "layer3 = layers.Dense(4, name=\"layer3\")\n",
        "\n",
        "# Call layers on a test input\n",
        "x = tf.ones((3, 3))\n",
        "y = layer3(layer2(layer1(x)))\n",
        "```\n",
        "\n",
        "A Sequential model is **not** appropriate when:\n",
        "\n",
        "- Your model has multiple inputs or multiple outputs\n",
        "- Any of your layers has multiple inputs or multiple outputs\n",
        "- You need to do layer sharing\n",
        "- You want non-linear topology (e.g. a residual connection, a multi-branch model)"
      ],
      "metadata": {
        "id": "SsAuFAl2Gzk-"
      }
    },
    {
      "cell_type": "code",
      "source": [
        "import tensorflow as tf\n",
        "from tensorflow import keras\n",
        "from tensorflow.keras import layers\n",
        "\n",
        "model = keras.Sequential()\n",
        "model.add(layers.Dense(2, activation=\"relu\"))\n",
        "model.add(layers.Dense(3, activation=\"relu\"))\n",
        "model.add(layers.Dense(4))"
      ],
      "metadata": {
        "id": "f1ThMEbBLKLF"
      },
      "execution_count": 1,
      "outputs": []
    },
    {
      "cell_type": "code",
      "source": [
        "model.layers"
      ],
      "metadata": {
        "colab": {
          "base_uri": "https://localhost:8080/"
        },
        "id": "YpLgG5f8LVuY",
        "outputId": "9e4461ba-89d0-4b25-a9a7-6d057eb4bdd8"
      },
      "execution_count": 2,
      "outputs": [
        {
          "output_type": "execute_result",
          "data": {
            "text/plain": [
              "[<keras.layers.core.dense.Dense at 0x7fcb8ea1a0d0>,\n",
              " <keras.layers.core.dense.Dense at 0x7fcb23bc9650>,\n",
              " <keras.layers.core.dense.Dense at 0x7fcb22ee1e50>]"
            ]
          },
          "metadata": {},
          "execution_count": 2
        }
      ]
    },
    {
      "cell_type": "markdown",
      "source": [
        "Generally, all layers in Keras need to know the shape of their inputs in order to be able to create their weights. So when you create a layer like this, initially, it has no weights:"
      ],
      "metadata": {
        "id": "6ivjtoc2NdNg"
      }
    },
    {
      "cell_type": "code",
      "source": [
        "# This will throw an error\n",
        "\n",
        "model.weights"
      ],
      "metadata": {
        "colab": {
          "base_uri": "https://localhost:8080/",
          "height": 353
        },
        "id": "wDiBSrZ8NULx",
        "outputId": "4e60f402-b4e1-4e22-cacb-2e2aba43407e"
      },
      "execution_count": 3,
      "outputs": [
        {
          "output_type": "error",
          "ename": "ValueError",
          "evalue": "ignored",
          "traceback": [
            "\u001b[0;31m---------------------------------------------------------------------------\u001b[0m",
            "\u001b[0;31mValueError\u001b[0m                                Traceback (most recent call last)",
            "\u001b[0;32m<ipython-input-3-5810b6e5515e>\u001b[0m in \u001b[0;36m<module>\u001b[0;34m\u001b[0m\n\u001b[1;32m      1\u001b[0m \u001b[0;31m# This will throw an error\u001b[0m\u001b[0;34m\u001b[0m\u001b[0;34m\u001b[0m\u001b[0;34m\u001b[0m\u001b[0m\n\u001b[1;32m      2\u001b[0m \u001b[0;34m\u001b[0m\u001b[0m\n\u001b[0;32m----> 3\u001b[0;31m \u001b[0mmodel\u001b[0m\u001b[0;34m.\u001b[0m\u001b[0mweights\u001b[0m\u001b[0;34m\u001b[0m\u001b[0;34m\u001b[0m\u001b[0m\n\u001b[0m",
            "\u001b[0;32m/usr/local/lib/python3.7/dist-packages/keras/engine/training.py\u001b[0m in \u001b[0;36mweights\u001b[0;34m(self)\u001b[0m\n\u001b[1;32m   2827\u001b[0m       \u001b[0mA\u001b[0m \u001b[0mlist\u001b[0m \u001b[0mof\u001b[0m \u001b[0mvariables\u001b[0m\u001b[0;34m.\u001b[0m\u001b[0;34m\u001b[0m\u001b[0;34m\u001b[0m\u001b[0m\n\u001b[1;32m   2828\u001b[0m     \"\"\"\n\u001b[0;32m-> 2829\u001b[0;31m     \u001b[0;32mreturn\u001b[0m \u001b[0mself\u001b[0m\u001b[0;34m.\u001b[0m\u001b[0m_dedup_weights\u001b[0m\u001b[0;34m(\u001b[0m\u001b[0mself\u001b[0m\u001b[0;34m.\u001b[0m\u001b[0m_undeduplicated_weights\u001b[0m\u001b[0;34m)\u001b[0m\u001b[0;34m\u001b[0m\u001b[0;34m\u001b[0m\u001b[0m\n\u001b[0m\u001b[1;32m   2830\u001b[0m \u001b[0;34m\u001b[0m\u001b[0m\n\u001b[1;32m   2831\u001b[0m   \u001b[0;34m@\u001b[0m\u001b[0mproperty\u001b[0m\u001b[0;34m\u001b[0m\u001b[0;34m\u001b[0m\u001b[0m\n",
            "\u001b[0;32m/usr/local/lib/python3.7/dist-packages/keras/engine/training.py\u001b[0m in \u001b[0;36m_undeduplicated_weights\u001b[0;34m(self)\u001b[0m\n\u001b[1;32m   2832\u001b[0m   \u001b[0;32mdef\u001b[0m \u001b[0m_undeduplicated_weights\u001b[0m\u001b[0;34m(\u001b[0m\u001b[0mself\u001b[0m\u001b[0;34m)\u001b[0m\u001b[0;34m:\u001b[0m\u001b[0;34m\u001b[0m\u001b[0;34m\u001b[0m\u001b[0m\n\u001b[1;32m   2833\u001b[0m     \u001b[0;34m\"\"\"Returns the undeduplicated list of all layer variables/weights.\"\"\"\u001b[0m\u001b[0;34m\u001b[0m\u001b[0;34m\u001b[0m\u001b[0m\n\u001b[0;32m-> 2834\u001b[0;31m     \u001b[0mself\u001b[0m\u001b[0;34m.\u001b[0m\u001b[0m_assert_weights_created\u001b[0m\u001b[0;34m(\u001b[0m\u001b[0;34m)\u001b[0m\u001b[0;34m\u001b[0m\u001b[0;34m\u001b[0m\u001b[0m\n\u001b[0m\u001b[1;32m   2835\u001b[0m     \u001b[0mweights\u001b[0m \u001b[0;34m=\u001b[0m \u001b[0;34m[\u001b[0m\u001b[0;34m]\u001b[0m\u001b[0;34m\u001b[0m\u001b[0;34m\u001b[0m\u001b[0m\n\u001b[1;32m   2836\u001b[0m     \u001b[0;32mfor\u001b[0m \u001b[0mlayer\u001b[0m \u001b[0;32min\u001b[0m \u001b[0mself\u001b[0m\u001b[0;34m.\u001b[0m\u001b[0m_self_tracked_trackables\u001b[0m\u001b[0;34m:\u001b[0m\u001b[0;34m\u001b[0m\u001b[0;34m\u001b[0m\u001b[0m\n",
            "\u001b[0;32m/usr/local/lib/python3.7/dist-packages/keras/engine/sequential.py\u001b[0m in \u001b[0;36m_assert_weights_created\u001b[0;34m(self)\u001b[0m\n\u001b[1;32m    470\u001b[0m     \u001b[0;31m# When the graph has not been initialized, use the Model's implementation to\u001b[0m\u001b[0;34m\u001b[0m\u001b[0;34m\u001b[0m\u001b[0;34m\u001b[0m\u001b[0m\n\u001b[1;32m    471\u001b[0m     \u001b[0;31m# to check if the weights has been created.\u001b[0m\u001b[0;34m\u001b[0m\u001b[0;34m\u001b[0m\u001b[0;34m\u001b[0m\u001b[0m\n\u001b[0;32m--> 472\u001b[0;31m     \u001b[0msuper\u001b[0m\u001b[0;34m(\u001b[0m\u001b[0mfunctional\u001b[0m\u001b[0;34m.\u001b[0m\u001b[0mFunctional\u001b[0m\u001b[0;34m,\u001b[0m \u001b[0mself\u001b[0m\u001b[0;34m)\u001b[0m\u001b[0;34m.\u001b[0m\u001b[0m_assert_weights_created\u001b[0m\u001b[0;34m(\u001b[0m\u001b[0;34m)\u001b[0m  \u001b[0;31m# pylint: disable=bad-super-call\u001b[0m\u001b[0;34m\u001b[0m\u001b[0;34m\u001b[0m\u001b[0m\n\u001b[0m\u001b[1;32m    473\u001b[0m \u001b[0;34m\u001b[0m\u001b[0m\n\u001b[1;32m    474\u001b[0m \u001b[0;34m\u001b[0m\u001b[0m\n",
            "\u001b[0;32m/usr/local/lib/python3.7/dist-packages/keras/engine/training.py\u001b[0m in \u001b[0;36m_assert_weights_created\u001b[0;34m(self)\u001b[0m\n\u001b[1;32m   3025\u001b[0m       \u001b[0;31m# been invoked yet, this will cover both sequential and subclass model.\u001b[0m\u001b[0;34m\u001b[0m\u001b[0;34m\u001b[0m\u001b[0;34m\u001b[0m\u001b[0m\n\u001b[1;32m   3026\u001b[0m       \u001b[0;31m# Also make sure to exclude Model class itself which has build() defined.\u001b[0m\u001b[0;34m\u001b[0m\u001b[0;34m\u001b[0m\u001b[0;34m\u001b[0m\u001b[0m\n\u001b[0;32m-> 3027\u001b[0;31m       raise ValueError(f'Weights for model {self.name} have not yet been '\n\u001b[0m\u001b[1;32m   3028\u001b[0m                        \u001b[0;34m'created. '\u001b[0m\u001b[0;34m\u001b[0m\u001b[0;34m\u001b[0m\u001b[0m\n\u001b[1;32m   3029\u001b[0m                        \u001b[0;34m'Weights are created when the Model is first called on '\u001b[0m\u001b[0;34m\u001b[0m\u001b[0;34m\u001b[0m\u001b[0m\n",
            "\u001b[0;31mValueError\u001b[0m: Weights for model sequential have not yet been created. Weights are created when the Model is first called on inputs or `build()` is called with an `input_shape`."
          ]
        }
      ]
    },
    {
      "cell_type": "code",
      "source": [
        "# This will throw an error:\n",
        "\n",
        "model.summary()"
      ],
      "metadata": {
        "id": "LOdVzg5tLZuX",
        "colab": {
          "base_uri": "https://localhost:8080/",
          "height": 329
        },
        "outputId": "7ce72692-ad29-427e-f841-88a109843880"
      },
      "execution_count": 4,
      "outputs": [
        {
          "output_type": "error",
          "ename": "ValueError",
          "evalue": "ignored",
          "traceback": [
            "\u001b[0;31m---------------------------------------------------------------------------\u001b[0m",
            "\u001b[0;31mValueError\u001b[0m                                Traceback (most recent call last)",
            "\u001b[0;32m<ipython-input-4-d15b67602e06>\u001b[0m in \u001b[0;36m<module>\u001b[0;34m\u001b[0m\n\u001b[1;32m      1\u001b[0m \u001b[0;31m# This will throw an error:\u001b[0m\u001b[0;34m\u001b[0m\u001b[0;34m\u001b[0m\u001b[0;34m\u001b[0m\u001b[0m\n\u001b[1;32m      2\u001b[0m \u001b[0;34m\u001b[0m\u001b[0m\n\u001b[0;32m----> 3\u001b[0;31m \u001b[0mmodel\u001b[0m\u001b[0;34m.\u001b[0m\u001b[0msummary\u001b[0m\u001b[0;34m(\u001b[0m\u001b[0;34m)\u001b[0m\u001b[0;34m\u001b[0m\u001b[0;34m\u001b[0m\u001b[0m\n\u001b[0m",
            "\u001b[0;32m/usr/local/lib/python3.7/dist-packages/keras/engine/training.py\u001b[0m in \u001b[0;36msummary\u001b[0;34m(self, line_length, positions, print_fn, expand_nested, show_trainable)\u001b[0m\n\u001b[1;32m   2868\u001b[0m     \u001b[0;32mif\u001b[0m \u001b[0;32mnot\u001b[0m \u001b[0mself\u001b[0m\u001b[0;34m.\u001b[0m\u001b[0mbuilt\u001b[0m\u001b[0;34m:\u001b[0m\u001b[0;34m\u001b[0m\u001b[0;34m\u001b[0m\u001b[0m\n\u001b[1;32m   2869\u001b[0m       raise ValueError(\n\u001b[0;32m-> 2870\u001b[0;31m           \u001b[0;34m'This model has not yet been built. '\u001b[0m\u001b[0;34m\u001b[0m\u001b[0;34m\u001b[0m\u001b[0m\n\u001b[0m\u001b[1;32m   2871\u001b[0m           \u001b[0;34m'Build the model first by calling `build()` or by calling '\u001b[0m\u001b[0;34m\u001b[0m\u001b[0;34m\u001b[0m\u001b[0m\n\u001b[1;32m   2872\u001b[0m           'the model on a batch of data.')\n",
            "\u001b[0;31mValueError\u001b[0m: This model has not yet been built. Build the model first by calling `build()` or by calling the model on a batch of data."
          ]
        }
      ]
    },
    {
      "cell_type": "markdown",
      "source": [
        "**Note**: *The model creates its weights the first time it is called on an input, since the shape of the weights depends on the shape of the inputs.*"
      ],
      "metadata": {
        "id": "tXidm4AfMqnh"
      }
    },
    {
      "cell_type": "code",
      "source": [
        "x = tf.ones((1, 4))\n",
        "y = model(x)\n",
        "\n",
        "model.summary()"
      ],
      "metadata": {
        "colab": {
          "base_uri": "https://localhost:8080/"
        },
        "id": "77EDWLMLNF1C",
        "outputId": "9904b59c-87cb-4897-cfc3-0278b181dc1c"
      },
      "execution_count": 5,
      "outputs": [
        {
          "output_type": "stream",
          "name": "stdout",
          "text": [
            "Model: \"sequential\"\n",
            "_________________________________________________________________\n",
            " Layer (type)                Output Shape              Param #   \n",
            "=================================================================\n",
            " dense (Dense)               (1, 2)                    10        \n",
            "                                                                 \n",
            " dense_1 (Dense)             (1, 3)                    9         \n",
            "                                                                 \n",
            " dense_2 (Dense)             (1, 4)                    16        \n",
            "                                                                 \n",
            "=================================================================\n",
            "Total params: 35\n",
            "Trainable params: 35\n",
            "Non-trainable params: 0\n",
            "_________________________________________________________________\n"
          ]
        }
      ]
    },
    {
      "cell_type": "code",
      "source": [
        "x"
      ],
      "metadata": {
        "colab": {
          "base_uri": "https://localhost:8080/"
        },
        "id": "4SzoXRDbUovk",
        "outputId": "16e45c64-e9ce-4541-b3aa-deee2053e865"
      },
      "execution_count": 7,
      "outputs": [
        {
          "output_type": "execute_result",
          "data": {
            "text/plain": [
              "<tf.Tensor: shape=(1, 4), dtype=float32, numpy=array([[1., 1., 1., 1.]], dtype=float32)>"
            ]
          },
          "metadata": {},
          "execution_count": 7
        }
      ]
    },
    {
      "cell_type": "code",
      "source": [
        "model.weights"
      ],
      "metadata": {
        "colab": {
          "base_uri": "https://localhost:8080/"
        },
        "id": "_xqvLbYyNkr4",
        "outputId": "6e05247a-8a66-4be8-d3a2-0afff5c354d3"
      },
      "execution_count": 6,
      "outputs": [
        {
          "output_type": "execute_result",
          "data": {
            "text/plain": [
              "[<tf.Variable 'dense/kernel:0' shape=(4, 2) dtype=float32, numpy=\n",
              " array([[-0.7871399 ,  0.3670919 ],\n",
              "        [ 0.16865778, -0.7149408 ],\n",
              "        [-0.25344348,  0.7418406 ],\n",
              "        [ 0.17273855,  0.20606709]], dtype=float32)>,\n",
              " <tf.Variable 'dense/bias:0' shape=(2,) dtype=float32, numpy=array([0., 0.], dtype=float32)>,\n",
              " <tf.Variable 'dense_1/kernel:0' shape=(2, 3) dtype=float32, numpy=\n",
              " array([[-0.77558506, -0.82264894, -0.5395209 ],\n",
              "        [ 0.97100043, -0.6951026 , -0.8064376 ]], dtype=float32)>,\n",
              " <tf.Variable 'dense_1/bias:0' shape=(3,) dtype=float32, numpy=array([0., 0., 0.], dtype=float32)>,\n",
              " <tf.Variable 'dense_2/kernel:0' shape=(3, 4) dtype=float32, numpy=\n",
              " array([[-0.32074714,  0.391083  , -0.7807508 ,  0.6154927 ],\n",
              "        [-0.30817884, -0.67402387, -0.03179568,  0.3752663 ],\n",
              "        [ 0.20021737,  0.35356104, -0.600866  ,  0.1263684 ]],\n",
              "       dtype=float32)>,\n",
              " <tf.Variable 'dense_2/bias:0' shape=(4,) dtype=float32, numpy=array([0., 0., 0., 0.], dtype=float32)>]"
            ]
          },
          "metadata": {},
          "execution_count": 6
        }
      ]
    },
    {
      "cell_type": "markdown",
      "source": [
        "It can be helpful to note that there's also a corresponding `pop()` method to remove layers; a `Sequential` model behaves very much like a list of layers:"
      ],
      "metadata": {
        "id": "1py6LHXuZ-pf"
      }
    },
    {
      "cell_type": "code",
      "source": [
        "model.pop()\n",
        "model.layers"
      ],
      "metadata": {
        "colab": {
          "base_uri": "https://localhost:8080/"
        },
        "id": "84srS1dxODJg",
        "outputId": "4175ff5a-c37b-4daa-cd1f-e1fd01568f0f"
      },
      "execution_count": 8,
      "outputs": [
        {
          "output_type": "execute_result",
          "data": {
            "text/plain": [
              "[<keras.layers.core.dense.Dense at 0x7fcb8ea1a0d0>,\n",
              " <keras.layers.core.dense.Dense at 0x7fcb23bc9650>]"
            ]
          },
          "metadata": {},
          "execution_count": 8
        }
      ]
    },
    {
      "cell_type": "code",
      "source": [
        "model.summary()"
      ],
      "metadata": {
        "colab": {
          "base_uri": "https://localhost:8080/"
        },
        "id": "zC828yXbZICX",
        "outputId": "138a1508-b41f-404e-eff4-c79288df0bce"
      },
      "execution_count": null,
      "outputs": [
        {
          "output_type": "stream",
          "name": "stdout",
          "text": [
            "Model: \"sequential\"\n",
            "_________________________________________________________________\n",
            " Layer (type)                Output Shape              Param #   \n",
            "=================================================================\n",
            " dense (Dense)               (1, 2)                    10        \n",
            "                                                                 \n",
            " dense_1 (Dense)             (1, 3)                    9         \n",
            "                                                                 \n",
            "=================================================================\n",
            "Total params: 19\n",
            "Trainable params: 19\n",
            "Non-trainable params: 0\n",
            "_________________________________________________________________\n"
          ]
        }
      ]
    },
    {
      "cell_type": "markdown",
      "source": [
        "Additionally, you'll likely recall that a `Sequential` model can also be created incrementally via the `add()` method:"
      ],
      "metadata": {
        "id": "yX2OgXPLZV54"
      }
    },
    {
      "cell_type": "code",
      "source": [
        "model.add(layers.Dense(4))\n",
        "model.summary()"
      ],
      "metadata": {
        "colab": {
          "base_uri": "https://localhost:8080/"
        },
        "id": "hCZHCQzLZAZL",
        "outputId": "1d4a662b-258a-406e-e4bf-7c3650c9932b"
      },
      "execution_count": 9,
      "outputs": [
        {
          "output_type": "stream",
          "name": "stdout",
          "text": [
            "Model: \"sequential\"\n",
            "_________________________________________________________________\n",
            " Layer (type)                Output Shape              Param #   \n",
            "=================================================================\n",
            " dense (Dense)               (1, 2)                    10        \n",
            "                                                                 \n",
            " dense_1 (Dense)             (1, 3)                    9         \n",
            "                                                                 \n",
            " dense_3 (Dense)             (1, 4)                    16        \n",
            "                                                                 \n",
            "=================================================================\n",
            "Total params: 35\n",
            "Trainable params: 35\n",
            "Non-trainable params: 0\n",
            "_________________________________________________________________\n"
          ]
        }
      ]
    },
    {
      "cell_type": "markdown",
      "source": [
        "## Back to Our Example: A Digit Classifier"
      ],
      "metadata": {
        "id": "udUKmJrBanPr"
      }
    },
    {
      "cell_type": "code",
      "execution_count": 10,
      "metadata": {
        "id": "WwTrrPS410Pn"
      },
      "outputs": [],
      "source": [
        "from sklearn.datasets import load_sample_images\n",
        "from sklearn.datasets import load_digits\n",
        "from sklearn.model_selection import train_test_split, cross_val_score\n",
        "from sklearn.preprocessing import OneHotEncoder\n",
        "from sklearn.metrics import accuracy_score, confusion_matrix\n",
        "import matplotlib.pyplot as plt\n",
        "import matplotlib.image as mpimg\n",
        "import numpy as np\n",
        "import seaborn as sns\n",
        "\n",
        "import tensorflow as tf\n",
        "\n",
        "from tensorflow.keras.models import Sequential\n",
        "from tensorflow.keras.layers import Dense, Dropout\n",
        "from tensorflow.keras.regularizers import l2\n",
        "from tensorflow.keras.optimizers import SGD\n",
        "from tensorflow.keras.wrappers import scikit_learn\n",
        "from tensorflow.keras.callbacks import EarlyStopping\n",
        "\n",
        "import os\n",
        "import sys\n",
        "module_path = os.path.abspath(os.path.join(os.pardir, os.pardir))\n",
        "if module_path not in sys.path:\n",
        "    sys.path.append(module_path)\n",
        "    \n",
        "%load_ext autoreload\n",
        "%autoreload 2"
      ]
    },
    {
      "cell_type": "markdown",
      "metadata": {
        "id": "7-7JpvwA10Po"
      },
      "source": [
        "### Load the Digits Dataset (Again)"
      ]
    },
    {
      "cell_type": "code",
      "execution_count": 11,
      "metadata": {
        "id": "ejJ5wKfv10Po"
      },
      "outputs": [],
      "source": [
        "# Load and return the digits dataset (classification).\n",
        "# Each datapoint is a 8x8 image of a digit.\n",
        "\n",
        "digits = load_digits()\n",
        "\n",
        "# Defining feature variables\n",
        "X = digits.data\n",
        "\n",
        "# Defining target variable\n",
        "y = digits.target\n",
        "\n",
        "# To tag each value as even or odd (0 is even, 1 is odd)\n",
        "y_binary = y % 2"
      ]
    },
    {
      "cell_type": "code",
      "source": [
        "y_binary"
      ],
      "metadata": {
        "colab": {
          "base_uri": "https://localhost:8080/"
        },
        "id": "UUe5r8pmEWj4",
        "outputId": "04111636-1762-4763-c27f-38280b5c988f"
      },
      "execution_count": null,
      "outputs": [
        {
          "output_type": "execute_result",
          "data": {
            "text/plain": [
              "array([0, 1, 0, ..., 0, 1, 0])"
            ]
          },
          "metadata": {},
          "execution_count": 14
        }
      ]
    },
    {
      "cell_type": "markdown",
      "source": [
        "### Defining the Input Layer of Our Model Architecture ([Source](https://www.tensorflow.org/api_docs/python/tf/keras/layers/InputLayer))\n",
        "\n",
        "One way is to define the input layer explicitly:"
      ],
      "metadata": {
        "id": "SBPt3KGAzsYB"
      }
    },
    {
      "cell_type": "code",
      "source": [
        "model = Sequential([tf.keras.layers.InputLayer(input_shape=(64,))])\n",
        "model.add(Dense(8, activation='relu'))\n",
        "model.add(Dense(1, activation='sigmoid'))\n",
        "\n",
        "model.compile(optimizer='rmsprop',\n",
        "              loss='binary_crossentropy',\n",
        "              metrics=['accuracy'])\n",
        "\n",
        "model.fit(X, y_binary, epochs=50, batch_size=10)"
      ],
      "metadata": {
        "colab": {
          "base_uri": "https://localhost:8080/"
        },
        "id": "89-eJlXz0D-g",
        "outputId": "439b755f-8115-4b07-8b37-911353784cb0"
      },
      "execution_count": 12,
      "outputs": [
        {
          "output_type": "stream",
          "name": "stdout",
          "text": [
            "Epoch 1/50\n",
            "180/180 [==============================] - 1s 2ms/step - loss: 0.7703 - accuracy: 0.6778\n",
            "Epoch 2/50\n",
            "180/180 [==============================] - 0s 2ms/step - loss: 0.3392 - accuracy: 0.8470\n",
            "Epoch 3/50\n",
            "180/180 [==============================] - 0s 2ms/step - loss: 0.2360 - accuracy: 0.9004\n",
            "Epoch 4/50\n",
            "180/180 [==============================] - 0s 2ms/step - loss: 0.1850 - accuracy: 0.9215\n",
            "Epoch 5/50\n",
            "180/180 [==============================] - 0s 2ms/step - loss: 0.1593 - accuracy: 0.9304\n",
            "Epoch 6/50\n",
            "180/180 [==============================] - 0s 2ms/step - loss: 0.1377 - accuracy: 0.9427\n",
            "Epoch 7/50\n",
            "180/180 [==============================] - 0s 2ms/step - loss: 0.1225 - accuracy: 0.9516\n",
            "Epoch 8/50\n",
            "180/180 [==============================] - 0s 2ms/step - loss: 0.1105 - accuracy: 0.9538\n",
            "Epoch 9/50\n",
            "180/180 [==============================] - 0s 2ms/step - loss: 0.1042 - accuracy: 0.9588\n",
            "Epoch 10/50\n",
            "180/180 [==============================] - 0s 2ms/step - loss: 0.0977 - accuracy: 0.9622\n",
            "Epoch 11/50\n",
            "180/180 [==============================] - 0s 2ms/step - loss: 0.0896 - accuracy: 0.9644\n",
            "Epoch 12/50\n",
            "180/180 [==============================] - 0s 2ms/step - loss: 0.0848 - accuracy: 0.9672\n",
            "Epoch 13/50\n",
            "180/180 [==============================] - 0s 2ms/step - loss: 0.0790 - accuracy: 0.9649\n",
            "Epoch 14/50\n",
            "180/180 [==============================] - 0s 2ms/step - loss: 0.0741 - accuracy: 0.9716\n",
            "Epoch 15/50\n",
            "180/180 [==============================] - 0s 2ms/step - loss: 0.0704 - accuracy: 0.9705\n",
            "Epoch 16/50\n",
            "180/180 [==============================] - 0s 2ms/step - loss: 0.0683 - accuracy: 0.9688\n",
            "Epoch 17/50\n",
            "180/180 [==============================] - 0s 2ms/step - loss: 0.0659 - accuracy: 0.9727\n",
            "Epoch 18/50\n",
            "180/180 [==============================] - 0s 2ms/step - loss: 0.0621 - accuracy: 0.9750\n",
            "Epoch 19/50\n",
            "180/180 [==============================] - 0s 2ms/step - loss: 0.0578 - accuracy: 0.9783\n",
            "Epoch 20/50\n",
            "180/180 [==============================] - 0s 2ms/step - loss: 0.0574 - accuracy: 0.9789\n",
            "Epoch 21/50\n",
            "180/180 [==============================] - 0s 2ms/step - loss: 0.0544 - accuracy: 0.9794\n",
            "Epoch 22/50\n",
            "180/180 [==============================] - 0s 2ms/step - loss: 0.0467 - accuracy: 0.9844\n",
            "Epoch 23/50\n",
            "180/180 [==============================] - 0s 2ms/step - loss: 0.0515 - accuracy: 0.9816\n",
            "Epoch 24/50\n",
            "180/180 [==============================] - 0s 2ms/step - loss: 0.0482 - accuracy: 0.9800\n",
            "Epoch 25/50\n",
            "180/180 [==============================] - 0s 2ms/step - loss: 0.0457 - accuracy: 0.9805\n",
            "Epoch 26/50\n",
            "180/180 [==============================] - 0s 2ms/step - loss: 0.0423 - accuracy: 0.9855\n",
            "Epoch 27/50\n",
            "180/180 [==============================] - 0s 2ms/step - loss: 0.0383 - accuracy: 0.9883\n",
            "Epoch 28/50\n",
            "180/180 [==============================] - 0s 2ms/step - loss: 0.0371 - accuracy: 0.9894\n",
            "Epoch 29/50\n",
            "180/180 [==============================] - 0s 2ms/step - loss: 0.0346 - accuracy: 0.9894\n",
            "Epoch 30/50\n",
            "180/180 [==============================] - 0s 2ms/step - loss: 0.0343 - accuracy: 0.9911\n",
            "Epoch 31/50\n",
            "180/180 [==============================] - 0s 2ms/step - loss: 0.0330 - accuracy: 0.9861\n",
            "Epoch 32/50\n",
            "180/180 [==============================] - 0s 2ms/step - loss: 0.0294 - accuracy: 0.9917\n",
            "Epoch 33/50\n",
            "180/180 [==============================] - 0s 2ms/step - loss: 0.0289 - accuracy: 0.9894\n",
            "Epoch 34/50\n",
            "180/180 [==============================] - 0s 2ms/step - loss: 0.0281 - accuracy: 0.9917\n",
            "Epoch 35/50\n",
            "180/180 [==============================] - 0s 2ms/step - loss: 0.0260 - accuracy: 0.9911\n",
            "Epoch 36/50\n",
            "180/180 [==============================] - 0s 2ms/step - loss: 0.0249 - accuracy: 0.9928\n",
            "Epoch 37/50\n",
            "180/180 [==============================] - 0s 2ms/step - loss: 0.0224 - accuracy: 0.9922\n",
            "Epoch 38/50\n",
            "180/180 [==============================] - 0s 2ms/step - loss: 0.0226 - accuracy: 0.9939\n",
            "Epoch 39/50\n",
            "180/180 [==============================] - 0s 1ms/step - loss: 0.0201 - accuracy: 0.9922\n",
            "Epoch 40/50\n",
            "180/180 [==============================] - 0s 2ms/step - loss: 0.0203 - accuracy: 0.9922\n",
            "Epoch 41/50\n",
            "180/180 [==============================] - 0s 2ms/step - loss: 0.0189 - accuracy: 0.9939\n",
            "Epoch 42/50\n",
            "180/180 [==============================] - 0s 2ms/step - loss: 0.0173 - accuracy: 0.9950\n",
            "Epoch 43/50\n",
            "180/180 [==============================] - 0s 2ms/step - loss: 0.0170 - accuracy: 0.9955\n",
            "Epoch 44/50\n",
            "180/180 [==============================] - 0s 2ms/step - loss: 0.0158 - accuracy: 0.9961\n",
            "Epoch 45/50\n",
            "180/180 [==============================] - 0s 2ms/step - loss: 0.0151 - accuracy: 0.9944\n",
            "Epoch 46/50\n",
            "180/180 [==============================] - 0s 2ms/step - loss: 0.0140 - accuracy: 0.9955\n",
            "Epoch 47/50\n",
            "180/180 [==============================] - 0s 2ms/step - loss: 0.0146 - accuracy: 0.9967\n",
            "Epoch 48/50\n",
            "180/180 [==============================] - 0s 2ms/step - loss: 0.0138 - accuracy: 0.9967\n",
            "Epoch 49/50\n",
            "180/180 [==============================] - 0s 2ms/step - loss: 0.0137 - accuracy: 0.9972\n",
            "Epoch 50/50\n",
            "180/180 [==============================] - 0s 2ms/step - loss: 0.0112 - accuracy: 0.9972\n"
          ]
        },
        {
          "output_type": "execute_result",
          "data": {
            "text/plain": [
              "<keras.callbacks.History at 0x7fcb1d728250>"
            ]
          },
          "metadata": {},
          "execution_count": 12
        }
      ]
    },
    {
      "cell_type": "markdown",
      "source": [
        "Otherwise, it is implicitly created:"
      ],
      "metadata": {
        "id": "Ew8EXENh11rQ"
      }
    },
    {
      "cell_type": "code",
      "execution_count": 13,
      "metadata": {
        "colab": {
          "base_uri": "https://localhost:8080/"
        },
        "id": "uws-r3a010Pp",
        "outputId": "4861aee2-f032-4bfe-eb8c-9ade2ec7b29c"
      },
      "outputs": [
        {
          "output_type": "stream",
          "name": "stdout",
          "text": [
            "Epoch 1/50\n",
            "180/180 [==============================] - 1s 2ms/step - loss: 0.6730 - accuracy: 0.6266\n",
            "Epoch 2/50\n",
            "180/180 [==============================] - 0s 2ms/step - loss: 0.3757 - accuracy: 0.8286\n",
            "Epoch 3/50\n",
            "180/180 [==============================] - 0s 2ms/step - loss: 0.2744 - accuracy: 0.8898\n",
            "Epoch 4/50\n",
            "180/180 [==============================] - 0s 2ms/step - loss: 0.2249 - accuracy: 0.9054\n",
            "Epoch 5/50\n",
            "180/180 [==============================] - 0s 2ms/step - loss: 0.1951 - accuracy: 0.9215\n",
            "Epoch 6/50\n",
            "180/180 [==============================] - 0s 2ms/step - loss: 0.1751 - accuracy: 0.9304\n",
            "Epoch 7/50\n",
            "180/180 [==============================] - 0s 2ms/step - loss: 0.1576 - accuracy: 0.9416\n",
            "Epoch 8/50\n",
            "180/180 [==============================] - 0s 2ms/step - loss: 0.1391 - accuracy: 0.9438\n",
            "Epoch 9/50\n",
            "180/180 [==============================] - 0s 2ms/step - loss: 0.1240 - accuracy: 0.9488\n",
            "Epoch 10/50\n",
            "180/180 [==============================] - 0s 2ms/step - loss: 0.1099 - accuracy: 0.9610\n",
            "Epoch 11/50\n",
            "180/180 [==============================] - 0s 2ms/step - loss: 0.1023 - accuracy: 0.9622\n",
            "Epoch 12/50\n",
            "180/180 [==============================] - 0s 2ms/step - loss: 0.0916 - accuracy: 0.9644\n",
            "Epoch 13/50\n",
            "180/180 [==============================] - 0s 2ms/step - loss: 0.0857 - accuracy: 0.9672\n",
            "Epoch 14/50\n",
            "180/180 [==============================] - 0s 2ms/step - loss: 0.0804 - accuracy: 0.9727\n",
            "Epoch 15/50\n",
            "180/180 [==============================] - 0s 2ms/step - loss: 0.0723 - accuracy: 0.9733\n",
            "Epoch 16/50\n",
            "180/180 [==============================] - 0s 2ms/step - loss: 0.0693 - accuracy: 0.9738\n",
            "Epoch 17/50\n",
            "180/180 [==============================] - 0s 2ms/step - loss: 0.0637 - accuracy: 0.9772\n",
            "Epoch 18/50\n",
            "180/180 [==============================] - 0s 2ms/step - loss: 0.0603 - accuracy: 0.9789\n",
            "Epoch 19/50\n",
            "180/180 [==============================] - 0s 2ms/step - loss: 0.0533 - accuracy: 0.9816\n",
            "Epoch 20/50\n",
            "180/180 [==============================] - 0s 2ms/step - loss: 0.0545 - accuracy: 0.9816\n",
            "Epoch 21/50\n",
            "180/180 [==============================] - 0s 2ms/step - loss: 0.0507 - accuracy: 0.9839\n",
            "Epoch 22/50\n",
            "180/180 [==============================] - 0s 2ms/step - loss: 0.0452 - accuracy: 0.9816\n",
            "Epoch 23/50\n",
            "180/180 [==============================] - 0s 2ms/step - loss: 0.0454 - accuracy: 0.9805\n",
            "Epoch 24/50\n",
            "180/180 [==============================] - 0s 2ms/step - loss: 0.0373 - accuracy: 0.9816\n",
            "Epoch 25/50\n",
            "180/180 [==============================] - 0s 2ms/step - loss: 0.0402 - accuracy: 0.9855\n",
            "Epoch 26/50\n",
            "180/180 [==============================] - 0s 2ms/step - loss: 0.0356 - accuracy: 0.9855\n",
            "Epoch 27/50\n",
            "180/180 [==============================] - 0s 2ms/step - loss: 0.0344 - accuracy: 0.9872\n",
            "Epoch 28/50\n",
            "180/180 [==============================] - 0s 2ms/step - loss: 0.0362 - accuracy: 0.9878\n",
            "Epoch 29/50\n",
            "180/180 [==============================] - 0s 2ms/step - loss: 0.0314 - accuracy: 0.9889\n",
            "Epoch 30/50\n",
            "180/180 [==============================] - 0s 2ms/step - loss: 0.0304 - accuracy: 0.9894\n",
            "Epoch 31/50\n",
            "180/180 [==============================] - 0s 2ms/step - loss: 0.0277 - accuracy: 0.9894\n",
            "Epoch 32/50\n",
            "180/180 [==============================] - 0s 2ms/step - loss: 0.0279 - accuracy: 0.9883\n",
            "Epoch 33/50\n",
            "180/180 [==============================] - 0s 2ms/step - loss: 0.0284 - accuracy: 0.9872\n",
            "Epoch 34/50\n",
            "180/180 [==============================] - 0s 2ms/step - loss: 0.0255 - accuracy: 0.9911\n",
            "Epoch 35/50\n",
            "180/180 [==============================] - 0s 2ms/step - loss: 0.0254 - accuracy: 0.9889\n",
            "Epoch 36/50\n",
            "180/180 [==============================] - 0s 2ms/step - loss: 0.0244 - accuracy: 0.9911\n",
            "Epoch 37/50\n",
            "180/180 [==============================] - 0s 2ms/step - loss: 0.0233 - accuracy: 0.9917\n",
            "Epoch 38/50\n",
            "180/180 [==============================] - 0s 2ms/step - loss: 0.0226 - accuracy: 0.9922\n",
            "Epoch 39/50\n",
            "180/180 [==============================] - 0s 2ms/step - loss: 0.0222 - accuracy: 0.9917\n",
            "Epoch 40/50\n",
            "180/180 [==============================] - 0s 2ms/step - loss: 0.0218 - accuracy: 0.9922\n",
            "Epoch 41/50\n",
            "180/180 [==============================] - 0s 2ms/step - loss: 0.0213 - accuracy: 0.9922\n",
            "Epoch 42/50\n",
            "180/180 [==============================] - 0s 2ms/step - loss: 0.0216 - accuracy: 0.9917\n",
            "Epoch 43/50\n",
            "180/180 [==============================] - 0s 2ms/step - loss: 0.0204 - accuracy: 0.9922\n",
            "Epoch 44/50\n",
            "180/180 [==============================] - 0s 2ms/step - loss: 0.0181 - accuracy: 0.9922\n",
            "Epoch 45/50\n",
            "180/180 [==============================] - 0s 2ms/step - loss: 0.0195 - accuracy: 0.9928\n",
            "Epoch 46/50\n",
            "180/180 [==============================] - 0s 2ms/step - loss: 0.0183 - accuracy: 0.9939\n",
            "Epoch 47/50\n",
            "180/180 [==============================] - 0s 2ms/step - loss: 0.0181 - accuracy: 0.9928\n",
            "Epoch 48/50\n",
            "180/180 [==============================] - 0s 2ms/step - loss: 0.0153 - accuracy: 0.9933\n",
            "Epoch 49/50\n",
            "180/180 [==============================] - 0s 2ms/step - loss: 0.0151 - accuracy: 0.9917\n",
            "Epoch 50/50\n",
            "180/180 [==============================] - 0s 2ms/step - loss: 0.0176 - accuracy: 0.9922\n"
          ]
        },
        {
          "output_type": "execute_result",
          "data": {
            "text/plain": [
              "<keras.callbacks.History at 0x7fcb1d4a9650>"
            ]
          },
          "metadata": {},
          "execution_count": 13
        }
      ],
      "source": [
        "model = Sequential()\n",
        "model.add(Dense(12, activation='relu', input_dim=64))\n",
        "model.add(Dense(8, activation='relu'))\n",
        "model.add(Dense(1, activation='sigmoid'))\n",
        "\n",
        "model.compile(optimizer='rmsprop',\n",
        "              loss='binary_crossentropy',\n",
        "              metrics=['accuracy'])\n",
        "\n",
        "model.fit(X, y_binary, epochs=50, batch_size=10)"
      ]
    },
    {
      "cell_type": "markdown",
      "metadata": {
        "id": "xDR44wSk10Pp"
      },
      "source": [
        "**It is generally recommend to use the Keras Functional model via `Input`,\n",
        "(which creates an `InputLayer`) without directly using `InputLayer`.**\n",
        "\n",
        "\n",
        "### Things to know:\n",
        "\n",
        "- The data and labels in `fit()` need to be numpy arrays, not `pandas` dfs.\n",
        "- Scaling your data will have a large impact on your model.\n",
        "   > For our traditional input features, we would use a scaler object. For images, as long as the minimum value is 0, we can simply divide through by the maximum pixel intensity."
      ]
    },
    {
      "cell_type": "markdown",
      "metadata": {
        "id": "Z8raDPai10Pp"
      },
      "source": [
        "#### Getting data ready for modeling\n",
        "**Preprocessing**:\n",
        "\n",
        "- use train_test_split to create X_train, y_train, X_test, and y_test\n",
        "- Split training data into pure_train and validation sets.\n",
        "- Scale the pixel intensity to a value between 0 and 1."
      ]
    },
    {
      "cell_type": "markdown",
      "metadata": {
        "id": "81b4Rp2X10Pp"
      },
      "source": [
        "Scaling our input variables will help speed up our neural network.\n",
        "\n",
        "Since our minimum intensity is 0, we can normalize the inputs by dividing each value by the max value (16)."
      ]
    },
    {
      "cell_type": "code",
      "execution_count": 14,
      "metadata": {
        "id": "_XQN6A5910Pq"
      },
      "outputs": [],
      "source": [
        "X_train, X_test, y_train, y_test =\\\n",
        "    train_test_split(X, y_binary, random_state=42, test_size=0.2)\n",
        "\n",
        "X_pure_train, X_val, y_pure_train, y_val =\\\n",
        "    train_test_split(X_train, y_train, random_state=42, test_size=0.2)\n",
        "\n",
        "X_pure_train, X_val, X_test = X_pure_train/16, X_val/16, X_test/16"
      ]
    },
    {
      "cell_type": "code",
      "source": [
        "X_pure_train[0]"
      ],
      "metadata": {
        "colab": {
          "base_uri": "https://localhost:8080/"
        },
        "id": "2WngiBUTbcKm",
        "outputId": "1e2244a2-657f-433b-e160-550360bcd9db"
      },
      "execution_count": 17,
      "outputs": [
        {
          "output_type": "execute_result",
          "data": {
            "text/plain": [
              "array([0.    , 0.    , 0.    , 0.25  , 0.875 , 0.875 , 0.0625, 0.    ,\n",
              "       0.    , 0.    , 0.1875, 0.875 , 0.75  , 0.625 , 0.25  , 0.    ,\n",
              "       0.    , 0.1875, 0.8125, 0.25  , 0.    , 0.5   , 0.375 , 0.    ,\n",
              "       0.    , 0.1875, 0.9375, 0.5625, 0.125 , 0.9375, 0.0625, 0.    ,\n",
              "       0.    , 0.    , 0.125 , 0.625 , 1.    , 0.8125, 0.    , 0.    ,\n",
              "       0.    , 0.    , 0.    , 0.    , 0.75  , 0.875 , 0.25  , 0.    ,\n",
              "       0.    , 0.    , 0.    , 0.125 , 0.75  , 0.5625, 0.1875, 0.    ,\n",
              "       0.    , 0.    , 0.    , 0.125 , 1.    , 0.875 , 0.    , 0.    ])"
            ]
          },
          "metadata": {},
          "execution_count": 17
        }
      ]
    },
    {
      "cell_type": "markdown",
      "metadata": {
        "id": "hyMfxZGY10Pq"
      },
      "source": [
        "For activation, let's start with the familiar sigmoid function, and see how it performs."
      ]
    },
    {
      "cell_type": "code",
      "execution_count": 18,
      "metadata": {
        "colab": {
          "base_uri": "https://localhost:8080/"
        },
        "id": "XXCc1-aJ10Pq",
        "outputId": "f9f672f1-93ab-41bf-8b30-84692069a586"
      },
      "outputs": [
        {
          "output_type": "stream",
          "name": "stdout",
          "text": [
            "Epoch 1/10\n",
            "12/12 [==============================] - 1s 2ms/step - loss: 0.7483 - accuracy: 0.4961\n",
            "Epoch 2/10\n",
            "12/12 [==============================] - 0s 2ms/step - loss: 0.7392 - accuracy: 0.4961\n",
            "Epoch 3/10\n",
            "12/12 [==============================] - 0s 2ms/step - loss: 0.7312 - accuracy: 0.4961\n",
            "Epoch 4/10\n",
            "12/12 [==============================] - 0s 2ms/step - loss: 0.7244 - accuracy: 0.4961\n",
            "Epoch 5/10\n",
            "12/12 [==============================] - 0s 2ms/step - loss: 0.7187 - accuracy: 0.4961\n",
            "Epoch 6/10\n",
            "12/12 [==============================] - 0s 2ms/step - loss: 0.7138 - accuracy: 0.4961\n",
            "Epoch 7/10\n",
            "12/12 [==============================] - 0s 2ms/step - loss: 0.7096 - accuracy: 0.4961\n",
            "Epoch 8/10\n",
            "12/12 [==============================] - 0s 2ms/step - loss: 0.7060 - accuracy: 0.4961\n",
            "Epoch 9/10\n",
            "12/12 [==============================] - 0s 2ms/step - loss: 0.7031 - accuracy: 0.4961\n",
            "Epoch 10/10\n",
            "12/12 [==============================] - 0s 2ms/step - loss: 0.7005 - accuracy: 0.4961\n"
          ]
        }
      ],
      "source": [
        "model = Sequential()\n",
        "# We will start with our trusty sigmoid function.\n",
        "# What does input dimension correspond to?\n",
        "model.add(Dense(12, activation='sigmoid', input_dim=64))\n",
        "model.add(Dense(8, activation='sigmoid'))\n",
        "model.add(Dense(1, activation='sigmoid'))\n",
        "\n",
        "model.compile(optimizer='SGD' ,\n",
        "              # We use binary_crossentropy for a binary loss function\n",
        "              loss='binary_crossentropy',\n",
        "              metrics=['accuracy'])\n",
        "\n",
        "# Assign the variable history to store the results,\n",
        "# and set verbose=1 so we can see the output. To see\n",
        "# only the metrics at the end of each epoch, set verbose=2.\n",
        "results = model.fit(X_pure_train, y_pure_train, epochs=10, batch_size=100, verbose=1)"
      ]
    },
    {
      "cell_type": "markdown",
      "metadata": {
        "id": "HRkFQaDC10Pq"
      },
      "source": [
        "We can access the history of our model via `results.history`.\n",
        "Use __dict__ to take a tour."
      ]
    },
    {
      "cell_type": "code",
      "execution_count": 19,
      "metadata": {
        "colab": {
          "base_uri": "https://localhost:8080/"
        },
        "id": "sHlurINo10Pq",
        "outputId": "5765be81-fe8c-4a0c-b1be-6c7a919c40c3"
      },
      "outputs": [
        {
          "output_type": "execute_result",
          "data": {
            "text/plain": [
              "{'validation_data': None,\n",
              " 'model': <keras.engine.sequential.Sequential at 0x7fcb1d366790>,\n",
              " '_chief_worker_only': None,\n",
              " '_supports_tf_logs': False,\n",
              " 'history': {'loss': [0.7482613325119019,\n",
              "   0.7391794919967651,\n",
              "   0.7311850786209106,\n",
              "   0.7244330048561096,\n",
              "   0.7187138199806213,\n",
              "   0.713784396648407,\n",
              "   0.7095718383789062,\n",
              "   0.706048309803009,\n",
              "   0.7031418085098267,\n",
              "   0.7005334496498108],\n",
              "  'accuracy': [0.4960835576057434,\n",
              "   0.4960835576057434,\n",
              "   0.4960835576057434,\n",
              "   0.4960835576057434,\n",
              "   0.4960835576057434,\n",
              "   0.4960835576057434,\n",
              "   0.4960835576057434,\n",
              "   0.4960835576057434,\n",
              "   0.4960835576057434,\n",
              "   0.4960835576057434]},\n",
              " 'params': {'verbose': 1, 'epochs': 10, 'steps': 12},\n",
              " 'epoch': [0, 1, 2, 3, 4, 5, 6, 7, 8, 9]}"
            ]
          },
          "metadata": {},
          "execution_count": 19
        }
      ],
      "source": [
        "results.__dict__"
      ]
    },
    {
      "cell_type": "code",
      "source": [
        "len(X_pure_train)\n",
        "\n",
        "# ~1,200 images / 100 images per epoch = 12 steps"
      ],
      "metadata": {
        "colab": {
          "base_uri": "https://localhost:8080/"
        },
        "id": "E_bNwsbaqFzH",
        "outputId": "8b0a16b6-2026-43c0-b85d-c631e5d70570"
      },
      "execution_count": null,
      "outputs": [
        {
          "output_type": "execute_result",
          "data": {
            "text/plain": [
              "1149"
            ]
          },
          "metadata": {},
          "execution_count": 61
        }
      ]
    },
    {
      "cell_type": "code",
      "execution_count": 20,
      "metadata": {
        "colab": {
          "base_uri": "https://localhost:8080/",
          "height": 320
        },
        "id": "zufk1vG610Pr",
        "outputId": "e7baebf5-7300-4142-eab7-3b47b5564f4b"
      },
      "outputs": [
        {
          "output_type": "display_data",
          "data": {
            "text/plain": [
              "<Figure size 720x360 with 2 Axes>"
            ],
            "image/png": "[encoded data removed]"
          },
          "metadata": {
            "needs_background": "light"
          }
        }
      ],
      "source": [
        "sigmoid_loss = results.history['loss']\n",
        "sigmoid_accuracy = results.history['accuracy']\n",
        "\n",
        "fig, (ax1, ax2) = plt.subplots(1, 2, figsize=(10, 5))\n",
        "sns.lineplot(x=results.epoch, y=sigmoid_loss, ax=ax1, label='loss')\n",
        "sns.lineplot(x=results.epoch, y=sigmoid_accuracy, ax=ax2, label='accuracy');"
      ]
    },
    {
      "cell_type": "markdown",
      "metadata": {
        "id": "jYJxMRav10Pr"
      },
      "source": [
        "We have two plots above both relating to the quality of our model.  The left-hand plot is our loss. It uses the probabilities associated with our predictions to judge how well our prediction fits reality. We want it to decrease as far as possible.\n",
        "\n",
        "The accuracy judges how well the predictions are after applying the threshold at the output layer.  We want accuracy to increase."
      ]
    },
    {
      "cell_type": "markdown",
      "metadata": {
        "id": "tGIOUB6d10Pr"
      },
      "source": [
        "If we look at our loss, it is still decreasing. That is a signal that our model is **still learning**. If our model is still learning, we can allow it to get better by turning a few dials.\n",
        "\n",
        "Let's:\n",
        "- increase the number of epochs;\n",
        "- change sigmoid activation in the hidden layers to ReLU; and\n",
        "- decrease the batch size."
      ]
    },
    {
      "cell_type": "code",
      "execution_count": null,
      "metadata": {
        "colab": {
          "base_uri": "https://localhost:8080/"
        },
        "id": "tpcuY6pB10Pr",
        "outputId": "c257be1f-b8dc-4001-fafa-ccb1a0b4d0bc"
      },
      "outputs": [
        {
          "output_type": "execute_result",
          "data": {
            "text/plain": [
              "1149"
            ]
          },
          "metadata": {},
          "execution_count": 44
        }
      ],
      "source": [
        "X_pure_train.shape[0]"
      ]
    },
    {
      "cell_type": "code",
      "execution_count": 21,
      "metadata": {
        "colab": {
          "base_uri": "https://localhost:8080/"
        },
        "id": "q7a4pzVw10Pr",
        "outputId": "6fdf37e6-bfb8-4ee9-e24c-a132cf5fd9d6"
      },
      "outputs": [
        {
          "output_type": "stream",
          "name": "stdout",
          "text": [
            "Epoch 1/100\n",
            "36/36 [==============================] - 0s 2ms/step - loss: 0.6862 - accuracy: 0.5605\n",
            "Epoch 2/100\n",
            "36/36 [==============================] - 0s 2ms/step - loss: 0.6737 - accuracy: 0.6327\n",
            "Epoch 3/100\n",
            "36/36 [==============================] - 0s 2ms/step - loss: 0.6606 - accuracy: 0.6989\n",
            "Epoch 4/100\n",
            "36/36 [==============================] - 0s 2ms/step - loss: 0.6479 - accuracy: 0.7241\n",
            "Epoch 5/100\n",
            "36/36 [==============================] - 0s 2ms/step - loss: 0.6340 - accuracy: 0.7467\n",
            "Epoch 6/100\n",
            "36/36 [==============================] - 0s 2ms/step - loss: 0.6187 - accuracy: 0.7563\n",
            "Epoch 7/100\n",
            "36/36 [==============================] - 0s 2ms/step - loss: 0.6010 - accuracy: 0.7798\n",
            "Epoch 8/100\n",
            "36/36 [==============================] - 0s 2ms/step - loss: 0.5812 - accuracy: 0.7920\n",
            "Epoch 9/100\n",
            "36/36 [==============================] - 0s 2ms/step - loss: 0.5592 - accuracy: 0.8050\n",
            "Epoch 10/100\n",
            "36/36 [==============================] - 0s 2ms/step - loss: 0.5361 - accuracy: 0.8181\n",
            "Epoch 11/100\n",
            "36/36 [==============================] - 0s 2ms/step - loss: 0.5125 - accuracy: 0.8251\n",
            "Epoch 12/100\n",
            "36/36 [==============================] - 0s 2ms/step - loss: 0.4889 - accuracy: 0.8285\n",
            "Epoch 13/100\n",
            "36/36 [==============================] - 0s 2ms/step - loss: 0.4660 - accuracy: 0.8303\n",
            "Epoch 14/100\n",
            "36/36 [==============================] - 0s 2ms/step - loss: 0.4445 - accuracy: 0.8346\n",
            "Epoch 15/100\n",
            "36/36 [==============================] - 0s 2ms/step - loss: 0.4244 - accuracy: 0.8433\n",
            "Epoch 16/100\n",
            "36/36 [==============================] - 0s 2ms/step - loss: 0.4056 - accuracy: 0.8442\n",
            "Epoch 17/100\n",
            "36/36 [==============================] - 0s 2ms/step - loss: 0.3900 - accuracy: 0.8538\n",
            "Epoch 18/100\n",
            "36/36 [==============================] - 0s 2ms/step - loss: 0.3753 - accuracy: 0.8547\n",
            "Epoch 19/100\n",
            "36/36 [==============================] - 0s 2ms/step - loss: 0.3621 - accuracy: 0.8616\n",
            "Epoch 20/100\n",
            "36/36 [==============================] - 0s 2ms/step - loss: 0.3496 - accuracy: 0.8686\n",
            "Epoch 21/100\n",
            "36/36 [==============================] - 0s 2ms/step - loss: 0.3395 - accuracy: 0.8686\n",
            "Epoch 22/100\n",
            "36/36 [==============================] - 0s 2ms/step - loss: 0.3293 - accuracy: 0.8695\n",
            "Epoch 23/100\n",
            "36/36 [==============================] - 0s 2ms/step - loss: 0.3214 - accuracy: 0.8695\n",
            "Epoch 24/100\n",
            "36/36 [==============================] - 0s 2ms/step - loss: 0.3131 - accuracy: 0.8755\n",
            "Epoch 25/100\n",
            "36/36 [==============================] - 0s 2ms/step - loss: 0.3041 - accuracy: 0.8782\n",
            "Epoch 26/100\n",
            "36/36 [==============================] - 0s 2ms/step - loss: 0.2978 - accuracy: 0.8755\n",
            "Epoch 27/100\n",
            "36/36 [==============================] - 0s 2ms/step - loss: 0.2917 - accuracy: 0.8851\n",
            "Epoch 28/100\n",
            "36/36 [==============================] - 0s 2ms/step - loss: 0.2855 - accuracy: 0.8834\n",
            "Epoch 29/100\n",
            "36/36 [==============================] - 0s 2ms/step - loss: 0.2809 - accuracy: 0.8825\n",
            "Epoch 30/100\n",
            "36/36 [==============================] - 0s 2ms/step - loss: 0.2746 - accuracy: 0.8869\n",
            "Epoch 31/100\n",
            "36/36 [==============================] - 0s 2ms/step - loss: 0.2698 - accuracy: 0.8877\n",
            "Epoch 32/100\n",
            "36/36 [==============================] - 0s 1ms/step - loss: 0.2645 - accuracy: 0.8877\n",
            "Epoch 33/100\n",
            "36/36 [==============================] - 0s 2ms/step - loss: 0.2614 - accuracy: 0.8886\n",
            "Epoch 34/100\n",
            "36/36 [==============================] - 0s 2ms/step - loss: 0.2578 - accuracy: 0.8886\n",
            "Epoch 35/100\n",
            "36/36 [==============================] - 0s 2ms/step - loss: 0.2539 - accuracy: 0.8851\n",
            "Epoch 36/100\n",
            "36/36 [==============================] - 0s 2ms/step - loss: 0.2500 - accuracy: 0.8938\n",
            "Epoch 37/100\n",
            "36/36 [==============================] - 0s 2ms/step - loss: 0.2470 - accuracy: 0.8947\n",
            "Epoch 38/100\n",
            "36/36 [==============================] - 0s 2ms/step - loss: 0.2444 - accuracy: 0.8930\n",
            "Epoch 39/100\n",
            "36/36 [==============================] - 0s 2ms/step - loss: 0.2397 - accuracy: 0.8964\n",
            "Epoch 40/100\n",
            "36/36 [==============================] - 0s 1ms/step - loss: 0.2387 - accuracy: 0.8947\n",
            "Epoch 41/100\n",
            "36/36 [==============================] - 0s 2ms/step - loss: 0.2361 - accuracy: 0.8964\n",
            "Epoch 42/100\n",
            "36/36 [==============================] - 0s 2ms/step - loss: 0.2340 - accuracy: 0.8921\n",
            "Epoch 43/100\n",
            "36/36 [==============================] - 0s 2ms/step - loss: 0.2310 - accuracy: 0.8982\n",
            "Epoch 44/100\n",
            "36/36 [==============================] - 0s 2ms/step - loss: 0.2278 - accuracy: 0.9025\n",
            "Epoch 45/100\n",
            "36/36 [==============================] - 0s 2ms/step - loss: 0.2269 - accuracy: 0.8999\n",
            "Epoch 46/100\n",
            "36/36 [==============================] - 0s 2ms/step - loss: 0.2240 - accuracy: 0.9025\n",
            "Epoch 47/100\n",
            "36/36 [==============================] - 0s 2ms/step - loss: 0.2221 - accuracy: 0.9017\n",
            "Epoch 48/100\n",
            "36/36 [==============================] - 0s 2ms/step - loss: 0.2223 - accuracy: 0.9077\n",
            "Epoch 49/100\n",
            "36/36 [==============================] - 0s 2ms/step - loss: 0.2189 - accuracy: 0.9069\n",
            "Epoch 50/100\n",
            "36/36 [==============================] - 0s 2ms/step - loss: 0.2175 - accuracy: 0.9069\n",
            "Epoch 51/100\n",
            "36/36 [==============================] - 0s 2ms/step - loss: 0.2154 - accuracy: 0.9130\n",
            "Epoch 52/100\n",
            "36/36 [==============================] - 0s 2ms/step - loss: 0.2135 - accuracy: 0.9112\n",
            "Epoch 53/100\n",
            "36/36 [==============================] - 0s 2ms/step - loss: 0.2119 - accuracy: 0.9130\n",
            "Epoch 54/100\n",
            "36/36 [==============================] - 0s 2ms/step - loss: 0.2107 - accuracy: 0.9077\n",
            "Epoch 55/100\n",
            "36/36 [==============================] - 0s 2ms/step - loss: 0.2096 - accuracy: 0.9164\n",
            "Epoch 56/100\n",
            "36/36 [==============================] - 0s 2ms/step - loss: 0.2078 - accuracy: 0.9156\n",
            "Epoch 57/100\n",
            "36/36 [==============================] - 0s 2ms/step - loss: 0.2071 - accuracy: 0.9147\n",
            "Epoch 58/100\n",
            "36/36 [==============================] - 0s 2ms/step - loss: 0.2045 - accuracy: 0.9164\n",
            "Epoch 59/100\n",
            "36/36 [==============================] - 0s 2ms/step - loss: 0.2040 - accuracy: 0.9173\n",
            "Epoch 60/100\n",
            "36/36 [==============================] - 0s 2ms/step - loss: 0.2028 - accuracy: 0.9173\n",
            "Epoch 61/100\n",
            "36/36 [==============================] - 0s 2ms/step - loss: 0.2007 - accuracy: 0.9164\n",
            "Epoch 62/100\n",
            "36/36 [==============================] - 0s 1ms/step - loss: 0.1997 - accuracy: 0.9191\n",
            "Epoch 63/100\n",
            "36/36 [==============================] - 0s 2ms/step - loss: 0.1993 - accuracy: 0.9182\n",
            "Epoch 64/100\n",
            "36/36 [==============================] - 0s 1ms/step - loss: 0.1970 - accuracy: 0.9182\n",
            "Epoch 65/100\n",
            "36/36 [==============================] - 0s 2ms/step - loss: 0.1972 - accuracy: 0.9156\n",
            "Epoch 66/100\n",
            "36/36 [==============================] - 0s 2ms/step - loss: 0.1956 - accuracy: 0.9217\n",
            "Epoch 67/100\n",
            "36/36 [==============================] - 0s 2ms/step - loss: 0.1949 - accuracy: 0.9191\n",
            "Epoch 68/100\n",
            "36/36 [==============================] - 0s 2ms/step - loss: 0.1939 - accuracy: 0.9191\n",
            "Epoch 69/100\n",
            "36/36 [==============================] - 0s 2ms/step - loss: 0.1939 - accuracy: 0.9199\n",
            "Epoch 70/100\n",
            "36/36 [==============================] - 0s 2ms/step - loss: 0.1922 - accuracy: 0.9173\n",
            "Epoch 71/100\n",
            "36/36 [==============================] - 0s 2ms/step - loss: 0.1903 - accuracy: 0.9243\n",
            "Epoch 72/100\n",
            "36/36 [==============================] - 0s 1ms/step - loss: 0.1916 - accuracy: 0.9208\n",
            "Epoch 73/100\n",
            "36/36 [==============================] - 0s 2ms/step - loss: 0.1900 - accuracy: 0.9225\n",
            "Epoch 74/100\n",
            "36/36 [==============================] - 0s 2ms/step - loss: 0.1886 - accuracy: 0.9208\n",
            "Epoch 75/100\n",
            "36/36 [==============================] - 0s 2ms/step - loss: 0.1871 - accuracy: 0.9182\n",
            "Epoch 76/100\n",
            "36/36 [==============================] - 0s 2ms/step - loss: 0.1869 - accuracy: 0.9208\n",
            "Epoch 77/100\n",
            "36/36 [==============================] - 0s 2ms/step - loss: 0.1867 - accuracy: 0.9243\n",
            "Epoch 78/100\n",
            "36/36 [==============================] - 0s 2ms/step - loss: 0.1845 - accuracy: 0.9252\n",
            "Epoch 79/100\n",
            "36/36 [==============================] - 0s 1ms/step - loss: 0.1845 - accuracy: 0.9234\n",
            "Epoch 80/100\n",
            "36/36 [==============================] - 0s 2ms/step - loss: 0.1828 - accuracy: 0.9234\n",
            "Epoch 81/100\n",
            "36/36 [==============================] - 0s 2ms/step - loss: 0.1831 - accuracy: 0.9225\n",
            "Epoch 82/100\n",
            "36/36 [==============================] - 0s 2ms/step - loss: 0.1812 - accuracy: 0.9252\n",
            "Epoch 83/100\n",
            "36/36 [==============================] - 0s 2ms/step - loss: 0.1826 - accuracy: 0.9252\n",
            "Epoch 84/100\n",
            "36/36 [==============================] - 0s 2ms/step - loss: 0.1806 - accuracy: 0.9269\n",
            "Epoch 85/100\n",
            "36/36 [==============================] - 0s 2ms/step - loss: 0.1786 - accuracy: 0.9304\n",
            "Epoch 86/100\n",
            "36/36 [==============================] - 0s 2ms/step - loss: 0.1783 - accuracy: 0.9243\n",
            "Epoch 87/100\n",
            "36/36 [==============================] - 0s 2ms/step - loss: 0.1775 - accuracy: 0.9243\n",
            "Epoch 88/100\n",
            "36/36 [==============================] - 0s 2ms/step - loss: 0.1782 - accuracy: 0.9304\n",
            "Epoch 89/100\n",
            "36/36 [==============================] - 0s 2ms/step - loss: 0.1773 - accuracy: 0.9312\n",
            "Epoch 90/100\n",
            "36/36 [==============================] - 0s 2ms/step - loss: 0.1770 - accuracy: 0.9304\n",
            "Epoch 91/100\n",
            "36/36 [==============================] - 0s 2ms/step - loss: 0.1758 - accuracy: 0.9321\n",
            "Epoch 92/100\n",
            "36/36 [==============================] - 0s 2ms/step - loss: 0.1736 - accuracy: 0.9312\n",
            "Epoch 93/100\n",
            "36/36 [==============================] - 0s 1ms/step - loss: 0.1748 - accuracy: 0.9295\n",
            "Epoch 94/100\n",
            "36/36 [==============================] - 0s 2ms/step - loss: 0.1736 - accuracy: 0.9321\n",
            "Epoch 95/100\n",
            "36/36 [==============================] - 0s 2ms/step - loss: 0.1738 - accuracy: 0.9321\n",
            "Epoch 96/100\n",
            "36/36 [==============================] - 0s 2ms/step - loss: 0.1731 - accuracy: 0.9278\n",
            "Epoch 97/100\n",
            "36/36 [==============================] - 0s 2ms/step - loss: 0.1712 - accuracy: 0.9286\n",
            "Epoch 98/100\n",
            "36/36 [==============================] - 0s 2ms/step - loss: 0.1720 - accuracy: 0.9347\n",
            "Epoch 99/100\n",
            "36/36 [==============================] - 0s 2ms/step - loss: 0.1697 - accuracy: 0.9356\n",
            "Epoch 100/100\n",
            "36/36 [==============================] - 0s 2ms/step - loss: 0.1698 - accuracy: 0.9304\n"
          ]
        }
      ],
      "source": [
        "model = Sequential()\n",
        "model.add(Dense(12, activation='relu', input_dim=64))\n",
        "model.add(Dense(8, activation='relu'))\n",
        "model.add(Dense(1, activation='sigmoid'))\n",
        "\n",
        "model.compile(optimizer='SGD',\n",
        "              loss='binary_crossentropy',\n",
        "              metrics=['accuracy'])\n",
        "\n",
        "# Assign the variable history to store the results,\n",
        "# and set verbose=1 so we can see the output.\n",
        "results = model.fit(X_pure_train, y_pure_train, epochs=100, batch_size=None, verbose=1)"
      ]
    },
    {
      "cell_type": "code",
      "execution_count": 22,
      "metadata": {
        "colab": {
          "base_uri": "https://localhost:8080/",
          "height": 321
        },
        "id": "pwCoZn7K10Pr",
        "outputId": "cba68e00-8b38-4d82-b80b-9745333daaa2"
      },
      "outputs": [
        {
          "output_type": "display_data",
          "data": {
            "text/plain": [
              "<Figure size 720x360 with 2 Axes>"
            ],
            "image/png": "[encoded data removed]"
          },
          "metadata": {
            "needs_background": "light"
          }
        }
      ],
      "source": [
        "sigmoid_loss = results.history['loss']\n",
        "sigmoid_accuracy = results.history['accuracy']\n",
        "\n",
        "fig, (ax1, ax2) = plt.subplots(1, 2, figsize=(10, 5))\n",
        "sns.lineplot(x=results.epoch, y=sigmoid_loss, ax=ax1, label='loss')\n",
        "sns.lineplot(x=results.epoch, y=sigmoid_accuracy, ax=ax2, label='accuracy');"
      ]
    },
    {
      "cell_type": "markdown",
      "metadata": {
        "id": "Qgtit9GP10Ps"
      },
      "source": [
        "If we increase the learning rate to a very high number, we see that our model overshoots the minimum, and starts bouncing all around."
      ]
    },
    {
      "cell_type": "code",
      "execution_count": 23,
      "metadata": {
        "colab": {
          "base_uri": "https://localhost:8080/",
          "height": 1000
        },
        "id": "BlyH2sbg10Ps",
        "outputId": "97d9d818-a19e-4e75-9f57-6ec1c5a8488d"
      },
      "outputs": [
        {
          "output_type": "stream",
          "name": "stdout",
          "text": [
            "Epoch 1/30\n"
          ]
        },
        {
          "output_type": "stream",
          "name": "stderr",
          "text": [
            "/usr/local/lib/python3.7/dist-packages/keras/optimizers/optimizer_v2/gradient_descent.py:108: UserWarning: The `lr` argument is deprecated, use `learning_rate` instead.\n",
            "  super(SGD, self).__init__(name, **kwargs)\n"
          ]
        },
        {
          "output_type": "stream",
          "name": "stdout",
          "text": [
            "115/115 [==============================] - 1s 2ms/step - loss: 1.0304 - accuracy: 0.4987\n",
            "Epoch 2/30\n",
            "115/115 [==============================] - 0s 1ms/step - loss: 1.0629 - accuracy: 0.4978\n",
            "Epoch 3/30\n",
            "115/115 [==============================] - 0s 2ms/step - loss: 1.0628 - accuracy: 0.4926\n",
            "Epoch 4/30\n",
            "115/115 [==============================] - 0s 2ms/step - loss: 1.0200 - accuracy: 0.5030\n",
            "Epoch 5/30\n",
            "115/115 [==============================] - 0s 2ms/step - loss: 0.9894 - accuracy: 0.5039\n",
            "Epoch 6/30\n",
            "115/115 [==============================] - 0s 2ms/step - loss: 0.9664 - accuracy: 0.5213\n",
            "Epoch 7/30\n",
            "115/115 [==============================] - 0s 2ms/step - loss: 0.9970 - accuracy: 0.5022\n",
            "Epoch 8/30\n",
            "115/115 [==============================] - 0s 2ms/step - loss: 1.1042 - accuracy: 0.4735\n",
            "Epoch 9/30\n",
            "115/115 [==============================] - 0s 2ms/step - loss: 0.9217 - accuracy: 0.5170\n",
            "Epoch 10/30\n",
            "115/115 [==============================] - 0s 2ms/step - loss: 0.9452 - accuracy: 0.5117\n",
            "Epoch 11/30\n",
            "115/115 [==============================] - 0s 2ms/step - loss: 1.0886 - accuracy: 0.4804\n",
            "Epoch 12/30\n",
            "115/115 [==============================] - 0s 1ms/step - loss: 1.0524 - accuracy: 0.4795\n",
            "Epoch 13/30\n",
            "115/115 [==============================] - 0s 2ms/step - loss: 0.9712 - accuracy: 0.5091\n",
            "Epoch 14/30\n",
            "115/115 [==============================] - 0s 1ms/step - loss: 1.0150 - accuracy: 0.5048\n",
            "Epoch 15/30\n",
            "115/115 [==============================] - 0s 2ms/step - loss: 0.9466 - accuracy: 0.5222\n",
            "Epoch 16/30\n",
            "115/115 [==============================] - 0s 1ms/step - loss: 0.9234 - accuracy: 0.5283\n",
            "Epoch 17/30\n",
            "115/115 [==============================] - 0s 2ms/step - loss: 0.9041 - accuracy: 0.5187\n",
            "Epoch 18/30\n",
            "115/115 [==============================] - 0s 2ms/step - loss: 1.0298 - accuracy: 0.5083\n",
            "Epoch 19/30\n",
            "115/115 [==============================] - 0s 2ms/step - loss: 1.0312 - accuracy: 0.4883\n",
            "Epoch 20/30\n",
            "115/115 [==============================] - 0s 2ms/step - loss: 1.0607 - accuracy: 0.4804\n",
            "Epoch 21/30\n",
            "115/115 [==============================] - 0s 1ms/step - loss: 1.0716 - accuracy: 0.4769\n",
            "Epoch 22/30\n",
            "115/115 [==============================] - 0s 1ms/step - loss: 1.0345 - accuracy: 0.4830\n",
            "Epoch 23/30\n",
            "115/115 [==============================] - 0s 2ms/step - loss: 0.9213 - accuracy: 0.5126\n",
            "Epoch 24/30\n",
            "115/115 [==============================] - 0s 2ms/step - loss: 0.9537 - accuracy: 0.5161\n",
            "Epoch 25/30\n",
            "115/115 [==============================] - 0s 2ms/step - loss: 0.9942 - accuracy: 0.5057\n",
            "Epoch 26/30\n",
            "115/115 [==============================] - 0s 2ms/step - loss: 0.9324 - accuracy: 0.4987\n",
            "Epoch 27/30\n",
            "115/115 [==============================] - 0s 1ms/step - loss: 0.9768 - accuracy: 0.5100\n",
            "Epoch 28/30\n",
            "115/115 [==============================] - 0s 2ms/step - loss: 0.9372 - accuracy: 0.5187\n",
            "Epoch 29/30\n",
            "115/115 [==============================] - 0s 2ms/step - loss: 1.0103 - accuracy: 0.5022\n",
            "Epoch 30/30\n",
            "115/115 [==============================] - 0s 2ms/step - loss: 0.9909 - accuracy: 0.5048\n"
          ]
        },
        {
          "output_type": "display_data",
          "data": {
            "text/plain": [
              "<Figure size 720x360 with 2 Axes>"
            ],
            "image/png": "[encoded data removed]"
          },
          "metadata": {
            "needs_background": "light"
          }
        }
      ],
      "source": [
        "model = Sequential()\n",
        "\n",
        "sgd = SGD(lr=9)\n",
        "model.add(Dense(12, activation='relu', input_dim=64))\n",
        "model.add(Dense(8, activation='relu'))\n",
        "model.add(Dense(1, activation='sigmoid'))\n",
        "\n",
        "model.compile(optimizer=sgd,\n",
        "              loss='binary_crossentropy',\n",
        "              metrics=['accuracy'])\n",
        "\n",
        "results = model.fit(X_pure_train, y_pure_train,\n",
        "                    epochs=30, batch_size=10, verbose=1)\n",
        "\n",
        "relu_loss = results.history['loss']\n",
        "relu_accuracy = results.history['accuracy']\n",
        "\n",
        "fig, (ax1, ax2) = plt.subplots(1, 2, figsize=(10, 5))\n",
        "sns.lineplot(x=results.epoch, y=relu_loss, ax=ax1, label='loss')\n",
        "sns.lineplot(x=results.epoch, y=relu_accuracy, ax=ax2, label='accuracy');"
      ]
    },
    {
      "cell_type": "markdown",
      "metadata": {
        "id": "bc40fpIW10Ps"
      },
      "source": [
        "### Exercise\n",
        "\n",
        "We have been looking only at our training set. Let's add in our validation set to the picture. Check the docstring for the `.fit()` method and add in our validation data."
      ]
    },
    {
      "cell_type": "code",
      "execution_count": 25,
      "metadata": {
        "colab": {
          "base_uri": "https://localhost:8080/",
          "height": 1000
        },
        "id": "JiBkIiUn10Ps",
        "outputId": "e79b58b7-d63d-49b0-d445-24438409bbd7"
      },
      "outputs": [
        {
          "output_type": "stream",
          "name": "stdout",
          "text": [
            "Epoch 1/30\n",
            "115/115 [==============================] - 1s 4ms/step - loss: 0.6648 - accuracy: 0.6745 - val_loss: 0.6077 - val_accuracy: 0.7708\n",
            "Epoch 2/30\n",
            "115/115 [==============================] - 0s 3ms/step - loss: 0.5152 - accuracy: 0.8242 - val_loss: 0.4035 - val_accuracy: 0.8681\n",
            "Epoch 3/30\n",
            "115/115 [==============================] - 0s 2ms/step - loss: 0.3144 - accuracy: 0.8903 - val_loss: 0.2826 - val_accuracy: 0.8958\n",
            "Epoch 4/30\n",
            "115/115 [==============================] - 0s 2ms/step - loss: 0.2392 - accuracy: 0.9130 - val_loss: 0.2676 - val_accuracy: 0.9028\n",
            "Epoch 5/30\n",
            "115/115 [==============================] - 0s 2ms/step - loss: 0.2121 - accuracy: 0.9147 - val_loss: 0.2226 - val_accuracy: 0.9167\n",
            "Epoch 6/30\n",
            "115/115 [==============================] - 0s 2ms/step - loss: 0.2000 - accuracy: 0.9217 - val_loss: 0.2180 - val_accuracy: 0.9132\n",
            "Epoch 7/30\n",
            "115/115 [==============================] - 0s 2ms/step - loss: 0.1905 - accuracy: 0.9286 - val_loss: 0.2026 - val_accuracy: 0.9271\n",
            "Epoch 8/30\n",
            "115/115 [==============================] - 0s 3ms/step - loss: 0.1710 - accuracy: 0.9347 - val_loss: 0.1958 - val_accuracy: 0.9271\n",
            "Epoch 9/30\n",
            "115/115 [==============================] - 0s 4ms/step - loss: 0.1645 - accuracy: 0.9304 - val_loss: 0.2023 - val_accuracy: 0.9201\n",
            "Epoch 10/30\n",
            "115/115 [==============================] - 0s 4ms/step - loss: 0.1525 - accuracy: 0.9417 - val_loss: 0.1674 - val_accuracy: 0.9306\n",
            "Epoch 11/30\n",
            "115/115 [==============================] - 0s 4ms/step - loss: 0.1399 - accuracy: 0.9434 - val_loss: 0.1682 - val_accuracy: 0.9375\n",
            "Epoch 12/30\n",
            "115/115 [==============================] - 0s 4ms/step - loss: 0.1315 - accuracy: 0.9469 - val_loss: 0.1608 - val_accuracy: 0.9375\n",
            "Epoch 13/30\n",
            "115/115 [==============================] - 0s 4ms/step - loss: 0.1229 - accuracy: 0.9495 - val_loss: 0.1426 - val_accuracy: 0.9479\n",
            "Epoch 14/30\n",
            "115/115 [==============================] - 0s 3ms/step - loss: 0.1135 - accuracy: 0.9556 - val_loss: 0.1568 - val_accuracy: 0.9375\n",
            "Epoch 15/30\n",
            "115/115 [==============================] - 0s 2ms/step - loss: 0.1063 - accuracy: 0.9565 - val_loss: 0.1446 - val_accuracy: 0.9375\n",
            "Epoch 16/30\n",
            "115/115 [==============================] - 0s 2ms/step - loss: 0.1017 - accuracy: 0.9617 - val_loss: 0.1417 - val_accuracy: 0.9340\n",
            "Epoch 17/30\n",
            "115/115 [==============================] - 0s 2ms/step - loss: 0.0961 - accuracy: 0.9600 - val_loss: 0.1351 - val_accuracy: 0.9479\n",
            "Epoch 18/30\n",
            "115/115 [==============================] - 0s 3ms/step - loss: 0.0844 - accuracy: 0.9721 - val_loss: 0.1212 - val_accuracy: 0.9479\n",
            "Epoch 19/30\n",
            "115/115 [==============================] - 0s 2ms/step - loss: 0.0798 - accuracy: 0.9721 - val_loss: 0.1417 - val_accuracy: 0.9410\n",
            "Epoch 20/30\n",
            "115/115 [==============================] - 0s 3ms/step - loss: 0.0735 - accuracy: 0.9765 - val_loss: 0.1156 - val_accuracy: 0.9479\n",
            "Epoch 21/30\n",
            "115/115 [==============================] - 0s 2ms/step - loss: 0.0735 - accuracy: 0.9774 - val_loss: 0.1130 - val_accuracy: 0.9514\n",
            "Epoch 22/30\n",
            "115/115 [==============================] - 0s 2ms/step - loss: 0.0659 - accuracy: 0.9800 - val_loss: 0.1034 - val_accuracy: 0.9479\n",
            "Epoch 23/30\n",
            "115/115 [==============================] - 0s 2ms/step - loss: 0.0642 - accuracy: 0.9756 - val_loss: 0.0995 - val_accuracy: 0.9549\n",
            "Epoch 24/30\n",
            "115/115 [==============================] - 0s 2ms/step - loss: 0.0610 - accuracy: 0.9791 - val_loss: 0.1031 - val_accuracy: 0.9514\n",
            "Epoch 25/30\n",
            "115/115 [==============================] - 0s 2ms/step - loss: 0.0577 - accuracy: 0.9835 - val_loss: 0.1083 - val_accuracy: 0.9479\n",
            "Epoch 26/30\n",
            "115/115 [==============================] - 0s 2ms/step - loss: 0.0519 - accuracy: 0.9817 - val_loss: 0.0965 - val_accuracy: 0.9514\n",
            "Epoch 27/30\n",
            "115/115 [==============================] - 0s 3ms/step - loss: 0.0522 - accuracy: 0.9791 - val_loss: 0.0882 - val_accuracy: 0.9549\n",
            "Epoch 28/30\n",
            "115/115 [==============================] - 0s 3ms/step - loss: 0.0460 - accuracy: 0.9869 - val_loss: 0.1055 - val_accuracy: 0.9549\n",
            "Epoch 29/30\n",
            "115/115 [==============================] - 0s 2ms/step - loss: 0.0486 - accuracy: 0.9826 - val_loss: 0.0984 - val_accuracy: 0.9549\n",
            "Epoch 30/30\n",
            "115/115 [==============================] - 0s 2ms/step - loss: 0.0428 - accuracy: 0.9869 - val_loss: 0.0974 - val_accuracy: 0.9583\n"
          ]
        },
        {
          "output_type": "display_data",
          "data": {
            "text/plain": [
              "<Figure size 720x360 with 2 Axes>"
            ],
            "image/png": "[encoded data removed]"
          },
          "metadata": {
            "needs_background": "light"
          }
        }
      ],
      "source": [
        "model = Sequential()\n",
        "model.add(Dense(12, activation='relu', input_dim=64))\n",
        "model.add(Dense(8, activation='relu'))\n",
        "model.add(Dense(4, activation='relu'))\n",
        "model.add(Dense(1, activation='sigmoid'))\n",
        "\n",
        "model.compile(optimizer='adam',\n",
        "              loss='binary_crossentropy',\n",
        "              metrics=['accuracy'])\n",
        "\n",
        "results = model.fit(X_pure_train, y_pure_train, validation_data=(X_val, y_val),\n",
        "                    epochs=30, batch_size=10, verbose=1)\n",
        "\n",
        "train_loss = results.history['loss']\n",
        "train_acc = results.history['accuracy']\n",
        "val_loss = results.history['val_loss']\n",
        "val_acc = results.history['val_accuracy']\n",
        "\n",
        "fig, (ax1, ax2) = plt.subplots(1, 2, figsize=(10, 5))\n",
        "sns.lineplot(x=results.epoch, y=train_loss, ax=ax1, label='train_loss')\n",
        "sns.lineplot(x=results.epoch, y=train_acc, ax=ax2, label='train_accuracy')\n",
        "\n",
        "sns.lineplot(x=results.epoch, y=val_loss, ax=ax1, label='val_loss')\n",
        "sns.lineplot(x=results.epoch, y=val_acc, ax=ax2, label='val_accuracy');"
      ]
    },
    {
      "cell_type": "markdown",
      "metadata": {
        "id": "JbVhOg-F10Ps"
      },
      "source": [
        "<details>\n",
        "    <summary>One answer here</summary>\n",
        "<code>model = Sequential()\n",
        "model.add(Dense(12, activation='relu', input_dim=64))\n",
        "model.add(Dense(8, activation='relu'))\n",
        "model.add(Dense(4, activation='relu'))\n",
        "model.add(Dense(1, activation='sigmoid'))\n",
        "model.compile(optimizer='adam',\n",
        "              loss='binary_crossentropy',\n",
        "              metrics=['accuracy'])\n",
        "results = model.fit(X_pure_train, y_pure_train,\n",
        "                   validation_data=(X_val, y_val),\n",
        "                   epochs=30, batch_size=10)\n",
        "train_loss = results.history['loss']\n",
        "train_acc = results.history['accuracy']\n",
        "val_loss = results.history['val_loss']\n",
        "val_acc = results.history['val_accuracy']\n",
        "fig, (ax1, ax2) = plt.subplots(1, 2, figsize=(10, 5))\n",
        "sns.lineplot(x=results.epoch, y=train_loss, ax=ax1, label='train_loss')\n",
        "sns.lineplot(x=results.epoch, y=train_acc, ax=ax2, label='train_accuracy')\n",
        "sns.lineplot(x=results.epoch, y=val_loss, ax=ax1, label='val_loss')\n",
        "sns.lineplot(x=results.epoch, y=val_acc, ax=ax2, label='val_accuracy');</code>\n",
        "</details>"
      ]
    },
    {
      "cell_type": "code",
      "execution_count": 26,
      "metadata": {
        "colab": {
          "base_uri": "https://localhost:8080/"
        },
        "id": "waXgwk7k10Ps",
        "outputId": "b3cdc415-0e64-4c85-b47f-ad1ddd417cf4"
      },
      "outputs": [
        {
          "output_type": "execute_result",
          "data": {
            "text/plain": [
              "0.9583333134651184"
            ]
          },
          "metadata": {},
          "execution_count": 26
        }
      ],
      "source": [
        "results.history['val_accuracy'][-1]"
      ]
    },
    {
      "cell_type": "markdown",
      "metadata": {
        "id": "xsRGn7Uj10Ps"
      },
      "source": [
        "## Connecting with `sklearn`\n",
        "\n",
        "The `keras.wrappers` submodule means that we can turn `keras` models into estimators that `sklearn` tools will recognize."
      ]
    },
    {
      "cell_type": "code",
      "execution_count": 28,
      "metadata": {
        "colab": {
          "base_uri": "https://localhost:8080/",
          "height": 461
        },
        "id": "wnS_7pBM10Ps",
        "outputId": "ecced0fc-b551-448b-a222-5b42d4fc4fcb"
      },
      "outputs": [
        {
          "output_type": "error",
          "ename": "TypeError",
          "evalue": "ignored",
          "traceback": [
            "\u001b[0;31m---------------------------------------------------------------------------\u001b[0m",
            "\u001b[0;31mEmpty\u001b[0m                                     Traceback (most recent call last)",
            "\u001b[0;32m/usr/local/lib/python3.7/dist-packages/joblib/parallel.py\u001b[0m in \u001b[0;36mdispatch_one_batch\u001b[0;34m(self, iterator)\u001b[0m\n\u001b[1;32m    861\u001b[0m             \u001b[0;32mtry\u001b[0m\u001b[0;34m:\u001b[0m\u001b[0;34m\u001b[0m\u001b[0;34m\u001b[0m\u001b[0m\n\u001b[0;32m--> 862\u001b[0;31m                 \u001b[0mtasks\u001b[0m \u001b[0;34m=\u001b[0m \u001b[0mself\u001b[0m\u001b[0;34m.\u001b[0m\u001b[0m_ready_batches\u001b[0m\u001b[0;34m.\u001b[0m\u001b[0mget\u001b[0m\u001b[0;34m(\u001b[0m\u001b[0mblock\u001b[0m\u001b[0;34m=\u001b[0m\u001b[0;32mFalse\u001b[0m\u001b[0;34m)\u001b[0m\u001b[0;34m\u001b[0m\u001b[0;34m\u001b[0m\u001b[0m\n\u001b[0m\u001b[1;32m    863\u001b[0m             \u001b[0;32mexcept\u001b[0m \u001b[0mqueue\u001b[0m\u001b[0;34m.\u001b[0m\u001b[0mEmpty\u001b[0m\u001b[0;34m:\u001b[0m\u001b[0;34m\u001b[0m\u001b[0;34m\u001b[0m\u001b[0m\n",
            "\u001b[0;32m/usr/lib/python3.7/queue.py\u001b[0m in \u001b[0;36mget\u001b[0;34m(self, block, timeout)\u001b[0m\n\u001b[1;32m    166\u001b[0m                 \u001b[0;32mif\u001b[0m \u001b[0;32mnot\u001b[0m \u001b[0mself\u001b[0m\u001b[0;34m.\u001b[0m\u001b[0m_qsize\u001b[0m\u001b[0;34m(\u001b[0m\u001b[0;34m)\u001b[0m\u001b[0;34m:\u001b[0m\u001b[0;34m\u001b[0m\u001b[0;34m\u001b[0m\u001b[0m\n\u001b[0;32m--> 167\u001b[0;31m                     \u001b[0;32mraise\u001b[0m \u001b[0mEmpty\u001b[0m\u001b[0;34m\u001b[0m\u001b[0;34m\u001b[0m\u001b[0m\n\u001b[0m\u001b[1;32m    168\u001b[0m             \u001b[0;32melif\u001b[0m \u001b[0mtimeout\u001b[0m \u001b[0;32mis\u001b[0m \u001b[0;32mNone\u001b[0m\u001b[0;34m:\u001b[0m\u001b[0;34m\u001b[0m\u001b[0;34m\u001b[0m\u001b[0m\n",
            "\u001b[0;31mEmpty\u001b[0m: ",
            "\nDuring handling of the above exception, another exception occurred:\n",
            "\u001b[0;31mTypeError\u001b[0m                                 Traceback (most recent call last)",
            "\u001b[0;32m<ipython-input-28-d437ef7338da>\u001b[0m in \u001b[0;36m<module>\u001b[0;34m\u001b[0m\n\u001b[1;32m      1\u001b[0m \u001b[0;31m# This will throw an error.\u001b[0m\u001b[0;34m\u001b[0m\u001b[0;34m\u001b[0m\u001b[0;34m\u001b[0m\u001b[0m\n\u001b[1;32m      2\u001b[0m \u001b[0;34m\u001b[0m\u001b[0m\n\u001b[0;32m----> 3\u001b[0;31m \u001b[0mcross_val_score\u001b[0m\u001b[0;34m(\u001b[0m\u001b[0mmodel\u001b[0m\u001b[0;34m,\u001b[0m \u001b[0mX_pure_train\u001b[0m\u001b[0;34m,\u001b[0m \u001b[0my_pure_train\u001b[0m\u001b[0;34m,\u001b[0m \u001b[0mscoring\u001b[0m \u001b[0;34m=\u001b[0m \u001b[0;34m'accuracy'\u001b[0m\u001b[0;34m)\u001b[0m\u001b[0;34m\u001b[0m\u001b[0;34m\u001b[0m\u001b[0m\n\u001b[0m",
            "\u001b[0;32m/usr/local/lib/python3.7/dist-packages/sklearn/model_selection/_validation.py\u001b[0m in \u001b[0;36mcross_val_score\u001b[0;34m(estimator, X, y, groups, scoring, cv, n_jobs, verbose, fit_params, pre_dispatch, error_score)\u001b[0m\n\u001b[1;32m    518\u001b[0m         \u001b[0mfit_params\u001b[0m\u001b[0;34m=\u001b[0m\u001b[0mfit_params\u001b[0m\u001b[0;34m,\u001b[0m\u001b[0;34m\u001b[0m\u001b[0;34m\u001b[0m\u001b[0m\n\u001b[1;32m    519\u001b[0m         \u001b[0mpre_dispatch\u001b[0m\u001b[0;34m=\u001b[0m\u001b[0mpre_dispatch\u001b[0m\u001b[0;34m,\u001b[0m\u001b[0;34m\u001b[0m\u001b[0;34m\u001b[0m\u001b[0m\n\u001b[0;32m--> 520\u001b[0;31m         \u001b[0merror_score\u001b[0m\u001b[0;34m=\u001b[0m\u001b[0merror_score\u001b[0m\u001b[0;34m,\u001b[0m\u001b[0;34m\u001b[0m\u001b[0;34m\u001b[0m\u001b[0m\n\u001b[0m\u001b[1;32m    521\u001b[0m     )\n\u001b[1;32m    522\u001b[0m     \u001b[0;32mreturn\u001b[0m \u001b[0mcv_results\u001b[0m\u001b[0;34m[\u001b[0m\u001b[0;34m\"test_score\"\u001b[0m\u001b[0;34m]\u001b[0m\u001b[0;34m\u001b[0m\u001b[0;34m\u001b[0m\u001b[0m\n",
            "\u001b[0;32m/usr/local/lib/python3.7/dist-packages/sklearn/model_selection/_validation.py\u001b[0m in \u001b[0;36mcross_validate\u001b[0;34m(estimator, X, y, groups, scoring, cv, n_jobs, verbose, fit_params, pre_dispatch, return_train_score, return_estimator, error_score)\u001b[0m\n\u001b[1;32m    281\u001b[0m             \u001b[0merror_score\u001b[0m\u001b[0;34m=\u001b[0m\u001b[0merror_score\u001b[0m\u001b[0;34m,\u001b[0m\u001b[0;34m\u001b[0m\u001b[0;34m\u001b[0m\u001b[0m\n\u001b[1;32m    282\u001b[0m         )\n\u001b[0;32m--> 283\u001b[0;31m         \u001b[0;32mfor\u001b[0m \u001b[0mtrain\u001b[0m\u001b[0;34m,\u001b[0m \u001b[0mtest\u001b[0m \u001b[0;32min\u001b[0m \u001b[0mcv\u001b[0m\u001b[0;34m.\u001b[0m\u001b[0msplit\u001b[0m\u001b[0;34m(\u001b[0m\u001b[0mX\u001b[0m\u001b[0;34m,\u001b[0m \u001b[0my\u001b[0m\u001b[0;34m,\u001b[0m \u001b[0mgroups\u001b[0m\u001b[0;34m)\u001b[0m\u001b[0;34m\u001b[0m\u001b[0;34m\u001b[0m\u001b[0m\n\u001b[0m\u001b[1;32m    284\u001b[0m     )\n\u001b[1;32m    285\u001b[0m \u001b[0;34m\u001b[0m\u001b[0m\n",
            "\u001b[0;32m/usr/local/lib/python3.7/dist-packages/joblib/parallel.py\u001b[0m in \u001b[0;36m__call__\u001b[0;34m(self, iterable)\u001b[0m\n\u001b[1;32m   1083\u001b[0m             \u001b[0;31m# remaining jobs.\u001b[0m\u001b[0;34m\u001b[0m\u001b[0;34m\u001b[0m\u001b[0;34m\u001b[0m\u001b[0m\n\u001b[1;32m   1084\u001b[0m             \u001b[0mself\u001b[0m\u001b[0;34m.\u001b[0m\u001b[0m_iterating\u001b[0m \u001b[0;34m=\u001b[0m \u001b[0;32mFalse\u001b[0m\u001b[0;34m\u001b[0m\u001b[0;34m\u001b[0m\u001b[0m\n\u001b[0;32m-> 1085\u001b[0;31m             \u001b[0;32mif\u001b[0m \u001b[0mself\u001b[0m\u001b[0;34m.\u001b[0m\u001b[0mdispatch_one_batch\u001b[0m\u001b[0;34m(\u001b[0m\u001b[0miterator\u001b[0m\u001b[0;34m)\u001b[0m\u001b[0;34m:\u001b[0m\u001b[0;34m\u001b[0m\u001b[0;34m\u001b[0m\u001b[0m\n\u001b[0m\u001b[1;32m   1086\u001b[0m                 \u001b[0mself\u001b[0m\u001b[0;34m.\u001b[0m\u001b[0m_iterating\u001b[0m \u001b[0;34m=\u001b[0m \u001b[0mself\u001b[0m\u001b[0;34m.\u001b[0m\u001b[0m_original_iterator\u001b[0m \u001b[0;32mis\u001b[0m \u001b[0;32mnot\u001b[0m \u001b[0;32mNone\u001b[0m\u001b[0;34m\u001b[0m\u001b[0;34m\u001b[0m\u001b[0m\n\u001b[1;32m   1087\u001b[0m \u001b[0;34m\u001b[0m\u001b[0m\n",
            "\u001b[0;32m/usr/local/lib/python3.7/dist-packages/joblib/parallel.py\u001b[0m in \u001b[0;36mdispatch_one_batch\u001b[0;34m(self, iterator)\u001b[0m\n\u001b[1;32m    871\u001b[0m                 \u001b[0mbig_batch_size\u001b[0m \u001b[0;34m=\u001b[0m \u001b[0mbatch_size\u001b[0m \u001b[0;34m*\u001b[0m \u001b[0mn_jobs\u001b[0m\u001b[0;34m\u001b[0m\u001b[0;34m\u001b[0m\u001b[0m\n\u001b[1;32m    872\u001b[0m \u001b[0;34m\u001b[0m\u001b[0m\n\u001b[0;32m--> 873\u001b[0;31m                 \u001b[0mislice\u001b[0m \u001b[0;34m=\u001b[0m \u001b[0mlist\u001b[0m\u001b[0;34m(\u001b[0m\u001b[0mitertools\u001b[0m\u001b[0;34m.\u001b[0m\u001b[0mislice\u001b[0m\u001b[0;34m(\u001b[0m\u001b[0miterator\u001b[0m\u001b[0;34m,\u001b[0m \u001b[0mbig_batch_size\u001b[0m\u001b[0;34m)\u001b[0m\u001b[0;34m)\u001b[0m\u001b[0;34m\u001b[0m\u001b[0;34m\u001b[0m\u001b[0m\n\u001b[0m\u001b[1;32m    874\u001b[0m                 \u001b[0;32mif\u001b[0m \u001b[0mlen\u001b[0m\u001b[0;34m(\u001b[0m\u001b[0mislice\u001b[0m\u001b[0;34m)\u001b[0m \u001b[0;34m==\u001b[0m \u001b[0;36m0\u001b[0m\u001b[0;34m:\u001b[0m\u001b[0;34m\u001b[0m\u001b[0;34m\u001b[0m\u001b[0m\n\u001b[1;32m    875\u001b[0m                     \u001b[0;32mreturn\u001b[0m \u001b[0;32mFalse\u001b[0m\u001b[0;34m\u001b[0m\u001b[0;34m\u001b[0m\u001b[0m\n",
            "\u001b[0;32m/usr/local/lib/python3.7/dist-packages/sklearn/model_selection/_validation.py\u001b[0m in \u001b[0;36m<genexpr>\u001b[0;34m(.0)\u001b[0m\n\u001b[1;32m    281\u001b[0m             \u001b[0merror_score\u001b[0m\u001b[0;34m=\u001b[0m\u001b[0merror_score\u001b[0m\u001b[0;34m,\u001b[0m\u001b[0;34m\u001b[0m\u001b[0;34m\u001b[0m\u001b[0m\n\u001b[1;32m    282\u001b[0m         )\n\u001b[0;32m--> 283\u001b[0;31m         \u001b[0;32mfor\u001b[0m \u001b[0mtrain\u001b[0m\u001b[0;34m,\u001b[0m \u001b[0mtest\u001b[0m \u001b[0;32min\u001b[0m \u001b[0mcv\u001b[0m\u001b[0;34m.\u001b[0m\u001b[0msplit\u001b[0m\u001b[0;34m(\u001b[0m\u001b[0mX\u001b[0m\u001b[0;34m,\u001b[0m \u001b[0my\u001b[0m\u001b[0;34m,\u001b[0m \u001b[0mgroups\u001b[0m\u001b[0;34m)\u001b[0m\u001b[0;34m\u001b[0m\u001b[0;34m\u001b[0m\u001b[0m\n\u001b[0m\u001b[1;32m    284\u001b[0m     )\n\u001b[1;32m    285\u001b[0m \u001b[0;34m\u001b[0m\u001b[0m\n",
            "\u001b[0;32m/usr/local/lib/python3.7/dist-packages/sklearn/base.py\u001b[0m in \u001b[0;36mclone\u001b[0;34m(estimator, safe)\u001b[0m\n\u001b[1;32m     78\u001b[0m                     \u001b[0;34m\"it does not seem to be a scikit-learn \"\u001b[0m\u001b[0;34m\u001b[0m\u001b[0;34m\u001b[0m\u001b[0m\n\u001b[1;32m     79\u001b[0m                     \u001b[0;34m\"estimator as it does not implement a \"\u001b[0m\u001b[0;34m\u001b[0m\u001b[0;34m\u001b[0m\u001b[0m\n\u001b[0;32m---> 80\u001b[0;31m                     \u001b[0;34m\"'get_params' method.\"\u001b[0m \u001b[0;34m%\u001b[0m \u001b[0;34m(\u001b[0m\u001b[0mrepr\u001b[0m\u001b[0;34m(\u001b[0m\u001b[0mestimator\u001b[0m\u001b[0;34m)\u001b[0m\u001b[0;34m,\u001b[0m \u001b[0mtype\u001b[0m\u001b[0;34m(\u001b[0m\u001b[0mestimator\u001b[0m\u001b[0;34m)\u001b[0m\u001b[0;34m)\u001b[0m\u001b[0;34m\u001b[0m\u001b[0;34m\u001b[0m\u001b[0m\n\u001b[0m\u001b[1;32m     81\u001b[0m                 )\n\u001b[1;32m     82\u001b[0m \u001b[0;34m\u001b[0m\u001b[0m\n",
            "\u001b[0;31mTypeError\u001b[0m: Cannot clone object '<keras.engine.sequential.Sequential object at 0x7fcb18b00350>' (type <class 'keras.engine.sequential.Sequential'>): it does not seem to be a scikit-learn estimator as it does not implement a 'get_params' method."
          ]
        }
      ],
      "source": [
        "# This will throw an error.\n",
        "\n",
        "cross_val_score(model, X_pure_train, y_pure_train, scoring = 'accuracy')"
      ]
    },
    {
      "cell_type": "code",
      "execution_count": 29,
      "metadata": {
        "id": "av0SunAL10Pt"
      },
      "outputs": [],
      "source": [
        "def build_model():\n",
        "    model = Sequential()\n",
        "    model.add(Dense(12, activation='relu', input_dim=64))\n",
        "    model.add(Dense(8, activation='relu'))\n",
        "    model.add(Dense(4, activation='relu'))\n",
        "    model.add(Dense(1, activation = 'sigmoid'))\n",
        "\n",
        "    model.compile(optimizer='adam',\n",
        "                  loss='binary_crossentropy',\n",
        "                  metrics=['accuracy'])\n",
        "    return model"
      ]
    },
    {
      "cell_type": "code",
      "execution_count": 30,
      "metadata": {
        "colab": {
          "base_uri": "https://localhost:8080/"
        },
        "id": "zt3b99kH10Pt",
        "outputId": "3afd793d-6d52-4355-c1ae-484794de794b"
      },
      "outputs": [
        {
          "output_type": "stream",
          "name": "stderr",
          "text": [
            "/usr/local/lib/python3.7/dist-packages/ipykernel_launcher.py:4: DeprecationWarning: KerasClassifier is deprecated, use Sci-Keras (https://github.com/adriangb/scikeras) instead. See https://www.adriangb.com/scikeras/stable/migration.html for help migrating.\n",
            "  after removing the cwd from sys.path.\n"
          ]
        }
      ],
      "source": [
        "keras_model = scikit_learn.KerasClassifier(build_model,\n",
        "                                           epochs=50,\n",
        "                                           batch_size=32,\n",
        "                                           verbose=2)"
      ]
    },
    {
      "cell_type": "code",
      "execution_count": 31,
      "metadata": {
        "colab": {
          "base_uri": "https://localhost:8080/"
        },
        "id": "411iYUsX10Pt",
        "outputId": "86cbf28f-a0fe-400b-b0d6-f8050db053c1"
      },
      "outputs": [
        {
          "output_type": "execute_result",
          "data": {
            "text/plain": [
              "keras.wrappers.scikit_learn.KerasClassifier"
            ]
          },
          "metadata": {},
          "execution_count": 31
        }
      ],
      "source": [
        "type(keras_model)"
      ]
    },
    {
      "cell_type": "code",
      "execution_count": 32,
      "metadata": {
        "colab": {
          "base_uri": "https://localhost:8080/"
        },
        "id": "ZORqTZQa10Pt",
        "outputId": "2600564f-36b8-4525-fe55-b30b629b90d7"
      },
      "outputs": [
        {
          "output_type": "stream",
          "name": "stdout",
          "text": [
            "Epoch 1/50\n",
            "29/29 - 1s - loss: 0.6484 - accuracy: 0.6464 - 537ms/epoch - 19ms/step\n",
            "Epoch 2/50\n",
            "29/29 - 0s - loss: 0.5993 - accuracy: 0.6812 - 48ms/epoch - 2ms/step\n",
            "Epoch 3/50\n",
            "29/29 - 0s - loss: 0.5463 - accuracy: 0.8020 - 48ms/epoch - 2ms/step\n",
            "Epoch 4/50\n",
            "29/29 - 0s - loss: 0.4668 - accuracy: 0.8498 - 64ms/epoch - 2ms/step\n",
            "Epoch 5/50\n",
            "29/29 - 0s - loss: 0.3740 - accuracy: 0.8803 - 50ms/epoch - 2ms/step\n",
            "Epoch 6/50\n",
            "29/29 - 0s - loss: 0.3076 - accuracy: 0.8966 - 48ms/epoch - 2ms/step\n",
            "Epoch 7/50\n",
            "29/29 - 0s - loss: 0.2649 - accuracy: 0.9032 - 49ms/epoch - 2ms/step\n",
            "Epoch 8/50\n",
            "29/29 - 0s - loss: 0.2360 - accuracy: 0.9173 - 52ms/epoch - 2ms/step\n",
            "Epoch 9/50\n",
            "29/29 - 0s - loss: 0.2170 - accuracy: 0.9184 - 51ms/epoch - 2ms/step\n",
            "Epoch 10/50\n",
            "29/29 - 0s - loss: 0.1995 - accuracy: 0.9293 - 56ms/epoch - 2ms/step\n",
            "Epoch 11/50\n",
            "29/29 - 0s - loss: 0.1874 - accuracy: 0.9293 - 51ms/epoch - 2ms/step\n",
            "Epoch 12/50\n",
            "29/29 - 0s - loss: 0.1762 - accuracy: 0.9336 - 49ms/epoch - 2ms/step\n",
            "Epoch 13/50\n",
            "29/29 - 0s - loss: 0.1707 - accuracy: 0.9304 - 50ms/epoch - 2ms/step\n",
            "Epoch 14/50\n",
            "29/29 - 0s - loss: 0.1579 - accuracy: 0.9358 - 51ms/epoch - 2ms/step\n",
            "Epoch 15/50\n",
            "29/29 - 0s - loss: 0.1543 - accuracy: 0.9369 - 48ms/epoch - 2ms/step\n",
            "Epoch 16/50\n",
            "29/29 - 0s - loss: 0.1437 - accuracy: 0.9412 - 46ms/epoch - 2ms/step\n",
            "Epoch 17/50\n",
            "29/29 - 0s - loss: 0.1432 - accuracy: 0.9445 - 47ms/epoch - 2ms/step\n",
            "Epoch 18/50\n",
            "29/29 - 0s - loss: 0.1335 - accuracy: 0.9489 - 58ms/epoch - 2ms/step\n",
            "Epoch 19/50\n",
            "29/29 - 0s - loss: 0.1362 - accuracy: 0.9456 - 48ms/epoch - 2ms/step\n",
            "Epoch 20/50\n",
            "29/29 - 0s - loss: 0.1231 - accuracy: 0.9489 - 51ms/epoch - 2ms/step\n",
            "Epoch 21/50\n",
            "29/29 - 0s - loss: 0.1155 - accuracy: 0.9499 - 52ms/epoch - 2ms/step\n",
            "Epoch 22/50\n",
            "29/29 - 0s - loss: 0.1236 - accuracy: 0.9489 - 51ms/epoch - 2ms/step\n",
            "Epoch 23/50\n",
            "29/29 - 0s - loss: 0.1130 - accuracy: 0.9543 - 59ms/epoch - 2ms/step\n",
            "Epoch 24/50\n",
            "29/29 - 0s - loss: 0.1076 - accuracy: 0.9554 - 48ms/epoch - 2ms/step\n",
            "Epoch 25/50\n",
            "29/29 - 0s - loss: 0.0994 - accuracy: 0.9576 - 47ms/epoch - 2ms/step\n",
            "Epoch 26/50\n",
            "29/29 - 0s - loss: 0.0950 - accuracy: 0.9630 - 47ms/epoch - 2ms/step\n",
            "Epoch 27/50\n",
            "29/29 - 0s - loss: 0.0927 - accuracy: 0.9663 - 46ms/epoch - 2ms/step\n",
            "Epoch 28/50\n",
            "29/29 - 0s - loss: 0.0881 - accuracy: 0.9652 - 59ms/epoch - 2ms/step\n",
            "Epoch 29/50\n",
            "29/29 - 0s - loss: 0.0839 - accuracy: 0.9652 - 47ms/epoch - 2ms/step\n",
            "Epoch 30/50\n",
            "29/29 - 0s - loss: 0.0884 - accuracy: 0.9652 - 46ms/epoch - 2ms/step\n",
            "Epoch 31/50\n",
            "29/29 - 0s - loss: 0.0819 - accuracy: 0.9717 - 51ms/epoch - 2ms/step\n",
            "Epoch 32/50\n",
            "29/29 - 0s - loss: 0.0792 - accuracy: 0.9684 - 53ms/epoch - 2ms/step\n",
            "Epoch 33/50\n",
            "29/29 - 0s - loss: 0.0762 - accuracy: 0.9695 - 46ms/epoch - 2ms/step\n",
            "Epoch 34/50\n",
            "29/29 - 0s - loss: 0.0746 - accuracy: 0.9717 - 45ms/epoch - 2ms/step\n",
            "Epoch 35/50\n",
            "29/29 - 0s - loss: 0.0722 - accuracy: 0.9695 - 45ms/epoch - 2ms/step\n",
            "Epoch 36/50\n",
            "29/29 - 0s - loss: 0.0678 - accuracy: 0.9750 - 52ms/epoch - 2ms/step\n",
            "Epoch 37/50\n",
            "29/29 - 0s - loss: 0.0638 - accuracy: 0.9728 - 46ms/epoch - 2ms/step\n",
            "Epoch 38/50\n",
            "29/29 - 0s - loss: 0.0610 - accuracy: 0.9771 - 47ms/epoch - 2ms/step\n",
            "Epoch 39/50\n",
            "29/29 - 0s - loss: 0.0625 - accuracy: 0.9750 - 47ms/epoch - 2ms/step\n",
            "Epoch 40/50\n",
            "29/29 - 0s - loss: 0.0551 - accuracy: 0.9826 - 49ms/epoch - 2ms/step\n",
            "Epoch 41/50\n",
            "29/29 - 0s - loss: 0.0518 - accuracy: 0.9826 - 46ms/epoch - 2ms/step\n",
            "Epoch 42/50\n",
            "29/29 - 0s - loss: 0.0513 - accuracy: 0.9826 - 56ms/epoch - 2ms/step\n",
            "Epoch 43/50\n",
            "29/29 - 0s - loss: 0.0505 - accuracy: 0.9826 - 58ms/epoch - 2ms/step\n",
            "Epoch 44/50\n",
            "29/29 - 0s - loss: 0.0484 - accuracy: 0.9848 - 47ms/epoch - 2ms/step\n",
            "Epoch 45/50\n",
            "29/29 - 0s - loss: 0.0454 - accuracy: 0.9837 - 49ms/epoch - 2ms/step\n",
            "Epoch 46/50\n",
            "29/29 - 0s - loss: 0.0442 - accuracy: 0.9869 - 48ms/epoch - 2ms/step\n",
            "Epoch 47/50\n",
            "29/29 - 0s - loss: 0.0419 - accuracy: 0.9869 - 59ms/epoch - 2ms/step\n",
            "Epoch 48/50\n",
            "29/29 - 0s - loss: 0.0412 - accuracy: 0.9837 - 46ms/epoch - 2ms/step\n",
            "Epoch 49/50\n",
            "29/29 - 0s - loss: 0.0395 - accuracy: 0.9891 - 49ms/epoch - 2ms/step\n",
            "Epoch 50/50\n",
            "29/29 - 0s - loss: 0.0364 - accuracy: 0.9891 - 49ms/epoch - 2ms/step\n",
            "8/8 - 0s - loss: 0.0761 - accuracy: 0.9739 - 128ms/epoch - 16ms/step\n",
            "Epoch 1/50\n",
            "29/29 - 1s - loss: 0.6834 - accuracy: 0.5865 - 533ms/epoch - 18ms/step\n",
            "Epoch 2/50\n",
            "29/29 - 0s - loss: 0.5860 - accuracy: 0.7563 - 59ms/epoch - 2ms/step\n",
            "Epoch 3/50\n",
            "29/29 - 0s - loss: 0.5120 - accuracy: 0.7856 - 48ms/epoch - 2ms/step\n",
            "Epoch 4/50\n",
            "29/29 - 0s - loss: 0.4284 - accuracy: 0.8313 - 48ms/epoch - 2ms/step\n",
            "Epoch 5/50\n",
            "29/29 - 0s - loss: 0.3511 - accuracy: 0.8738 - 47ms/epoch - 2ms/step\n",
            "Epoch 6/50\n",
            "29/29 - 0s - loss: 0.2999 - accuracy: 0.8901 - 48ms/epoch - 2ms/step\n",
            "Epoch 7/50\n",
            "29/29 - 0s - loss: 0.2631 - accuracy: 0.9032 - 49ms/epoch - 2ms/step\n",
            "Epoch 8/50\n",
            "29/29 - 0s - loss: 0.2325 - accuracy: 0.9217 - 52ms/epoch - 2ms/step\n",
            "Epoch 9/50\n",
            "29/29 - 0s - loss: 0.2136 - accuracy: 0.9140 - 46ms/epoch - 2ms/step\n",
            "Epoch 10/50\n",
            "29/29 - 0s - loss: 0.1936 - accuracy: 0.9206 - 56ms/epoch - 2ms/step\n",
            "Epoch 11/50\n",
            "29/29 - 0s - loss: 0.1780 - accuracy: 0.9238 - 52ms/epoch - 2ms/step\n",
            "Epoch 12/50\n",
            "29/29 - 0s - loss: 0.1723 - accuracy: 0.9249 - 50ms/epoch - 2ms/step\n",
            "Epoch 13/50\n",
            "29/29 - 0s - loss: 0.1570 - accuracy: 0.9380 - 48ms/epoch - 2ms/step\n",
            "Epoch 14/50\n",
            "29/29 - 0s - loss: 0.1536 - accuracy: 0.9336 - 50ms/epoch - 2ms/step\n",
            "Epoch 15/50\n",
            "29/29 - 0s - loss: 0.1467 - accuracy: 0.9445 - 47ms/epoch - 2ms/step\n",
            "Epoch 16/50\n",
            "29/29 - 0s - loss: 0.1335 - accuracy: 0.9456 - 49ms/epoch - 2ms/step\n",
            "Epoch 17/50\n",
            "29/29 - 0s - loss: 0.1283 - accuracy: 0.9478 - 45ms/epoch - 2ms/step\n",
            "Epoch 18/50\n",
            "29/29 - 0s - loss: 0.1206 - accuracy: 0.9565 - 50ms/epoch - 2ms/step\n",
            "Epoch 19/50\n",
            "29/29 - 0s - loss: 0.1174 - accuracy: 0.9532 - 46ms/epoch - 2ms/step\n",
            "Epoch 20/50\n",
            "29/29 - 0s - loss: 0.1085 - accuracy: 0.9597 - 45ms/epoch - 2ms/step\n",
            "Epoch 21/50\n",
            "29/29 - 0s - loss: 0.1038 - accuracy: 0.9641 - 54ms/epoch - 2ms/step\n",
            "Epoch 22/50\n",
            "29/29 - 0s - loss: 0.1004 - accuracy: 0.9663 - 47ms/epoch - 2ms/step\n",
            "Epoch 23/50\n",
            "29/29 - 0s - loss: 0.0945 - accuracy: 0.9652 - 46ms/epoch - 2ms/step\n",
            "Epoch 24/50\n",
            "29/29 - 0s - loss: 0.0908 - accuracy: 0.9695 - 51ms/epoch - 2ms/step\n",
            "Epoch 25/50\n",
            "29/29 - 0s - loss: 0.0938 - accuracy: 0.9663 - 46ms/epoch - 2ms/step\n",
            "Epoch 26/50\n",
            "29/29 - 0s - loss: 0.0875 - accuracy: 0.9684 - 71ms/epoch - 2ms/step\n",
            "Epoch 27/50\n",
            "29/29 - 0s - loss: 0.0818 - accuracy: 0.9739 - 49ms/epoch - 2ms/step\n",
            "Epoch 28/50\n",
            "29/29 - 0s - loss: 0.0812 - accuracy: 0.9761 - 50ms/epoch - 2ms/step\n",
            "Epoch 29/50\n",
            "29/29 - 0s - loss: 0.0739 - accuracy: 0.9761 - 53ms/epoch - 2ms/step\n",
            "Epoch 30/50\n",
            "29/29 - 0s - loss: 0.0700 - accuracy: 0.9782 - 45ms/epoch - 2ms/step\n",
            "Epoch 31/50\n",
            "29/29 - 0s - loss: 0.0687 - accuracy: 0.9739 - 51ms/epoch - 2ms/step\n",
            "Epoch 32/50\n",
            "29/29 - 0s - loss: 0.0634 - accuracy: 0.9793 - 50ms/epoch - 2ms/step\n",
            "Epoch 33/50\n",
            "29/29 - 0s - loss: 0.0609 - accuracy: 0.9771 - 47ms/epoch - 2ms/step\n",
            "Epoch 34/50\n",
            "29/29 - 0s - loss: 0.0586 - accuracy: 0.9771 - 47ms/epoch - 2ms/step\n",
            "Epoch 35/50\n",
            "29/29 - 0s - loss: 0.0610 - accuracy: 0.9815 - 51ms/epoch - 2ms/step\n",
            "Epoch 36/50\n",
            "29/29 - 0s - loss: 0.0569 - accuracy: 0.9793 - 47ms/epoch - 2ms/step\n",
            "Epoch 37/50\n",
            "29/29 - 0s - loss: 0.0541 - accuracy: 0.9826 - 46ms/epoch - 2ms/step\n",
            "Epoch 38/50\n",
            "29/29 - 0s - loss: 0.0568 - accuracy: 0.9826 - 52ms/epoch - 2ms/step\n",
            "Epoch 39/50\n",
            "29/29 - 0s - loss: 0.0491 - accuracy: 0.9826 - 45ms/epoch - 2ms/step\n",
            "Epoch 40/50\n",
            "29/29 - 0s - loss: 0.0455 - accuracy: 0.9859 - 57ms/epoch - 2ms/step\n",
            "Epoch 41/50\n",
            "29/29 - 0s - loss: 0.0474 - accuracy: 0.9826 - 51ms/epoch - 2ms/step\n",
            "Epoch 42/50\n",
            "29/29 - 0s - loss: 0.0437 - accuracy: 0.9848 - 47ms/epoch - 2ms/step\n",
            "Epoch 43/50\n",
            "29/29 - 0s - loss: 0.0448 - accuracy: 0.9848 - 47ms/epoch - 2ms/step\n",
            "Epoch 44/50\n",
            "29/29 - 0s - loss: 0.0462 - accuracy: 0.9837 - 53ms/epoch - 2ms/step\n",
            "Epoch 45/50\n",
            "29/29 - 0s - loss: 0.0436 - accuracy: 0.9837 - 45ms/epoch - 2ms/step\n",
            "Epoch 46/50\n",
            "29/29 - 0s - loss: 0.0388 - accuracy: 0.9880 - 46ms/epoch - 2ms/step\n",
            "Epoch 47/50\n",
            "29/29 - 0s - loss: 0.0368 - accuracy: 0.9891 - 45ms/epoch - 2ms/step\n",
            "Epoch 48/50\n",
            "29/29 - 0s - loss: 0.0341 - accuracy: 0.9891 - 50ms/epoch - 2ms/step\n",
            "Epoch 49/50\n",
            "29/29 - 0s - loss: 0.0365 - accuracy: 0.9859 - 45ms/epoch - 2ms/step\n",
            "Epoch 50/50\n",
            "29/29 - 0s - loss: 0.0337 - accuracy: 0.9902 - 49ms/epoch - 2ms/step\n",
            "8/8 - 0s - loss: 0.1157 - accuracy: 0.9435 - 133ms/epoch - 17ms/step\n",
            "Epoch 1/50\n",
            "29/29 - 1s - loss: 0.6875 - accuracy: 0.5550 - 525ms/epoch - 18ms/step\n",
            "Epoch 2/50\n",
            "29/29 - 0s - loss: 0.6479 - accuracy: 0.7116 - 47ms/epoch - 2ms/step\n",
            "Epoch 3/50\n",
            "29/29 - 0s - loss: 0.5890 - accuracy: 0.7900 - 46ms/epoch - 2ms/step\n",
            "Epoch 4/50\n",
            "29/29 - 0s - loss: 0.5141 - accuracy: 0.8041 - 54ms/epoch - 2ms/step\n",
            "Epoch 5/50\n",
            "29/29 - 0s - loss: 0.4448 - accuracy: 0.8292 - 51ms/epoch - 2ms/step\n",
            "Epoch 6/50\n",
            "29/29 - 0s - loss: 0.3844 - accuracy: 0.8455 - 59ms/epoch - 2ms/step\n",
            "Epoch 7/50\n",
            "29/29 - 0s - loss: 0.3373 - accuracy: 0.8662 - 47ms/epoch - 2ms/step\n",
            "Epoch 8/50\n",
            "29/29 - 0s - loss: 0.2999 - accuracy: 0.8847 - 56ms/epoch - 2ms/step\n",
            "Epoch 9/50\n",
            "29/29 - 0s - loss: 0.2746 - accuracy: 0.8868 - 46ms/epoch - 2ms/step\n",
            "Epoch 10/50\n",
            "29/29 - 0s - loss: 0.2540 - accuracy: 0.8966 - 47ms/epoch - 2ms/step\n",
            "Epoch 11/50\n",
            "29/29 - 0s - loss: 0.2378 - accuracy: 0.9042 - 50ms/epoch - 2ms/step\n",
            "Epoch 12/50\n",
            "29/29 - 0s - loss: 0.2206 - accuracy: 0.9108 - 50ms/epoch - 2ms/step\n",
            "Epoch 13/50\n",
            "29/29 - 0s - loss: 0.2079 - accuracy: 0.9173 - 50ms/epoch - 2ms/step\n",
            "Epoch 14/50\n",
            "29/29 - 0s - loss: 0.2023 - accuracy: 0.9173 - 55ms/epoch - 2ms/step\n",
            "Epoch 15/50\n",
            "29/29 - 0s - loss: 0.1968 - accuracy: 0.9151 - 53ms/epoch - 2ms/step\n",
            "Epoch 16/50\n",
            "29/29 - 0s - loss: 0.1770 - accuracy: 0.9293 - 49ms/epoch - 2ms/step\n",
            "Epoch 17/50\n",
            "29/29 - 0s - loss: 0.1681 - accuracy: 0.9336 - 47ms/epoch - 2ms/step\n",
            "Epoch 18/50\n",
            "29/29 - 0s - loss: 0.1606 - accuracy: 0.9391 - 46ms/epoch - 2ms/step\n",
            "Epoch 19/50\n",
            "29/29 - 0s - loss: 0.1523 - accuracy: 0.9369 - 47ms/epoch - 2ms/step\n",
            "Epoch 20/50\n",
            "29/29 - 0s - loss: 0.1410 - accuracy: 0.9467 - 48ms/epoch - 2ms/step\n",
            "Epoch 21/50\n",
            "29/29 - 0s - loss: 0.1319 - accuracy: 0.9489 - 51ms/epoch - 2ms/step\n",
            "Epoch 22/50\n",
            "29/29 - 0s - loss: 0.1240 - accuracy: 0.9576 - 45ms/epoch - 2ms/step\n",
            "Epoch 23/50\n",
            "29/29 - 0s - loss: 0.1227 - accuracy: 0.9532 - 51ms/epoch - 2ms/step\n",
            "Epoch 24/50\n",
            "29/29 - 0s - loss: 0.1194 - accuracy: 0.9619 - 47ms/epoch - 2ms/step\n",
            "Epoch 25/50\n",
            "29/29 - 0s - loss: 0.1062 - accuracy: 0.9663 - 44ms/epoch - 2ms/step\n",
            "Epoch 26/50\n",
            "29/29 - 0s - loss: 0.1002 - accuracy: 0.9674 - 52ms/epoch - 2ms/step\n",
            "Epoch 27/50\n",
            "29/29 - 0s - loss: 0.0997 - accuracy: 0.9652 - 49ms/epoch - 2ms/step\n",
            "Epoch 28/50\n",
            "29/29 - 0s - loss: 0.0969 - accuracy: 0.9674 - 50ms/epoch - 2ms/step\n",
            "Epoch 29/50\n",
            "29/29 - 0s - loss: 0.0894 - accuracy: 0.9695 - 47ms/epoch - 2ms/step\n",
            "Epoch 30/50\n",
            "29/29 - 0s - loss: 0.0843 - accuracy: 0.9728 - 46ms/epoch - 2ms/step\n",
            "Epoch 31/50\n",
            "29/29 - 0s - loss: 0.0833 - accuracy: 0.9750 - 51ms/epoch - 2ms/step\n",
            "Epoch 32/50\n",
            "29/29 - 0s - loss: 0.0773 - accuracy: 0.9750 - 47ms/epoch - 2ms/step\n",
            "Epoch 33/50\n",
            "29/29 - 0s - loss: 0.0781 - accuracy: 0.9771 - 54ms/epoch - 2ms/step\n",
            "Epoch 34/50\n",
            "29/29 - 0s - loss: 0.0738 - accuracy: 0.9804 - 52ms/epoch - 2ms/step\n",
            "Epoch 35/50\n",
            "29/29 - 0s - loss: 0.0776 - accuracy: 0.9761 - 49ms/epoch - 2ms/step\n",
            "Epoch 36/50\n",
            "29/29 - 0s - loss: 0.0666 - accuracy: 0.9761 - 47ms/epoch - 2ms/step\n",
            "Epoch 37/50\n",
            "29/29 - 0s - loss: 0.0645 - accuracy: 0.9771 - 52ms/epoch - 2ms/step\n",
            "Epoch 38/50\n",
            "29/29 - 0s - loss: 0.0614 - accuracy: 0.9804 - 49ms/epoch - 2ms/step\n",
            "Epoch 39/50\n",
            "29/29 - 0s - loss: 0.0607 - accuracy: 0.9815 - 46ms/epoch - 2ms/step\n",
            "Epoch 40/50\n",
            "29/29 - 0s - loss: 0.0590 - accuracy: 0.9837 - 48ms/epoch - 2ms/step\n",
            "Epoch 41/50\n",
            "29/29 - 0s - loss: 0.0627 - accuracy: 0.9782 - 49ms/epoch - 2ms/step\n",
            "Epoch 42/50\n",
            "29/29 - 0s - loss: 0.0565 - accuracy: 0.9848 - 46ms/epoch - 2ms/step\n",
            "Epoch 43/50\n",
            "29/29 - 0s - loss: 0.0520 - accuracy: 0.9826 - 60ms/epoch - 2ms/step\n",
            "Epoch 44/50\n",
            "29/29 - 0s - loss: 0.0512 - accuracy: 0.9880 - 57ms/epoch - 2ms/step\n",
            "Epoch 45/50\n",
            "29/29 - 0s - loss: 0.0499 - accuracy: 0.9859 - 47ms/epoch - 2ms/step\n",
            "Epoch 46/50\n",
            "29/29 - 0s - loss: 0.0477 - accuracy: 0.9880 - 50ms/epoch - 2ms/step\n",
            "Epoch 47/50\n",
            "29/29 - 0s - loss: 0.0452 - accuracy: 0.9880 - 52ms/epoch - 2ms/step\n",
            "Epoch 48/50\n",
            "29/29 - 0s - loss: 0.0436 - accuracy: 0.9935 - 48ms/epoch - 2ms/step\n",
            "Epoch 49/50\n",
            "29/29 - 0s - loss: 0.0429 - accuracy: 0.9913 - 46ms/epoch - 2ms/step\n",
            "Epoch 50/50\n",
            "29/29 - 0s - loss: 0.0407 - accuracy: 0.9924 - 46ms/epoch - 2ms/step\n",
            "8/8 - 0s - loss: 0.0704 - accuracy: 0.9652 - 137ms/epoch - 17ms/step\n",
            "Epoch 1/50\n",
            "29/29 - 1s - loss: 0.7770 - accuracy: 0.4940 - 538ms/epoch - 19ms/step\n",
            "Epoch 2/50\n",
            "29/29 - 0s - loss: 0.6310 - accuracy: 0.6083 - 51ms/epoch - 2ms/step\n",
            "Epoch 3/50\n",
            "29/29 - 0s - loss: 0.5842 - accuracy: 0.7138 - 52ms/epoch - 2ms/step\n",
            "Epoch 4/50\n",
            "29/29 - 0s - loss: 0.5467 - accuracy: 0.7845 - 53ms/epoch - 2ms/step\n",
            "Epoch 5/50\n",
            "29/29 - 0s - loss: 0.5158 - accuracy: 0.8194 - 47ms/epoch - 2ms/step\n",
            "Epoch 6/50\n",
            "29/29 - 0s - loss: 0.4912 - accuracy: 0.8390 - 47ms/epoch - 2ms/step\n",
            "Epoch 7/50\n",
            "29/29 - 0s - loss: 0.4709 - accuracy: 0.8520 - 59ms/epoch - 2ms/step\n",
            "Epoch 8/50\n",
            "29/29 - 0s - loss: 0.4525 - accuracy: 0.8781 - 47ms/epoch - 2ms/step\n",
            "Epoch 9/50\n",
            "29/29 - 0s - loss: 0.4374 - accuracy: 0.8814 - 46ms/epoch - 2ms/step\n",
            "Epoch 10/50\n",
            "29/29 - 0s - loss: 0.4224 - accuracy: 0.9042 - 50ms/epoch - 2ms/step\n",
            "Epoch 11/50\n",
            "29/29 - 0s - loss: 0.4072 - accuracy: 0.9086 - 48ms/epoch - 2ms/step\n",
            "Epoch 12/50\n",
            "29/29 - 0s - loss: 0.3929 - accuracy: 0.9206 - 46ms/epoch - 2ms/step\n",
            "Epoch 13/50\n",
            "29/29 - 0s - loss: 0.3798 - accuracy: 0.9249 - 55ms/epoch - 2ms/step\n",
            "Epoch 14/50\n",
            "29/29 - 0s - loss: 0.3680 - accuracy: 0.9293 - 46ms/epoch - 2ms/step\n",
            "Epoch 15/50\n",
            "29/29 - 0s - loss: 0.3571 - accuracy: 0.9325 - 47ms/epoch - 2ms/step\n",
            "Epoch 16/50\n",
            "29/29 - 0s - loss: 0.3458 - accuracy: 0.9402 - 48ms/epoch - 2ms/step\n",
            "Epoch 17/50\n",
            "29/29 - 0s - loss: 0.3373 - accuracy: 0.9434 - 50ms/epoch - 2ms/step\n",
            "Epoch 18/50\n",
            "29/29 - 0s - loss: 0.3264 - accuracy: 0.9554 - 46ms/epoch - 2ms/step\n",
            "Epoch 19/50\n",
            "29/29 - 0s - loss: 0.3162 - accuracy: 0.9532 - 71ms/epoch - 2ms/step\n",
            "Epoch 20/50\n",
            "29/29 - 0s - loss: 0.3076 - accuracy: 0.9510 - 57ms/epoch - 2ms/step\n",
            "Epoch 21/50\n",
            "29/29 - 0s - loss: 0.2976 - accuracy: 0.9630 - 48ms/epoch - 2ms/step\n",
            "Epoch 22/50\n",
            "29/29 - 0s - loss: 0.2891 - accuracy: 0.9641 - 43ms/epoch - 1ms/step\n",
            "Epoch 23/50\n",
            "29/29 - 0s - loss: 0.2814 - accuracy: 0.9674 - 48ms/epoch - 2ms/step\n",
            "Epoch 24/50\n",
            "29/29 - 0s - loss: 0.2736 - accuracy: 0.9695 - 47ms/epoch - 2ms/step\n",
            "Epoch 25/50\n",
            "29/29 - 0s - loss: 0.2665 - accuracy: 0.9706 - 52ms/epoch - 2ms/step\n",
            "Epoch 26/50\n",
            "29/29 - 0s - loss: 0.2593 - accuracy: 0.9739 - 45ms/epoch - 2ms/step\n",
            "Epoch 27/50\n",
            "29/29 - 0s - loss: 0.2530 - accuracy: 0.9750 - 45ms/epoch - 2ms/step\n",
            "Epoch 28/50\n",
            "29/29 - 0s - loss: 0.2449 - accuracy: 0.9771 - 46ms/epoch - 2ms/step\n",
            "Epoch 29/50\n",
            "29/29 - 0s - loss: 0.2408 - accuracy: 0.9782 - 53ms/epoch - 2ms/step\n",
            "Epoch 30/50\n",
            "29/29 - 0s - loss: 0.2330 - accuracy: 0.9804 - 58ms/epoch - 2ms/step\n",
            "Epoch 31/50\n",
            "29/29 - 0s - loss: 0.2271 - accuracy: 0.9782 - 48ms/epoch - 2ms/step\n",
            "Epoch 32/50\n",
            "29/29 - 0s - loss: 0.2224 - accuracy: 0.9837 - 52ms/epoch - 2ms/step\n",
            "Epoch 33/50\n",
            "29/29 - 0s - loss: 0.2158 - accuracy: 0.9837 - 47ms/epoch - 2ms/step\n",
            "Epoch 34/50\n",
            "29/29 - 0s - loss: 0.2113 - accuracy: 0.9859 - 47ms/epoch - 2ms/step\n",
            "Epoch 35/50\n",
            "29/29 - 0s - loss: 0.2056 - accuracy: 0.9859 - 54ms/epoch - 2ms/step\n",
            "Epoch 36/50\n",
            "29/29 - 0s - loss: 0.1991 - accuracy: 0.9859 - 47ms/epoch - 2ms/step\n",
            "Epoch 37/50\n",
            "29/29 - 0s - loss: 0.1953 - accuracy: 0.9869 - 44ms/epoch - 2ms/step\n",
            "Epoch 38/50\n",
            "29/29 - 0s - loss: 0.1911 - accuracy: 0.9891 - 50ms/epoch - 2ms/step\n",
            "Epoch 39/50\n",
            "29/29 - 0s - loss: 0.1864 - accuracy: 0.9891 - 48ms/epoch - 2ms/step\n",
            "Epoch 40/50\n",
            "29/29 - 0s - loss: 0.1814 - accuracy: 0.9902 - 50ms/epoch - 2ms/step\n",
            "Epoch 41/50\n",
            "29/29 - 0s - loss: 0.1764 - accuracy: 0.9913 - 49ms/epoch - 2ms/step\n",
            "Epoch 42/50\n",
            "29/29 - 0s - loss: 0.1726 - accuracy: 0.9924 - 45ms/epoch - 2ms/step\n",
            "Epoch 43/50\n",
            "29/29 - 0s - loss: 0.1673 - accuracy: 0.9946 - 54ms/epoch - 2ms/step\n",
            "Epoch 44/50\n",
            "29/29 - 0s - loss: 0.1647 - accuracy: 0.9956 - 62ms/epoch - 2ms/step\n",
            "Epoch 45/50\n",
            "29/29 - 0s - loss: 0.1603 - accuracy: 0.9924 - 47ms/epoch - 2ms/step\n",
            "Epoch 46/50\n",
            "29/29 - 0s - loss: 0.1564 - accuracy: 0.9935 - 46ms/epoch - 2ms/step\n",
            "Epoch 47/50\n",
            "29/29 - 0s - loss: 0.1531 - accuracy: 0.9967 - 46ms/epoch - 2ms/step\n",
            "Epoch 48/50\n",
            "29/29 - 0s - loss: 0.1499 - accuracy: 0.9967 - 49ms/epoch - 2ms/step\n",
            "Epoch 49/50\n",
            "29/29 - 0s - loss: 0.1462 - accuracy: 0.9956 - 49ms/epoch - 2ms/step\n",
            "Epoch 50/50\n",
            "29/29 - 0s - loss: 0.1428 - accuracy: 0.9967 - 45ms/epoch - 2ms/step\n",
            "8/8 - 0s - loss: 0.1991 - accuracy: 0.9652 - 141ms/epoch - 18ms/step\n",
            "Epoch 1/50\n",
            "29/29 - 1s - loss: 0.7067 - accuracy: 0.4989 - 528ms/epoch - 18ms/step\n",
            "Epoch 2/50\n",
            "29/29 - 0s - loss: 0.6481 - accuracy: 0.5413 - 48ms/epoch - 2ms/step\n",
            "Epoch 3/50\n",
            "29/29 - 0s - loss: 0.5965 - accuracy: 0.7413 - 46ms/epoch - 2ms/step\n",
            "Epoch 4/50\n",
            "29/29 - 0s - loss: 0.5331 - accuracy: 0.7978 - 48ms/epoch - 2ms/step\n",
            "Epoch 5/50\n",
            "29/29 - 0s - loss: 0.4587 - accuracy: 0.8370 - 47ms/epoch - 2ms/step\n",
            "Epoch 6/50\n",
            "29/29 - 0s - loss: 0.3816 - accuracy: 0.8696 - 53ms/epoch - 2ms/step\n",
            "Epoch 7/50\n",
            "29/29 - 0s - loss: 0.3177 - accuracy: 0.8815 - 52ms/epoch - 2ms/step\n",
            "Epoch 8/50\n",
            "29/29 - 0s - loss: 0.2724 - accuracy: 0.8946 - 48ms/epoch - 2ms/step\n",
            "Epoch 9/50\n",
            "29/29 - 0s - loss: 0.2415 - accuracy: 0.9054 - 51ms/epoch - 2ms/step\n",
            "Epoch 10/50\n",
            "29/29 - 0s - loss: 0.2139 - accuracy: 0.9152 - 53ms/epoch - 2ms/step\n",
            "Epoch 11/50\n",
            "29/29 - 0s - loss: 0.1979 - accuracy: 0.9152 - 43ms/epoch - 1ms/step\n",
            "Epoch 12/50\n",
            "29/29 - 0s - loss: 0.1831 - accuracy: 0.9196 - 49ms/epoch - 2ms/step\n",
            "Epoch 13/50\n",
            "29/29 - 0s - loss: 0.1681 - accuracy: 0.9283 - 49ms/epoch - 2ms/step\n",
            "Epoch 14/50\n",
            "29/29 - 0s - loss: 0.1587 - accuracy: 0.9326 - 48ms/epoch - 2ms/step\n",
            "Epoch 15/50\n",
            "29/29 - 0s - loss: 0.1556 - accuracy: 0.9391 - 47ms/epoch - 2ms/step\n",
            "Epoch 16/50\n",
            "29/29 - 0s - loss: 0.1382 - accuracy: 0.9500 - 47ms/epoch - 2ms/step\n",
            "Epoch 17/50\n",
            "29/29 - 0s - loss: 0.1333 - accuracy: 0.9467 - 48ms/epoch - 2ms/step\n",
            "Epoch 18/50\n",
            "29/29 - 0s - loss: 0.1234 - accuracy: 0.9533 - 51ms/epoch - 2ms/step\n",
            "Epoch 19/50\n",
            "29/29 - 0s - loss: 0.1233 - accuracy: 0.9522 - 59ms/epoch - 2ms/step\n",
            "Epoch 20/50\n",
            "29/29 - 0s - loss: 0.1126 - accuracy: 0.9554 - 54ms/epoch - 2ms/step\n",
            "Epoch 21/50\n",
            "29/29 - 0s - loss: 0.1114 - accuracy: 0.9576 - 49ms/epoch - 2ms/step\n",
            "Epoch 22/50\n",
            "29/29 - 0s - loss: 0.1050 - accuracy: 0.9576 - 47ms/epoch - 2ms/step\n",
            "Epoch 23/50\n",
            "29/29 - 0s - loss: 0.0991 - accuracy: 0.9620 - 47ms/epoch - 2ms/step\n",
            "Epoch 24/50\n",
            "29/29 - 0s - loss: 0.0966 - accuracy: 0.9630 - 50ms/epoch - 2ms/step\n",
            "Epoch 25/50\n",
            "29/29 - 0s - loss: 0.0912 - accuracy: 0.9685 - 47ms/epoch - 2ms/step\n",
            "Epoch 26/50\n",
            "29/29 - 0s - loss: 0.0893 - accuracy: 0.9717 - 48ms/epoch - 2ms/step\n",
            "Epoch 27/50\n",
            "29/29 - 0s - loss: 0.0842 - accuracy: 0.9707 - 48ms/epoch - 2ms/step\n",
            "Epoch 28/50\n",
            "29/29 - 0s - loss: 0.0834 - accuracy: 0.9707 - 45ms/epoch - 2ms/step\n",
            "Epoch 29/50\n",
            "29/29 - 0s - loss: 0.0815 - accuracy: 0.9685 - 47ms/epoch - 2ms/step\n",
            "Epoch 30/50\n",
            "29/29 - 0s - loss: 0.0776 - accuracy: 0.9728 - 46ms/epoch - 2ms/step\n",
            "Epoch 31/50\n",
            "29/29 - 0s - loss: 0.0760 - accuracy: 0.9696 - 49ms/epoch - 2ms/step\n",
            "Epoch 32/50\n",
            "29/29 - 0s - loss: 0.0726 - accuracy: 0.9750 - 49ms/epoch - 2ms/step\n",
            "Epoch 33/50\n",
            "29/29 - 0s - loss: 0.0684 - accuracy: 0.9772 - 52ms/epoch - 2ms/step\n",
            "Epoch 34/50\n",
            "29/29 - 0s - loss: 0.0678 - accuracy: 0.9793 - 48ms/epoch - 2ms/step\n",
            "Epoch 35/50\n",
            "29/29 - 0s - loss: 0.0655 - accuracy: 0.9783 - 53ms/epoch - 2ms/step\n",
            "Epoch 36/50\n",
            "29/29 - 0s - loss: 0.0651 - accuracy: 0.9793 - 46ms/epoch - 2ms/step\n",
            "Epoch 37/50\n",
            "29/29 - 0s - loss: 0.0605 - accuracy: 0.9804 - 49ms/epoch - 2ms/step\n",
            "Epoch 38/50\n",
            "29/29 - 0s - loss: 0.0592 - accuracy: 0.9804 - 59ms/epoch - 2ms/step\n",
            "Epoch 39/50\n",
            "29/29 - 0s - loss: 0.0585 - accuracy: 0.9815 - 47ms/epoch - 2ms/step\n",
            "Epoch 40/50\n",
            "29/29 - 0s - loss: 0.0565 - accuracy: 0.9848 - 47ms/epoch - 2ms/step\n",
            "Epoch 41/50\n",
            "29/29 - 0s - loss: 0.0555 - accuracy: 0.9826 - 45ms/epoch - 2ms/step\n",
            "Epoch 42/50\n",
            "29/29 - 0s - loss: 0.0552 - accuracy: 0.9815 - 45ms/epoch - 2ms/step\n",
            "Epoch 43/50\n",
            "29/29 - 0s - loss: 0.0537 - accuracy: 0.9837 - 49ms/epoch - 2ms/step\n",
            "Epoch 44/50\n",
            "29/29 - 0s - loss: 0.0523 - accuracy: 0.9848 - 44ms/epoch - 2ms/step\n",
            "Epoch 45/50\n",
            "29/29 - 0s - loss: 0.0486 - accuracy: 0.9848 - 54ms/epoch - 2ms/step\n",
            "Epoch 46/50\n",
            "29/29 - 0s - loss: 0.0495 - accuracy: 0.9848 - 49ms/epoch - 2ms/step\n",
            "Epoch 47/50\n",
            "29/29 - 0s - loss: 0.0462 - accuracy: 0.9859 - 45ms/epoch - 2ms/step\n",
            "Epoch 48/50\n",
            "29/29 - 0s - loss: 0.0447 - accuracy: 0.9859 - 46ms/epoch - 2ms/step\n",
            "Epoch 49/50\n",
            "29/29 - 0s - loss: 0.0484 - accuracy: 0.9837 - 48ms/epoch - 2ms/step\n",
            "Epoch 50/50\n",
            "29/29 - 0s - loss: 0.0430 - accuracy: 0.9870 - 51ms/epoch - 2ms/step\n",
            "8/8 - 0s - loss: 0.0743 - accuracy: 0.9782 - 120ms/epoch - 15ms/step\n"
          ]
        },
        {
          "output_type": "execute_result",
          "data": {
            "text/plain": [
              "array([0.97391301, 0.94347829, 0.96521741, 0.96521741, 0.97816592])"
            ]
          },
          "metadata": {},
          "execution_count": 32
        }
      ],
      "source": [
        "cross_val_score(keras_model, X_pure_train, y_pure_train)"
      ]
    },
    {
      "cell_type": "markdown",
      "metadata": {
        "id": "L-UfQo8D10Pt"
      },
      "source": [
        "## Level Up: Regularization"
      ]
    },
    {
      "cell_type": "markdown",
      "metadata": {
        "id": "xG7PeB8610Pt"
      },
      "source": [
        "Does regularization make sense in the context of neural networks? <br/>\n",
        "\n",
        "Yes! We still have all of the salient ingredients: a loss function, overfitting vs. underfitting, and coefficients (weights) that could get too large.\n",
        "\n",
        "But there are now a few different flavors besides L1 and L2 regularization. (Note that L1 regularization is not common in the context of  neural networks.)\n",
        "\n",
        "We'll add a few more layers to give regularization a better chance of making a difference!"
      ]
    },
    {
      "cell_type": "code",
      "execution_count": null,
      "metadata": {
        "colab": {
          "base_uri": "https://localhost:8080/",
          "height": 320
        },
        "id": "UYN_-uxJ10Pt",
        "outputId": "9a03f0ec-28b3-4633-d38d-fcab61e478e2"
      },
      "outputs": [
        {
          "output_type": "display_data",
          "data": {
            "text/plain": [
              "<Figure size 720x360 with 2 Axes>"
            ],
            "image/png": "[encoded data removed]"
          },
          "metadata": {
            "needs_background": "light"
          }
        }
      ],
      "source": [
        "model = Sequential()\n",
        "model.add(Dense(30, activation='relu', input_dim=64))\n",
        "\n",
        "# We can add L2 (or L1) regularization right into\n",
        "# the layer with the kernel_regularizer parameter.\n",
        "\n",
        "model.add(Dense(20, activation='relu',\n",
        "                kernel_regularizer=l2(l2=0.05)))\n",
        "\n",
        "# Note that there is also a bias_regularizer,\n",
        "# but this tends to have less effect.\n",
        "\n",
        "model.add(Dense(12, activation='relu'))\n",
        "model.add(Dense(12, activation='relu'))\n",
        "model.add(Dense(12, activation='relu'))\n",
        "model.add(Dense(8, activation='relu'))\n",
        "model.add(Dense(4, activation='relu'))\n",
        "model.add(Dense(1, activation ='sigmoid'))\n",
        "\n",
        "model.compile(optimizer='adam',\n",
        "              loss='binary_crossentropy',\n",
        "              metrics=['accuracy'])\n",
        "\n",
        "results = model.fit(X_pure_train, y_pure_train, epochs=20, batch_size=32,\n",
        "                    verbose=0, validation_data=(X_val, y_val))\n",
        "\n",
        "train_loss = results.history['loss']\n",
        "train_acc = results.history['accuracy']\n",
        "val_loss = results.history['val_loss']\n",
        "val_acc = results.history['val_accuracy']\n",
        "\n",
        "\n",
        "fig, (ax1, ax2) = plt.subplots(1, 2, figsize=(10, 5))\n",
        "sns.lineplot(x=results.epoch, y=train_loss, ax=ax1, label='train_loss')\n",
        "sns.lineplot(x=results.epoch, y=train_acc, ax=ax2, label='train_accuracy')\n",
        "\n",
        "sns.lineplot(x=results.epoch, y=val_loss, ax=ax1, label='val_loss')\n",
        "sns.lineplot(x=results.epoch, y=val_acc, ax=ax2, label='val_accuracy');"
      ]
    },
    {
      "cell_type": "markdown",
      "metadata": {
        "id": "eAj8_P7510Pt"
      },
      "source": [
        "Adding L2 to multiple layers:"
      ]
    },
    {
      "cell_type": "code",
      "execution_count": null,
      "metadata": {
        "colab": {
          "base_uri": "https://localhost:8080/",
          "height": 322
        },
        "id": "IeSsNDAC10Pt",
        "outputId": "847bbc2e-8500-41c9-ed54-a7da9666c1a0"
      },
      "outputs": [
        {
          "output_type": "display_data",
          "data": {
            "text/plain": [
              "<Figure size 720x360 with 2 Axes>"
            ],
            "image/png": "[encoded data removed]"
          },
          "metadata": {
            "needs_background": "light"
          }
        }
      ],
      "source": [
        "model = Sequential()\n",
        "model.add(Dense(30, activation='relu',\n",
        "                input_dim=64))\n",
        "model.add(Dense(20, activation='relu',\n",
        "                kernel_regularizer=l2(l2=0.01)))\n",
        "\n",
        "model.add(Dense(12, activation='relu',\n",
        "                kernel_regularizer=l2(l2=0.01)))\n",
        "model.add(Dense(12, activation='relu',\n",
        "                kernel_regularizer=l2(l2=0.01)))\n",
        "model.add(Dense(12, activation='relu',\n",
        "                kernel_regularizer=l2(l2=0.01)))\n",
        "model.add(Dense(8, activation='relu',\n",
        "                kernel_regularizer=l2(l2=0.01)))\n",
        "model.add(Dense(4, activation='relu',\n",
        "                kernel_regularizer=l2(l2=0.01)))\n",
        "model.add(Dense(1, activation='sigmoid'))\n",
        "\n",
        "model.compile(optimizer='adam',\n",
        "              loss='binary_crossentropy',\n",
        "              metrics=['accuracy'])\n",
        "\n",
        "results = model.fit(X_pure_train, y_pure_train, epochs=20, batch_size=32,\n",
        "                    verbose=0, validation_data=(X_val, y_val))\n",
        "\n",
        "train_loss = results.history['loss']\n",
        "train_acc = results.history['accuracy']\n",
        "val_loss = results.history['val_loss']\n",
        "val_acc = results.history['val_accuracy']\n",
        "\n",
        "\n",
        "fig, (ax1, ax2) = plt.subplots(1, 2, figsize=(10, 5))\n",
        "sns.lineplot(x=results.epoch, y=train_loss, ax=ax1, label='train_loss')\n",
        "sns.lineplot(x=results.epoch, y=train_acc, ax=ax2, label='train_accuracy')\n",
        "\n",
        "sns.lineplot(x=results.epoch, y=val_loss, ax=ax1, label='val_loss')\n",
        "sns.lineplot(x=results.epoch, y=val_acc, ax=ax2, label='val_accuracy');"
      ]
    },
    {
      "cell_type": "markdown",
      "metadata": {
        "id": "fBbkcNYe10Pu"
      },
      "source": [
        "### Dropout\n",
        "\n",
        "We can also specify a dropout layer in keras, which randomly shuts off different nodes during training. This can help to prevent overfitting.\n",
        "\n",
        "![drop_out](https://raw.githubusercontent.com/flatiron-school/DS-Instructor-Content/main/Deep-Learning/Network-Regularization-Evaluation/images/drop_out.png?token=GHSAT0AAAAAAB2K4EEJVLPPBWTUGTSD37PGY22UZZQ)"
      ]
    },
    {
      "cell_type": "markdown",
      "metadata": {
        "id": "eBX2bQhJ10Pu"
      },
      "source": [
        "### Exercise\n",
        "\n",
        "To add dropout to a `keras` network, simply add it as though it were a layer. It will apply to the immediately preceding layer.\n",
        "\n",
        "Add Dropout to one or more layers below."
      ]
    },
    {
      "cell_type": "code",
      "execution_count": null,
      "metadata": {
        "colab": {
          "base_uri": "https://localhost:8080/",
          "height": 320
        },
        "id": "MmGLJdSf10Pu",
        "outputId": "8b8d5b38-bae1-40af-aa23-8ff61d75d96a"
      },
      "outputs": [
        {
          "output_type": "display_data",
          "data": {
            "text/plain": [
              "<Figure size 720x360 with 2 Axes>"
            ],
            "image/png": "[encoded data removed]"
          },
          "metadata": {
            "needs_background": "light"
          }
        }
      ],
      "source": [
        "model = Sequential()\n",
        "model.add(Dense(30, activation='relu', input_dim=64))\n",
        "model.add(Dense(20, activation='relu'))\n",
        "model.add(Dense(12, activation='relu'))\n",
        "model.add(Dense(12, activation='relu'))\n",
        "model.add(Dense(12, activation='relu'))\n",
        "model.add(Dense(8, activation='relu'))\n",
        "model.add(Dense(4, activation='relu'))\n",
        "model.add(Dense(1, activation ='sigmoid'))\n",
        "\n",
        "model.compile(optimizer='adam',\n",
        "              loss='binary_crossentropy',\n",
        "              metrics=['accuracy'])\n",
        "\n",
        "results = model.fit(X_pure_train, y_pure_train, epochs=50,\n",
        "                    batch_size= 32, verbose=0,\n",
        "                    validation_data=(X_val, y_val))\n",
        "\n",
        "train_loss = results.history['loss']\n",
        "train_acc = results.history['accuracy']\n",
        "val_loss = results.history['val_loss']\n",
        "val_acc = results.history['val_accuracy']\n",
        "\n",
        "\n",
        "fig, (ax1, ax2) = plt.subplots(1, 2, figsize=(10, 5))\n",
        "sns.lineplot(x=results.epoch, y=train_loss, ax=ax1, label='train_loss')\n",
        "sns.lineplot(x=results.epoch, y=train_acc, ax=ax2, label='train_accuracy')\n",
        "\n",
        "sns.lineplot(x=results.epoch, y=val_loss, ax=ax1, label='val_loss')\n",
        "sns.lineplot(x=results.epoch, y=val_acc, ax=ax2, label='val_accuracy');"
      ]
    },
    {
      "cell_type": "markdown",
      "metadata": {
        "id": "mOmjMT_o10Pu"
      },
      "source": [
        "<details>\n",
        "    <summary>One answer here</summary>\n",
        "<code>model = Sequential()\n",
        "model.add(Dense(30, activation='relu', input_dim=64))\n",
        "model.add(Dense(20, activation='relu'))\n",
        "model.add(Dropout(0.5))\n",
        "model.add(Dense(12, activation='relu'))\n",
        "model.add(Dropout(0.2))\n",
        "model.add(Dense(12, activation='relu'))\n",
        "model.add(Dense(12, activation='relu'))\n",
        "model.add(Dense(8, activation='relu'))\n",
        "model.add(Dense(4, activation='relu'))\n",
        "model.add(Dense(1, activation ='sigmoid'))\n",
        "\n",
        "model.compile(optimizer='adam',\n",
        "              loss='binary_crossentropy',\n",
        "              metrics=['accuracy'])\n",
        "\n",
        "results = model.fit(X_pure_train, y_pure_train, epochs=50,\n",
        "                    batch_size= 32, verbose=0,\n",
        "                    validation_data=(X_val, y_val))\n",
        "\n",
        "train_loss = results.history['loss']\n",
        "train_acc = results.history['accuracy']\n",
        "val_loss = results.history['val_loss']\n",
        "val_acc = results.history['val_accuracy']\n",
        "\n",
        "\n",
        "fig, (ax1, ax2) = plt.subplots(1, 2, figsize=(10, 5))\n",
        "sns.lineplot(x=results.epoch, y=train_loss, ax=ax1, label='train_loss')\n",
        "sns.lineplot(x=results.epoch, y=train_acc, ax=ax2, label='train_accuracy')\n",
        "\n",
        "sns.lineplot(x=results.epoch, y=val_loss, ax=ax1, label='val_loss')\n",
        "sns.lineplot(x=results.epoch, y=val_acc, ax=ax2, label='val_accuracy');</code>\n",
        "</details>"
      ]
    },
    {
      "cell_type": "code",
      "execution_count": null,
      "metadata": {
        "colab": {
          "base_uri": "https://localhost:8080/"
        },
        "id": "XHgMRzwq10Pu",
        "outputId": "a6cbb587-7e18-48cc-eb6f-c8851509b168"
      },
      "outputs": [
        {
          "output_type": "execute_result",
          "data": {
            "text/plain": [
              "0.9722222089767456"
            ]
          },
          "metadata": {},
          "execution_count": 36
        }
      ],
      "source": [
        "results.history['val_accuracy'][-1]"
      ]
    },
    {
      "cell_type": "markdown",
      "metadata": {
        "id": "yDoj2osu10Pu"
      },
      "source": [
        "### Early Stopping"
      ]
    },
    {
      "cell_type": "markdown",
      "metadata": {
        "id": "O5KN7lJW10Pu"
      },
      "source": [
        "We can also tell our neural network to stop once it stops realizing any gain.\n",
        "\n",
        "Here we tell it to stop once the a very small positive change in the validation loss occurs:"
      ]
    },
    {
      "cell_type": "code",
      "execution_count": null,
      "metadata": {
        "colab": {
          "base_uri": "https://localhost:8080/",
          "height": 338
        },
        "id": "cXmO2lvu10Pu",
        "outputId": "dca3213d-537e-42c9-f846-7c519ae59a01"
      },
      "outputs": [
        {
          "output_type": "stream",
          "name": "stdout",
          "text": [
            "Epoch 2: early stopping\n"
          ]
        },
        {
          "output_type": "display_data",
          "data": {
            "text/plain": [
              "<Figure size 720x360 with 2 Axes>"
            ],
            "image/png": "[encoded data removed]"
          },
          "metadata": {
            "needs_background": "light"
          }
        }
      ],
      "source": [
        "model = Sequential()\n",
        "model.add(Dense(30, activation='relu', input_dim=64))\n",
        "model.add(Dense(20, activation='relu'))\n",
        "model.add(Dropout(0.5))\n",
        "model.add(Dense(12, activation='relu'))\n",
        "model.add(Dense(12, activation='relu'))\n",
        "model.add(Dense(12, activation='relu'))\n",
        "model.add(Dense(8, activation='relu'))\n",
        "model.add(Dense(4, activation='relu'))\n",
        "model.add(Dense(1, activation ='sigmoid'))\n",
        "\n",
        "model.compile(optimizer='adam',\n",
        "              loss='binary_crossentropy',\n",
        "              metrics=['accuracy'])\n",
        "\n",
        "# Define the EarlyStopping object\n",
        "early_stop = EarlyStopping(monitor='val_loss', min_delta=1e-8,\n",
        "                           verbose=1,\n",
        "                           mode='min')\n",
        "\n",
        "# Place this in a list as the value of the `callbacks` parameter\n",
        "# in the `.fit()` method.\n",
        "results = model.fit(X_pure_train, y_pure_train,\n",
        "                    epochs=20, batch_size=32,\n",
        "                    verbose=0, validation_data=(X_val, y_val),\n",
        "                    callbacks=[early_stop])\n",
        "\n",
        "train_loss = results.history['loss']\n",
        "train_acc = results.history['accuracy']\n",
        "val_loss = results.history['val_loss']\n",
        "val_acc = results.history['val_accuracy']\n",
        "\n",
        "\n",
        "fig, (ax1, ax2) = plt.subplots(1, 2, figsize=(10, 5))\n",
        "sns.lineplot(x=results.epoch, y=train_loss, ax=ax1, label='train_loss')\n",
        "sns.lineplot(x=results.epoch, y=train_acc, ax=ax2, label='train_accuracy')\n",
        "\n",
        "sns.lineplot(x=results.epoch, y=val_loss, ax=ax1, label='val_loss')\n",
        "sns.lineplot(x=results.epoch, y=val_acc, ax=ax2, label='val_accuracy');"
      ]
    },
    {
      "cell_type": "markdown",
      "metadata": {
        "id": "RlaHpz-I10Pu"
      },
      "source": [
        "### Exercise\n",
        "\n",
        "That probably stopped too early. We can specify the number of epochs in which it doesn't see decrease in the loss with the `patience` parameter. Modify the code below to include an Early Stop with a patience of 5 epochs."
      ]
    },
    {
      "cell_type": "code",
      "execution_count": null,
      "metadata": {
        "colab": {
          "base_uri": "https://localhost:8080/",
          "height": 338
        },
        "id": "K2vGP_m410Pu",
        "outputId": "2bcfe782-9dcf-4f5b-bd14-41d4ffdc2e19"
      },
      "outputs": [
        {
          "output_type": "stream",
          "name": "stdout",
          "text": [
            "Epoch 22: early stopping\n"
          ]
        },
        {
          "output_type": "display_data",
          "data": {
            "text/plain": [
              "<Figure size 720x360 with 2 Axes>"
            ],
            "image/png": "[encoded data removed]"
          },
          "metadata": {
            "needs_background": "light"
          }
        }
      ],
      "source": [
        "model = Sequential()\n",
        "model.add(Dense(30, activation='relu', input_dim=64))\n",
        "model.add(Dense(20, activation='relu'))\n",
        "model.add(Dropout(0.5))\n",
        "model.add(Dense(12, activation='relu'))\n",
        "model.add(Dense(12, activation='relu'))\n",
        "model.add(Dense(12, activation='relu'))\n",
        "model.add(Dense(8, activation='relu'))\n",
        "model.add(Dense(4, activation='relu'))\n",
        "model.add(Dense(1, activation ='sigmoid'))\n",
        "\n",
        "model.compile(optimizer='adam',\n",
        "              loss='binary_crossentropy',\n",
        "              metrics=['accuracy'])\n",
        "\n",
        "# Define the EarlyStopping object\n",
        "early_stop = EarlyStopping(monitor='val_loss', min_delta=1e-8,\n",
        "                           verbose=1, patience=5,\n",
        "                           mode='min')\n",
        "\n",
        "# Place this in a list as the value of the `callbacks` parameter\n",
        "# in the `.fit()` method.\n",
        "results = model.fit(X_pure_train, y_pure_train,\n",
        "                    epochs=50, batch_size= 32,\n",
        "                    verbose=0, validation_data=(X_val, y_val),\n",
        "                    callbacks=[early_stop])\n",
        "\n",
        "train_loss = results.history['loss']\n",
        "train_acc = results.history['accuracy']\n",
        "val_loss = results.history['val_loss']\n",
        "val_acc = results.history['val_accuracy']\n",
        "\n",
        "\n",
        "fig, (ax1, ax2) = plt.subplots(1, 2, figsize=(10, 5))\n",
        "sns.lineplot(x=results.epoch, y=train_loss, ax=ax1, label='train_loss')\n",
        "sns.lineplot(x=results.epoch, y=train_acc, ax=ax2, label='train_accuracy')\n",
        "\n",
        "sns.lineplot(x=results.epoch, y=val_loss, ax=ax1, label='val_loss')\n",
        "sns.lineplot(x=results.epoch, y=val_acc, ax=ax2, label='val_accuracy');"
      ]
    },
    {
      "cell_type": "markdown",
      "metadata": {
        "id": "3AREZlph10Pv"
      },
      "source": [
        "<details>\n",
        "    <summary>One answer here</summary>\n",
        "<code>model = Sequential()\n",
        "model.add(Dense(30, activation='relu', input_dim=64))\n",
        "model.add(Dense(20, activation='relu'))\n",
        "model.add(Dropout(0.5))\n",
        "model.add(Dense(12, activation='relu'))\n",
        "model.add(Dense(12, activation='relu'))\n",
        "model.add(Dense(12, activation='relu'))\n",
        "model.add(Dense(8, activation='relu'))\n",
        "model.add(Dense(4, activation='relu'))\n",
        "model.add(Dense(1, activation ='sigmoid'))\n",
        "\n",
        "model.compile(optimizer='adam',\n",
        "              loss='binary_crossentropy',\n",
        "              metrics=['accuracy'])\n",
        "\n",
        "# Define the EarlyStopping object\n",
        "\n",
        "\n",
        "\n",
        "# Place this in a list as the value of the `callbacks` parameter\n",
        "# in the `.fit()` method.\n",
        "results = model.fit(X_pure_train, y_pure_train,\n",
        "                    epochs=50, batch_size= 32,\n",
        "                    verbose=0, validation_data=(X_val, y_val),\n",
        "                    callbacks=[early_stop])\n",
        "\n",
        "train_loss = results.history['loss']\n",
        "train_acc = results.history['accuracy']\n",
        "val_loss = results.history['val_loss']\n",
        "val_acc = results.history['val_accuracy']\n",
        "\n",
        "\n",
        "fig, (ax1, ax2) = plt.subplots(1, 2, figsize=(10, 5))\n",
        "sns.lineplot(x=results.epoch, y=train_loss, ax=ax1, label='train_loss')\n",
        "sns.lineplot(x=results.epoch, y=train_acc, ax=ax2, label='train_accuracy')\n",
        "\n",
        "sns.lineplot(x=results.epoch, y=val_loss, ax=ax1, label='val_loss')\n",
        "sns.lineplot(x=results.epoch, y=val_acc, ax=ax2, label='val_accuracy');</code>\n",
        "</details>"
      ]
    },
    {
      "cell_type": "code",
      "execution_count": null,
      "metadata": {
        "colab": {
          "base_uri": "https://localhost:8080/"
        },
        "id": "JaPnwykm10Pv",
        "outputId": "d510cd62-5a73-4eaf-9e28-db8295d8aa0f"
      },
      "outputs": [
        {
          "output_type": "execute_result",
          "data": {
            "text/plain": [
              "0.9652777910232544"
            ]
          },
          "metadata": {},
          "execution_count": 39
        }
      ],
      "source": [
        "results.history['val_accuracy'][-1]"
      ]
    },
    {
      "cell_type": "markdown",
      "metadata": {
        "id": "MSrdvvt-10Pv"
      },
      "source": [
        "## Multiclass Classification and Softmax"
      ]
    },
    {
      "cell_type": "markdown",
      "metadata": {
        "id": "MfZGkfmp10Pv"
      },
      "source": [
        "Now let's return to the problem of predicting digits 0 through 9."
      ]
    },
    {
      "cell_type": "code",
      "execution_count": null,
      "metadata": {
        "id": "WIIEGEF510Pv"
      },
      "outputs": [],
      "source": [
        "digits = load_digits()\n",
        "X = digits.data\n",
        "y = digits.target"
      ]
    },
    {
      "cell_type": "code",
      "execution_count": null,
      "metadata": {
        "id": "KoZEH5XT10Pv"
      },
      "outputs": [],
      "source": [
        "X_train, X_test, y_train, y_test = train_test_split(X, y,\n",
        "                                                    random_state=42,\n",
        "                                                    test_size=0.2)\n",
        "X_pure_train, X_val, y_pure_train, y_val =\\\n",
        "    train_test_split(X_train, y_train,\n",
        "                     random_state=42, test_size=0.2)\n",
        "X_pure_train, X_val, X_test = X_pure_train/16, X_val/16, X_test/16"
      ]
    },
    {
      "cell_type": "markdown",
      "metadata": {
        "id": "ZO5KuAVZ10Pv"
      },
      "source": [
        "For a multiclass output, our neural net expects our target to be in a certain form."
      ]
    },
    {
      "cell_type": "code",
      "execution_count": null,
      "metadata": {
        "id": "k5qha_Xm10Pv"
      },
      "outputs": [],
      "source": [
        "ohe = OneHotEncoder(sparse=False)\n",
        "y_pure_train = ohe.fit_transform(y_pure_train.reshape(-1,1))\n",
        "y_val = ohe.transform(y_val.reshape(-1,1))\n",
        "y_test = ohe.transform(y_test.reshape(-1,1))"
      ]
    },
    {
      "cell_type": "code",
      "execution_count": null,
      "metadata": {
        "colab": {
          "base_uri": "https://localhost:8080/"
        },
        "id": "WYil5HV710Pv",
        "outputId": "939897ef-afa1-42c0-f80b-1f7d79d78ad2"
      },
      "outputs": [
        {
          "output_type": "execute_result",
          "data": {
            "text/plain": [
              "array([[0., 0., 0., ..., 0., 0., 0.],\n",
              "       [0., 0., 0., ..., 0., 0., 1.],\n",
              "       [0., 0., 0., ..., 0., 0., 0.],\n",
              "       ...,\n",
              "       [0., 0., 0., ..., 0., 1., 0.],\n",
              "       [0., 0., 0., ..., 0., 0., 0.],\n",
              "       [0., 0., 0., ..., 0., 0., 0.]])"
            ]
          },
          "metadata": {},
          "execution_count": 43
        }
      ],
      "source": [
        "y_test"
      ]
    },
    {
      "cell_type": "code",
      "execution_count": null,
      "metadata": {
        "colab": {
          "base_uri": "https://localhost:8080/"
        },
        "id": "014x0EYd10Pv",
        "outputId": "5105c88c-553b-49f4-e903-d9d9e75d538b"
      },
      "outputs": [
        {
          "output_type": "stream",
          "name": "stdout",
          "text": [
            "Epoch 1/50\n",
            "115/115 [==============================] - 1s 4ms/step - loss: 2.2024 - accuracy: 0.2620 - val_loss: 2.0549 - val_accuracy: 0.3160\n",
            "Epoch 2/50\n",
            "115/115 [==============================] - 0s 2ms/step - loss: 1.8996 - accuracy: 0.4291 - val_loss: 1.7137 - val_accuracy: 0.4757\n",
            "Epoch 3/50\n",
            "115/115 [==============================] - 0s 3ms/step - loss: 1.5612 - accuracy: 0.5405 - val_loss: 1.3976 - val_accuracy: 0.6111\n",
            "Epoch 4/50\n",
            "115/115 [==============================] - 0s 3ms/step - loss: 1.2497 - accuracy: 0.6614 - val_loss: 1.1289 - val_accuracy: 0.7361\n",
            "Epoch 5/50\n",
            "115/115 [==============================] - 0s 2ms/step - loss: 1.0012 - accuracy: 0.7676 - val_loss: 0.9143 - val_accuracy: 0.7951\n",
            "Epoch 6/50\n",
            "115/115 [==============================] - 0s 2ms/step - loss: 0.8227 - accuracy: 0.8172 - val_loss: 0.7631 - val_accuracy: 0.8368\n",
            "Epoch 7/50\n",
            "115/115 [==============================] - 0s 3ms/step - loss: 0.6944 - accuracy: 0.8407 - val_loss: 0.6595 - val_accuracy: 0.8472\n",
            "Epoch 8/50\n",
            "115/115 [==============================] - 0s 3ms/step - loss: 0.5991 - accuracy: 0.8651 - val_loss: 0.5785 - val_accuracy: 0.8611\n",
            "Epoch 9/50\n",
            "115/115 [==============================] - 0s 2ms/step - loss: 0.5288 - accuracy: 0.8816 - val_loss: 0.5251 - val_accuracy: 0.8681\n",
            "Epoch 10/50\n",
            "115/115 [==============================] - 0s 2ms/step - loss: 0.4735 - accuracy: 0.8869 - val_loss: 0.4638 - val_accuracy: 0.8819\n",
            "Epoch 11/50\n",
            "115/115 [==============================] - 0s 2ms/step - loss: 0.4308 - accuracy: 0.8903 - val_loss: 0.4461 - val_accuracy: 0.8819\n",
            "Epoch 12/50\n",
            "115/115 [==============================] - 0s 2ms/step - loss: 0.3961 - accuracy: 0.8990 - val_loss: 0.4092 - val_accuracy: 0.8715\n",
            "Epoch 13/50\n",
            "115/115 [==============================] - 0s 2ms/step - loss: 0.3639 - accuracy: 0.9130 - val_loss: 0.3741 - val_accuracy: 0.8993\n",
            "Epoch 14/50\n",
            "115/115 [==============================] - 0s 2ms/step - loss: 0.3385 - accuracy: 0.9173 - val_loss: 0.3605 - val_accuracy: 0.9097\n",
            "Epoch 15/50\n",
            "115/115 [==============================] - 0s 2ms/step - loss: 0.3163 - accuracy: 0.9182 - val_loss: 0.3324 - val_accuracy: 0.9167\n",
            "Epoch 16/50\n",
            "115/115 [==============================] - 0s 3ms/step - loss: 0.2978 - accuracy: 0.9217 - val_loss: 0.3329 - val_accuracy: 0.9028\n",
            "Epoch 17/50\n",
            "115/115 [==============================] - 0s 3ms/step - loss: 0.2797 - accuracy: 0.9330 - val_loss: 0.3388 - val_accuracy: 0.8889\n",
            "Epoch 18/50\n",
            "115/115 [==============================] - 0s 2ms/step - loss: 0.2626 - accuracy: 0.9391 - val_loss: 0.2950 - val_accuracy: 0.8993\n",
            "Epoch 19/50\n",
            "115/115 [==============================] - 0s 3ms/step - loss: 0.2522 - accuracy: 0.9321 - val_loss: 0.2830 - val_accuracy: 0.9236\n",
            "Epoch 20/50\n",
            "115/115 [==============================] - 0s 2ms/step - loss: 0.2404 - accuracy: 0.9382 - val_loss: 0.2565 - val_accuracy: 0.9340\n",
            "Epoch 21/50\n",
            "115/115 [==============================] - 0s 2ms/step - loss: 0.2294 - accuracy: 0.9426 - val_loss: 0.2656 - val_accuracy: 0.9271\n",
            "Epoch 22/50\n",
            "115/115 [==============================] - 0s 3ms/step - loss: 0.2176 - accuracy: 0.9452 - val_loss: 0.2526 - val_accuracy: 0.9271\n",
            "Epoch 23/50\n",
            "115/115 [==============================] - 0s 2ms/step - loss: 0.2065 - accuracy: 0.9521 - val_loss: 0.2469 - val_accuracy: 0.9340\n",
            "Epoch 24/50\n",
            "115/115 [==============================] - 0s 2ms/step - loss: 0.1974 - accuracy: 0.9513 - val_loss: 0.2446 - val_accuracy: 0.9236\n",
            "Epoch 25/50\n",
            "115/115 [==============================] - 0s 3ms/step - loss: 0.1877 - accuracy: 0.9582 - val_loss: 0.2352 - val_accuracy: 0.9375\n",
            "Epoch 26/50\n",
            "115/115 [==============================] - 0s 2ms/step - loss: 0.1822 - accuracy: 0.9539 - val_loss: 0.2279 - val_accuracy: 0.9410\n",
            "Epoch 27/50\n",
            "115/115 [==============================] - 0s 3ms/step - loss: 0.1745 - accuracy: 0.9574 - val_loss: 0.2258 - val_accuracy: 0.9271\n",
            "Epoch 28/50\n",
            "115/115 [==============================] - 0s 3ms/step - loss: 0.1668 - accuracy: 0.9591 - val_loss: 0.2137 - val_accuracy: 0.9375\n",
            "Epoch 29/50\n",
            "115/115 [==============================] - 0s 2ms/step - loss: 0.1578 - accuracy: 0.9600 - val_loss: 0.2231 - val_accuracy: 0.9271\n",
            "Epoch 30/50\n",
            "115/115 [==============================] - 0s 3ms/step - loss: 0.1557 - accuracy: 0.9626 - val_loss: 0.2061 - val_accuracy: 0.9375\n",
            "Epoch 31/50\n",
            "115/115 [==============================] - 0s 2ms/step - loss: 0.1465 - accuracy: 0.9652 - val_loss: 0.2182 - val_accuracy: 0.9236\n",
            "Epoch 32/50\n",
            "115/115 [==============================] - 0s 2ms/step - loss: 0.1428 - accuracy: 0.9669 - val_loss: 0.1999 - val_accuracy: 0.9375\n",
            "Epoch 33/50\n",
            "115/115 [==============================] - 0s 2ms/step - loss: 0.1376 - accuracy: 0.9643 - val_loss: 0.1800 - val_accuracy: 0.9410\n",
            "Epoch 34/50\n",
            "115/115 [==============================] - 0s 2ms/step - loss: 0.1334 - accuracy: 0.9678 - val_loss: 0.1800 - val_accuracy: 0.9444\n",
            "Epoch 35/50\n",
            "115/115 [==============================] - 0s 2ms/step - loss: 0.1301 - accuracy: 0.9643 - val_loss: 0.1907 - val_accuracy: 0.9375\n",
            "Epoch 36/50\n",
            "115/115 [==============================] - 0s 2ms/step - loss: 0.1241 - accuracy: 0.9704 - val_loss: 0.1759 - val_accuracy: 0.9444\n",
            "Epoch 37/50\n",
            "115/115 [==============================] - 0s 3ms/step - loss: 0.1184 - accuracy: 0.9721 - val_loss: 0.1878 - val_accuracy: 0.9375\n",
            "Epoch 38/50\n",
            "115/115 [==============================] - 0s 3ms/step - loss: 0.1155 - accuracy: 0.9748 - val_loss: 0.1745 - val_accuracy: 0.9410\n",
            "Epoch 39/50\n",
            "115/115 [==============================] - 0s 3ms/step - loss: 0.1095 - accuracy: 0.9748 - val_loss: 0.1761 - val_accuracy: 0.9410\n",
            "Epoch 40/50\n",
            "115/115 [==============================] - 0s 2ms/step - loss: 0.1092 - accuracy: 0.9774 - val_loss: 0.1796 - val_accuracy: 0.9444\n",
            "Epoch 41/50\n",
            "115/115 [==============================] - 0s 2ms/step - loss: 0.1044 - accuracy: 0.9739 - val_loss: 0.1918 - val_accuracy: 0.9340\n",
            "Epoch 42/50\n",
            "115/115 [==============================] - 0s 2ms/step - loss: 0.1002 - accuracy: 0.9782 - val_loss: 0.1629 - val_accuracy: 0.9410\n",
            "Epoch 43/50\n",
            "115/115 [==============================] - 0s 2ms/step - loss: 0.0981 - accuracy: 0.9774 - val_loss: 0.1612 - val_accuracy: 0.9444\n",
            "Epoch 44/50\n",
            "115/115 [==============================] - 0s 3ms/step - loss: 0.0954 - accuracy: 0.9765 - val_loss: 0.1612 - val_accuracy: 0.9375\n",
            "Epoch 45/50\n",
            "115/115 [==============================] - 0s 2ms/step - loss: 0.0943 - accuracy: 0.9756 - val_loss: 0.1474 - val_accuracy: 0.9479\n",
            "Epoch 46/50\n",
            "115/115 [==============================] - 0s 2ms/step - loss: 0.0881 - accuracy: 0.9817 - val_loss: 0.1501 - val_accuracy: 0.9479\n",
            "Epoch 47/50\n",
            "115/115 [==============================] - 0s 2ms/step - loss: 0.0852 - accuracy: 0.9809 - val_loss: 0.1597 - val_accuracy: 0.9375\n",
            "Epoch 48/50\n",
            "115/115 [==============================] - 0s 2ms/step - loss: 0.0839 - accuracy: 0.9782 - val_loss: 0.1457 - val_accuracy: 0.9410\n",
            "Epoch 49/50\n",
            "115/115 [==============================] - 0s 2ms/step - loss: 0.0805 - accuracy: 0.9800 - val_loss: 0.1532 - val_accuracy: 0.9340\n",
            "Epoch 50/50\n",
            "115/115 [==============================] - 0s 3ms/step - loss: 0.0791 - accuracy: 0.9791 - val_loss: 0.1529 - val_accuracy: 0.9375\n"
          ]
        }
      ],
      "source": [
        "# Model from above, but now with ten output neurons:\n",
        "\n",
        "model = Sequential()\n",
        "model.add(Dense(12, activation='relu', input_dim=64))\n",
        "model.add(Dense(8, activation='relu'))\n",
        "model.add(Dense(10, activation='softmax'))\n",
        "\n",
        "model.compile(optimizer='adam',\n",
        "              loss='categorical_crossentropy',\n",
        "              metrics=['accuracy'])\n",
        "\n",
        "results = model.fit(X_pure_train, y_pure_train,\n",
        "                   epochs=50, batch_size=10,\n",
        "                   validation_data=(X_val, y_val))"
      ]
    },
    {
      "cell_type": "markdown",
      "metadata": {
        "id": "wBP6YxDW10Pw"
      },
      "source": [
        "$$\\large \\text{Softmax}(x_{i}) = \\frac{\\exp(x_i)}{\\sum_j \\exp(x_j)}$$\n",
        "\n",
        "The sofmax function outputs a number between 0 and 1 for each of our classes.  All of the probabilities of the classes sum up to 1.\n",
        "\n",
        "The number of nodes in our output layer equals the number of categories in our dataset.\n",
        "\n",
        "We also need a new loss function: **categorical crossentropy**, which calculates a separate loss for each label and then sums the results."
      ]
    },
    {
      "cell_type": "code",
      "execution_count": null,
      "metadata": {
        "id": "QlHdzLMc10Pw"
      },
      "outputs": [],
      "source": [
        "history = results.history\n",
        "training_loss = history['loss']\n",
        "val_loss = history['val_loss']\n",
        "training_accuracy = history['accuracy']\n",
        "val_accuracy = history['val_accuracy']"
      ]
    },
    {
      "cell_type": "code",
      "execution_count": null,
      "metadata": {
        "colab": {
          "base_uri": "https://localhost:8080/",
          "height": 320
        },
        "id": "OkuSgIoo10Pw",
        "outputId": "b0761d0f-d244-43e0-84f5-9f883c5404af"
      },
      "outputs": [
        {
          "output_type": "display_data",
          "data": {
            "text/plain": [
              "<Figure size 1080x360 with 2 Axes>"
            ],
            "image/png": "[encoded data removed]"
          },
          "metadata": {
            "needs_background": "light"
          }
        }
      ],
      "source": [
        "fig, (ax1,ax2) = plt.subplots(1,2,figsize=(15,5))\n",
        "\n",
        "\n",
        "sns.lineplot(x=list(range(len(training_loss))),\n",
        "             y=training_loss, color='r', label='training', ax=ax1)\n",
        "sns.lineplot(x=list(range(len(val_loss))),\n",
        "             y=val_loss, color='b', label='validation', ax=ax1)\n",
        "sns.lineplot(x=list(range(len(training_loss))),\n",
        "             y=training_accuracy, color='r', label='training',ax=ax2)\n",
        "sns.lineplot(x=list(range(len(val_loss))),\n",
        "             y=val_accuracy, color='b', label='validation',ax=ax2)\n",
        "ax1.legend();"
      ]
    },
    {
      "cell_type": "code",
      "execution_count": null,
      "metadata": {
        "colab": {
          "base_uri": "https://localhost:8080/"
        },
        "id": "DlfkxasG10Pw",
        "outputId": "b05c652d-6cda-4075-9950-8412d03a31eb"
      },
      "outputs": [
        {
          "output_type": "stream",
          "name": "stdout",
          "text": [
            "12/12 [==============================] - 0s 2ms/step\n"
          ]
        }
      ],
      "source": [
        "y_hat_test = np.argmax(model.predict(X_test), axis=-1)"
      ]
    },
    {
      "cell_type": "code",
      "execution_count": null,
      "metadata": {
        "colab": {
          "base_uri": "https://localhost:8080/"
        },
        "id": "ScLViUWQ10Pw",
        "outputId": "8a682acf-5a75-46e7-cfb1-2bcfa85bbb2d"
      },
      "outputs": [
        {
          "output_type": "execute_result",
          "data": {
            "text/plain": [
              "array([[31,  0,  0,  0,  0,  1,  0,  0,  0,  1],\n",
              "       [ 0, 28,  0,  0,  0,  0,  0,  0,  0,  0],\n",
              "       [ 0,  0, 30,  0,  0,  0,  0,  0,  3,  0],\n",
              "       [ 0,  0,  0, 32,  0,  1,  0,  0,  1,  0],\n",
              "       [ 0,  0,  0,  0, 46,  0,  0,  0,  0,  0],\n",
              "       [ 0,  0,  0,  1,  0, 44,  1,  0,  0,  1],\n",
              "       [ 0,  0,  0,  0,  0,  1, 34,  0,  0,  0],\n",
              "       [ 0,  0,  0,  0,  0,  1,  0, 32,  0,  1],\n",
              "       [ 0,  0,  0,  0,  0,  1,  0,  0, 29,  0],\n",
              "       [ 0,  1,  0,  0,  0,  0,  0,  0,  3, 36]])"
            ]
          },
          "metadata": {},
          "execution_count": 49
        }
      ],
      "source": [
        "y_test_restore = ohe.inverse_transform(y_test)\n",
        "confusion_matrix(y_test_restore, y_hat_test)"
      ]
    },
    {
      "cell_type": "markdown",
      "metadata": {
        "id": "b_R8NDYQ10Pw"
      },
      "source": [
        "Wow, look at that performance!  \n",
        "\n",
        "That is great, but remember, we were dealing with simple black and white images.  With color, our basic neural net will have less success.\n",
        "\n",
        "We will explore more advanced tools in the coming days.\n"
      ]
    }
  ],
  "metadata": {
    "celltoolbar": "Raw Cell Format",
    "colab": {
      "collapsed_sections": [],
      "provenance": []
    },
    "kernelspec": {
      "display_name": "Python 3",
      "language": "python",
      "name": "python3"
    },
    "language_info": {
      "codemirror_mode": {
        "name": "ipython",
        "version": 3
      },
      "file_extension": ".py",
      "mimetype": "text/x-python",
      "name": "python",
      "nbconvert_exporter": "python",
      "pygments_lexer": "ipython3",
      "version": "3.8.5"
    },
    "varInspector": {
      "cols": {
        "lenName": 16,
        "lenType": 16,
        "lenVar": 40
      },
      "kernels_config": {
        "python": {
          "delete_cmd_postfix": "",
          "delete_cmd_prefix": "del ",
          "library": "var_list.py",
          "varRefreshCmd": "print(var_dic_list())"
        },
        "r": {
          "delete_cmd_postfix": ") ",
          "delete_cmd_prefix": "rm(",
          "library": "var_list.r",
          "varRefreshCmd": "cat(var_dic_list()) "
        }
      },
      "types_to_exclude": [
        "module",
        "function",
        "builtin_function_or_method",
        "instance",
        "_Feature"
      ],
      "window_display": false
    }
  },
  "nbformat": 4,
  "nbformat_minor": 0
}