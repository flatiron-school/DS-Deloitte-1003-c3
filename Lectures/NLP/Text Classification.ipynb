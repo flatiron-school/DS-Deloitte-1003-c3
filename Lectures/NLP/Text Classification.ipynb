{
 "cells": [
  {
   "cell_type": "markdown",
   "metadata": {
    "id": "XPh5x8qjqKJh"
   },
   "source": [
    "# Naive Bayes and NLP Modeling"
   ]
  },
  {
   "cell_type": "code",
   "execution_count": null,
   "metadata": {
    "id": "GfglRhJmqKJi"
   },
   "outputs": [],
   "source": [
    "from collections import defaultdict\n",
    "import numpy as np\n",
    "import pandas as pd\n",
    "from sklearn.model_selection import train_test_split\n",
    "import nltk\n",
    "from nltk.tokenize import regexp_tokenize, word_tokenize, RegexpTokenizer\n",
    "from nltk.corpus import stopwords, wordnet\n",
    "from nltk import pos_tag\n",
    "from nltk.stem import WordNetLemmatizer\n",
    "from sklearn.feature_extraction.text import TfidfVectorizer, CountVectorizer\n",
    "from sklearn.ensemble import RandomForestClassifier\n",
    "from sklearn.naive_bayes import MultinomialNB\n",
    "from sklearn.metrics import accuracy_score, precision_score, confusion_matrix\n",
    "\n",
    "# from mlxtend.plotting import plot_confusion_matrix"
   ]
  },
  {
   "cell_type": "code",
   "execution_count": null,
   "metadata": {
    "colab": {
     "base_uri": "https://localhost:8080/"
    },
    "id": "bJkSJwGfsge-",
    "outputId": "68bca86e-aac0-4307-fe5b-434667005a07"
   },
   "outputs": [],
   "source": [
    "nltk.download('averaged_perceptron_tagger')\n",
    "nltk.download('wordnet')\n",
    "nltk.download('omw-1.4')"
   ]
  },
  {
   "cell_type": "markdown",
   "metadata": {
    "id": "MkE3G9QbqKJj"
   },
   "source": [
    "## Learning Goals\n",
    "\n",
    "- explain the use of Bayesian Reasoning for building NLP models\n",
    "- describe Laplace Smoothing\n",
    "- use `sklearn` and `nltk` to build NLP models"
   ]
  },
  {
   "cell_type": "markdown",
   "metadata": {
    "id": "_dgrVB_uqKJj"
   },
   "source": [
    "Before returning to our satire / no-satire example, let's consider an example with a smaller but similar scope.\n",
    "\n",
    "Suppose we are using an API to gather articles from a news website and grabbing phrases from two different types of articles:  **music** and **politics**.\n",
    "\n",
    "But we have a problem. Only some of our articles have an indication of their category (music or politics). Is there a way we can use Machine Learning to help us label our data **quickly**?\n",
    "\n",
    "-------------------------------\n",
    "### Here are our articles\n",
    "#### Music Articles:\n",
    "\n",
    "* 'the song was popular'\n",
    "* 'band leaders disagreed on sound'\n",
    "* 'played for a sold out arena stadium'\n",
    "\n",
    "#### Politics Articles\n",
    "\n",
    "* 'world leaders met lask week'\n",
    "* 'the election was close'\n",
    "* 'the officials agreed on a compromise'\n",
    "--------------------------------------------------------\n",
    "Let's try and predict one example phrase:\n",
    "\n",
    "* \"world leaders agreed to fund the stadium\"\n",
    "\n",
    "How can we make a model that labels this for us rather than having to go through by hand?"
   ]
  },
  {
   "cell_type": "code",
   "execution_count": null,
   "metadata": {
    "colab": {
     "base_uri": "https://localhost:8080/"
    },
    "id": "F3w0wr4uqfob",
    "outputId": "90afdb21-975b-4263-bc38-1e30b472898c"
   },
   "outputs": [],
   "source": [
    "!wget https://raw.githubusercontent.com/flatiron-school/DS-Deloitte-07062022/main/supplemental/satire_nosatire.csv"
   ]
  },
  {
   "cell_type": "code",
   "execution_count": null,
   "metadata": {
    "id": "MWygF_SuqKJk"
   },
   "outputs": [],
   "source": [
    "music = ['the song was popular',\n",
    "         'band leaders disagreed on sound',\n",
    "         'played for a sold out arena stadium']\n",
    "\n",
    "politics = ['world leaders met last week',\n",
    "            'the election was close',\n",
    "            'the officials agreed on a compromise']\n",
    "\n",
    "test_statement = 'world leaders agreed to fund the stadium'"
   ]
  },
  {
   "cell_type": "code",
   "execution_count": null,
   "metadata": {
    "id": "jsIyocNFqKJk"
   },
   "outputs": [],
   "source": [
    "#labels : {'music', 'politics'}\n",
    "#features: words\n",
    "test_statement_2 = 'officials met at the arena'"
   ]
  },
  {
   "cell_type": "markdown",
   "metadata": {
    "id": "nlh3-2TjqKJk"
   },
   "source": [
    "## Bayes's Theorem Again"
   ]
  },
  {
   "cell_type": "markdown",
   "metadata": {
    "id": "Nb94-unGqKJk"
   },
   "source": [
    "Let's revisit Bayes's Theorem. Remember, the idea is to calculate the probability of the correct application of a class label (c) given some data (x). To do so, we calculate the **likelihood** (the distribution of our data within a given class) and the **prior** probabiliity of each class (the probability of seeing the class in the population). We are going generally to ignore the denominator of the right side of the equation because it will be constant."
   ]
  },
  {
   "cell_type": "markdown",
   "metadata": {
    "id": "8Ww4SQWuqKJk"
   },
   "source": [
    "<img src =\"https://github.com/flatiron-school/DS-Deloitte-07062022/raw/main/archived/apprenticeship/NLP/images/naive_bayes_icon.png\">"
   ]
  },
  {
   "cell_type": "markdown",
   "metadata": {
    "id": "2iWRE1VTqKJl"
   },
   "source": [
    "### Another way of looking at it\n",
    "<img src = \"https://github.com/flatiron-school/DS-Deloitte-07062022/raw/main/archived/apprenticeship/NLP/images/another_one.png\">"
   ]
  },
  {
   "cell_type": "markdown",
   "metadata": {
    "id": "PVz1Jv_VqKJl"
   },
   "source": [
    "## So, in the context of our problem......"
   ]
  },
  {
   "cell_type": "markdown",
   "metadata": {
    "id": "Ndegf_RzqKJl"
   },
   "source": [
    "\n",
    "\n",
    "$\\large P(politics | phrase) = \\frac{P(phrase|politics)P(politics)}{P(phrase)}$\n",
    "\n",
    "$\\large P(politics) = \\frac{ \\# politics}{\\# all\\ articles} $\n",
    "\n",
    "*where phrase is our test statement*"
   ]
  },
  {
   "cell_type": "markdown",
   "metadata": {
    "id": "WpTotS66qKJl"
   },
   "source": [
    "<img src = \"https://github.com/flatiron-school/DS-Deloitte-07062022/raw/main/archived/apprenticeship/NLP/images/solving_theta.png\" width=\"400\">"
   ]
  },
  {
   "cell_type": "markdown",
   "metadata": {
    "id": "LwGyqLNKqKJl"
   },
   "source": [
    "### How should we calculate $P(politics)$?\n",
    "\n",
    "This is essentially the distribution of the probability of either type of article. We have three of each type of article, therefore, we assume that there is an equal probability of either article"
   ]
  },
  {
   "cell_type": "code",
   "execution_count": null,
   "metadata": {
    "id": "JfDnqpFVqKJl"
   },
   "outputs": [],
   "source": [
    "p_politics = len(politics) / (len(politics) + len(music))\n",
    "p_music = len(music) / (len(politics) + len(music))"
   ]
  },
  {
   "cell_type": "code",
   "execution_count": null,
   "metadata": {
    "colab": {
     "base_uri": "https://localhost:8080/"
    },
    "id": "0Uz219cZqKJl",
    "outputId": "54a16e5d-18c0-4fdd-8a8f-69bae8453b81"
   },
   "outputs": [],
   "source": [
    "p_politics"
   ]
  },
  {
   "cell_type": "code",
   "execution_count": null,
   "metadata": {
    "colab": {
     "base_uri": "https://localhost:8080/"
    },
    "id": "QWhJ5ru7qKJl",
    "outputId": "555f824e-5676-4323-b7c6-558835cfd709"
   },
   "outputs": [],
   "source": [
    "p_music"
   ]
  },
  {
   "cell_type": "markdown",
   "metadata": {
    "id": "9bNRJlIrqKJl"
   },
   "source": [
    "### How should we calculate $P(phrase | politics)$?\n",
    "\n",
    "We'll break the phrase down into individual words."
   ]
  },
  {
   "cell_type": "markdown",
   "metadata": {
    "id": "yD3k-LWDqKJm"
   },
   "source": [
    "$\\large P(phrase | politics) = \\prod_{i=1}^{d} P(word_{i} | politics) $\n",
    "\n",
    "**This is where the naivety of Naive Bayes comes in in this context. We assume that the predictive relevances of words are mutually independent.**\n",
    "\n",
    "In practice, of course, this sounds rather unrealistic. But it greatly simplifies the Bayesian calculation."
   ]
  },
  {
   "cell_type": "markdown",
   "metadata": {
    "id": "N0--Xk9qqKJm"
   },
   "source": [
    "$\\large P(word_{i} | politics) = \\frac{\\#\\ of\\ word_{i}\\ in\\ politics\\ articles} {\\#\\ of\\ total\\ words\\ in\\ politics\\ articles} $"
   ]
  },
  {
   "cell_type": "markdown",
   "metadata": {
    "id": "9DjCDwAkqKJm"
   },
   "source": [
    "## Laplace Smoothing\n",
    "\n",
    "In practice, the calculation of probabilities is often adjusted slightly to avoid zeroes.\n",
    "\n",
    "$\\large P(word_{i} | politics) = \\frac{\\#\\ of\\ word_{i}\\ in\\ politics\\ articles \\bf{+ \\alpha}} {\\#\\ of\\ total\\ words\\ in\\ politics\\ articles \\bf{+ \\alpha d}} $\n",
    "\n",
    "$\\large P(word_{i} | music) = \\frac{\\#\\ of\\ word_{i}\\ in\\ music\\ articles \\bf{+ \\alpha}} {\\#\\ of\\ total\\ words\\ in\\ music\\ articles \\bf{+ \\alpha d}}$"
   ]
  },
  {
   "cell_type": "markdown",
   "metadata": {
    "id": "P6Kzv6KrqKJm"
   },
   "source": [
    "This correction process is called Laplace smoothing:\n",
    "\n",
    "* d : number of features (in this instance total number of vocabulary words)\n",
    "* $\\alpha$ can be any number greater than 0 (it is usually 1)\n",
    "\n",
    "\n",
    "#### Now let's find this calculation"
   ]
  },
  {
   "cell_type": "code",
   "execution_count": null,
   "metadata": {
    "id": "xJ0FDBk7qKJm"
   },
   "outputs": [],
   "source": [
    "def vocab_maker(category):\n",
    "    \"\"\"\n",
    "    parameters: category is a list containing all the articles\n",
    "    of a given category.\n",
    "    \n",
    "    returns the vocabulary for a given type of article\n",
    "    \n",
    "    \"\"\"\n",
    "    \n",
    "    vocab_category = set() # will filter down to only unique words\n",
    "    \n",
    "    for art in category:\n",
    "        words = art.split()\n",
    "        for word in words:\n",
    "            vocab_category.add(word)\n",
    "    return vocab_category"
   ]
  },
  {
   "cell_type": "code",
   "execution_count": null,
   "metadata": {
    "id": "AST8hDgiqKJm"
   },
   "outputs": [],
   "source": [
    "voc_music = vocab_maker(music)\n",
    "voc_pol = vocab_maker(politics)"
   ]
  },
  {
   "cell_type": "code",
   "execution_count": null,
   "metadata": {
    "colab": {
     "base_uri": "https://localhost:8080/"
    },
    "id": "M0qXX9IcqKJm",
    "outputId": "49f9f9e8-5ad7-4e5c-c54c-2cae281480ea"
   },
   "outputs": [],
   "source": [
    "# These are all the unique words in the music category\n",
    "voc_music"
   ]
  },
  {
   "cell_type": "code",
   "execution_count": null,
   "metadata": {
    "colab": {
     "base_uri": "https://localhost:8080/"
    },
    "id": "jz9ezxFzqKJm",
    "outputId": "b394b1d7-87e6-4eab-a45b-5cd7ddcaa9b8"
   },
   "outputs": [],
   "source": [
    "# These are all the unique words in the politics category\n",
    "voc_pol"
   ]
  },
  {
   "cell_type": "code",
   "execution_count": null,
   "metadata": {
    "colab": {
     "base_uri": "https://localhost:8080/"
    },
    "id": "RXzMkNemqKJm",
    "outputId": "e155ef72-e1b3-465b-a847-df2983fc5ca1"
   },
   "outputs": [],
   "source": [
    "# The union of the two sets gives us the unique words across both article groups\n",
    "voc_all = voc_music.union(voc_pol)\n",
    "voc_all"
   ]
  },
  {
   "cell_type": "code",
   "execution_count": null,
   "metadata": {
    "id": "w8KsQiNGqKJm"
   },
   "outputs": [],
   "source": [
    "total_vocab_count = len(voc_all)\n",
    "total_music_count = len(voc_music)\n",
    "total_politics_count = len(voc_pol)"
   ]
  },
  {
   "cell_type": "markdown",
   "metadata": {
    "id": "FCcWyf3iqKJn"
   },
   "source": [
    "Let's remind ourselves of the goal, to see the posterior probability of the class politics given our phrase. \n",
    "\n",
    "> P(politics | \"leaders agreed to fund the stadium\")"
   ]
  },
  {
   "cell_type": "code",
   "execution_count": null,
   "metadata": {
    "id": "RBrKRbNXqKJn"
   },
   "outputs": [],
   "source": [
    "def find_number_words_in_category(phrase, category):\n",
    "    \n",
    "    \"\"\"This function will help us calculate our likelihoods\n",
    "    by constructing a dictionary of counts of how many times\n",
    "    each word in our test phrase appears in articles of a\n",
    "    given category.\"\"\"\n",
    "    \n",
    "    statement = phrase.split()\n",
    "    \n",
    "    # category is a list of the raw documents of each category\n",
    "    str_category = ' '.join(category)\n",
    "    cat_word_list = str_category.split()\n",
    "    word_count = defaultdict(int)\n",
    "    \n",
    "    # loop through each word in the phrase\n",
    "    for word in statement:\n",
    "        # loop through each word in the category\n",
    "        for art_word in cat_word_list:\n",
    "            if word == art_word:\n",
    "                # count the number of times the phrase word occurs in the category\n",
    "                word_count[word] += 1\n",
    "            else:\n",
    "                word_count[word]\n",
    "    return word_count"
   ]
  },
  {
   "cell_type": "code",
   "execution_count": null,
   "metadata": {
    "id": "jfH5q3RKqKJn"
   },
   "outputs": [],
   "source": [
    "test_music_word_count = find_number_words_in_category(test_statement, music)"
   ]
  },
  {
   "cell_type": "markdown",
   "metadata": {
    "id": "zFFdJKjYqKJn"
   },
   "source": [
    "Let's remind ourselves of our music articles:"
   ]
  },
  {
   "cell_type": "code",
   "execution_count": null,
   "metadata": {
    "colab": {
     "base_uri": "https://localhost:8080/"
    },
    "id": "ClXxAHfxqKJn",
    "outputId": "4f3d7569-d5ac-4f79-ee0e-7c4a4165dfaa"
   },
   "outputs": [],
   "source": [
    "music"
   ]
  },
  {
   "cell_type": "code",
   "execution_count": null,
   "metadata": {
    "colab": {
     "base_uri": "https://localhost:8080/"
    },
    "id": "Ox-ArCIyqKJn",
    "outputId": "851e7916-7b3c-4652-b484-26b201e4f1f8"
   },
   "outputs": [],
   "source": [
    "test_music_word_count"
   ]
  },
  {
   "cell_type": "code",
   "execution_count": null,
   "metadata": {
    "id": "SqIRuKdkqKJn"
   },
   "outputs": [],
   "source": [
    "test_politic_word_count = find_number_words_in_category(test_statement, politics)"
   ]
  },
  {
   "cell_type": "markdown",
   "metadata": {
    "id": "WCjl1Yn9qKJn"
   },
   "source": [
    "Let's remind ourselves of our politics articles:"
   ]
  },
  {
   "cell_type": "code",
   "execution_count": null,
   "metadata": {
    "colab": {
     "base_uri": "https://localhost:8080/"
    },
    "id": "agWuxgy0qKJn",
    "outputId": "eabe9539-d5d9-4ab4-9bdd-25e9e03b9273"
   },
   "outputs": [],
   "source": [
    "politics"
   ]
  },
  {
   "cell_type": "code",
   "execution_count": null,
   "metadata": {
    "colab": {
     "base_uri": "https://localhost:8080/"
    },
    "id": "TlUkEejgqKJn",
    "outputId": "bcb1a778-1c56-47c1-9313-4554a18db6ec"
   },
   "outputs": [],
   "source": [
    "test_politic_word_count"
   ]
  },
  {
   "cell_type": "code",
   "execution_count": null,
   "metadata": {
    "id": "bRkDx20DqKJn"
   },
   "outputs": [],
   "source": [
    "def find_likelihood_with_smooth(category_count, test_category_count, alpha):\n",
    "    \n",
    "    # The numerator will be the product of all the counts \n",
    "    # with the smoothing factor (alpha) to make sure the probability is not zeroed out.\n",
    "    # Because we're being officially \"naïve\", we'll simply multiply these all together.\n",
    "    num = np.product(np.array(list(test_category_count.values())) + alpha)\n",
    "    \n",
    "    # The denominator will be the same for each word (total category count + total vocab\n",
    "    # + alpha), so we raise it to the power of the length of the test category (d =\n",
    "    # total_vocab_count)\n",
    "    denom = (category_count + total_vocab_count*alpha)**(len(test_category_count))\n",
    "    \n",
    "    return num / denom"
   ]
  },
  {
   "cell_type": "code",
   "execution_count": null,
   "metadata": {
    "id": "ojcH3wFwqKJu"
   },
   "outputs": [],
   "source": [
    "likelihood_m = find_likelihood_with_smooth(total_music_count, test_music_word_count, 1)"
   ]
  },
  {
   "cell_type": "code",
   "execution_count": null,
   "metadata": {
    "id": "Qa-my8H1qKJu"
   },
   "outputs": [],
   "source": [
    "likelihood_p = find_likelihood_with_smooth(total_politics_count, test_politic_word_count, 1)"
   ]
  },
  {
   "cell_type": "code",
   "execution_count": null,
   "metadata": {
    "colab": {
     "base_uri": "https://localhost:8080/"
    },
    "id": "UZbxTb-WqKJu",
    "outputId": "bddfbc7a-3145-47b5-9a9d-e1bf623d79cb"
   },
   "outputs": [],
   "source": [
    "print(likelihood_m)\n",
    "print(likelihood_p)"
   ]
  },
  {
   "cell_type": "markdown",
   "metadata": {
    "id": "f1-PgVp0qKJu"
   },
   "source": [
    " $ P(politics | article) = P(politics) x \\prod_{i=1}^{d} P(word_{i} | politics) $"
   ]
  },
  {
   "cell_type": "markdown",
   "metadata": {
    "id": "ELSLXZP_qKJu"
   },
   "source": [
    "#### Deteriming the winner of our model:"
   ]
  },
  {
   "cell_type": "markdown",
   "metadata": {
    "id": "_A06TLgoqKJu"
   },
   "source": [
    "<img src = \"https://github.com/flatiron-school/DS-Deloitte-07062022/raw/main/archived/apprenticeship/NLP/images/solvingforyhat.png\" width= \"400\">"
   ]
  },
  {
   "cell_type": "raw",
   "metadata": {
    "id": "JVs23HSgqKJu"
   },
   "source": [
    "p_politics = 0.5\n",
    "p_music = 0.5"
   ]
  },
  {
   "cell_type": "code",
   "execution_count": null,
   "metadata": {
    "colab": {
     "base_uri": "https://localhost:8080/"
    },
    "id": "MnRdJGWKqKJu",
    "outputId": "d1827bb4-973c-4d0a-88fe-46a0b8d48d2e"
   },
   "outputs": [],
   "source": [
    "# p(politics|article)  > p(music|article)\n",
    "likelihood_p * p_politics  > likelihood_m * p_music"
   ]
  },
  {
   "cell_type": "markdown",
   "metadata": {
    "id": "ZzEgj8tOqKJu"
   },
   "source": [
    "Many times, the probabilities we end up with are exceedingly small, so we can transform them using logarithms to save on computation speed. This takes advantage of the nice mathematical feature that the log of a product of factors is equal to the sum of the logs of the individual factors, i.e.:\n",
    "\n",
    "$log(xy) = log(x) + log(y)$"
   ]
  },
  {
   "cell_type": "markdown",
   "metadata": {
    "id": "fmNgJjxbqKJv"
   },
   "source": [
    "$\\large log(P(politics | article)) = log(P(politics)) + \\sum_{i=1}^{d}log( P(word_{i} | politics)) $\n",
    "\n",
    "\n",
    "\n"
   ]
  },
  {
   "cell_type": "markdown",
   "metadata": {
    "id": "5QnVUm6vqKJv"
   },
   "source": [
    "Good Resource: https://nlp.stanford.edu/IR-book/html/htmledition/naive-bayes-text-classification-1.html"
   ]
  },
  {
   "cell_type": "markdown",
   "metadata": {
    "id": "WREXpePkqKJv"
   },
   "source": [
    "## Back to Satire"
   ]
  },
  {
   "cell_type": "code",
   "execution_count": null,
   "metadata": {
    "colab": {
     "base_uri": "https://localhost:8080/",
     "height": 206
    },
    "id": "m-BlP1iWqKJv",
    "outputId": "f2d8f670-eee3-409b-b75e-42f095ce679e"
   },
   "outputs": [],
   "source": [
    "corpus = pd.read_csv('satire_nosatire.csv')\n",
    "corpus.head()"
   ]
  },
  {
   "cell_type": "markdown",
   "metadata": {
    "id": "4hOFPTE2qKJv"
   },
   "source": [
    "Like always, we will perform a train test split..."
   ]
  },
  {
   "cell_type": "code",
   "execution_count": null,
   "metadata": {
    "id": "-xsNo8YeqKJv"
   },
   "outputs": [],
   "source": [
    "X = corpus.body\n",
    "y = corpus.target"
   ]
  },
  {
   "cell_type": "code",
   "execution_count": null,
   "metadata": {
    "id": "LXAGaT1bqKJv"
   },
   "outputs": [],
   "source": [
    "X_train, X_test, y_train, y_test = train_test_split(X,\n",
    "                                                    y,\n",
    "                                                    random_state=42,\n",
    "                                                    test_size=0.25)"
   ]
  },
  {
   "cell_type": "code",
   "execution_count": null,
   "metadata": {
    "colab": {
     "base_uri": "https://localhost:8080/"
    },
    "id": "oA3oOq26q4Ku",
    "outputId": "cfbe4291-bf6e-47c9-a77f-881eda349953"
   },
   "outputs": [],
   "source": [
    "nltk.download('stopwords')"
   ]
  },
  {
   "cell_type": "markdown",
   "metadata": {
    "id": "gzKKS6DEqKJv"
   },
   "source": [
    "... and preprocess the training set."
   ]
  },
  {
   "cell_type": "code",
   "execution_count": null,
   "metadata": {
    "id": "WDuklBT5qKJv"
   },
   "outputs": [],
   "source": [
    "# Bring in stopwords\n",
    "\n",
    "sw = stopwords.words('english')"
   ]
  },
  {
   "cell_type": "code",
   "execution_count": null,
   "metadata": {
    "id": "GO_Z5cUqqKJv"
   },
   "outputs": [],
   "source": [
    "def get_wordnet_pos(treebank_tag):\n",
    "    '''\n",
    "    Translate nltk POS to wordnet tags\n",
    "    '''\n",
    "    if treebank_tag.startswith('J'):\n",
    "        return wordnet.ADJ\n",
    "    elif treebank_tag.startswith('V'):\n",
    "        return wordnet.VERB\n",
    "    elif treebank_tag.startswith('N'):\n",
    "        return wordnet.NOUN\n",
    "    elif treebank_tag.startswith('R'):\n",
    "        return wordnet.ADV\n",
    "    else:\n",
    "        return wordnet.NOUN"
   ]
  },
  {
   "cell_type": "code",
   "execution_count": null,
   "metadata": {
    "id": "u43m5wm-qKJv"
   },
   "outputs": [],
   "source": [
    "def doc_preparer(doc, stop_words=sw):\n",
    "    '''\n",
    "    \n",
    "    :param doc: a document from the satire corpus \n",
    "    :return: a document string with words which have been \n",
    "            lemmatized, \n",
    "            parsed for stopwords, \n",
    "            made lowercase,\n",
    "            and stripped of punctuation and numbers.\n",
    "    '''\n",
    "    \n",
    "    regex_token = RegexpTokenizer(r\"([a-zA-Z]+(?:’[a-z]+)?)\")\n",
    "    doc = regex_token.tokenize(doc)\n",
    "    doc = [word.lower() for word in doc]\n",
    "    doc = [word for word in doc if word not in sw]\n",
    "    # print(doc)\n",
    "    doc = pos_tag(doc)\n",
    "    doc = [(word[0], get_wordnet_pos(word[1])) for word in doc]\n",
    "    lemmatizer = WordNetLemmatizer() \n",
    "    doc = [lemmatizer.lemmatize(word[0], word[1]) for word in doc]\n",
    "    return ' '.join(doc)"
   ]
  },
  {
   "cell_type": "code",
   "execution_count": null,
   "metadata": {
    "id": "cFt-iBRLqKJv"
   },
   "outputs": [],
   "source": [
    "token_docs = [doc_preparer(doc, sw) for doc in X_train]"
   ]
  },
  {
   "cell_type": "markdown",
   "metadata": {
    "id": "5chIHNpzqKJv"
   },
   "source": [
    "For demonstration purposes, we will **limit our count vectorizer to 5 words** (the top 5 words by frequency)."
   ]
  },
  {
   "cell_type": "code",
   "execution_count": null,
   "metadata": {
    "id": "7UlU-digqKJv"
   },
   "outputs": [],
   "source": [
    "# Secondary train-test split to build our best model\n",
    "X_t, X_val, y_t, y_val = train_test_split(token_docs, y_train,\n",
    "                                          test_size=0.25, random_state=42)"
   ]
  },
  {
   "cell_type": "code",
   "execution_count": null,
   "metadata": {
    "id": "cm8FEarqqKJw"
   },
   "outputs": [],
   "source": [
    "cv = CountVectorizer(max_features=5)\n",
    "\n",
    "X_t_vec = cv.fit_transform(X_t)\n",
    "X_t_vec = pd.DataFrame.sparse.from_spmatrix(X_t_vec)\n",
    "X_t_vec.columns = sorted(cv.vocabulary_)\n",
    "X_t_vec.set_index(y_t.index, inplace=True)"
   ]
  },
  {
   "cell_type": "code",
   "execution_count": null,
   "metadata": {
    "colab": {
     "base_uri": "https://localhost:8080/",
     "height": 424
    },
    "id": "TPAHGwCrqKJw",
    "outputId": "24e4abe1-56d1-4943-c424-ea94c9e417ad"
   },
   "outputs": [],
   "source": [
    "X_t_vec"
   ]
  },
  {
   "cell_type": "code",
   "execution_count": null,
   "metadata": {
    "id": "YoXxcO2pqKJw"
   },
   "outputs": [],
   "source": [
    "# We then transform the validation set. (Do not refit the vectorizer!)\n",
    "\n",
    "X_val_vec = cv.transform(X_val)\n",
    "X_val_vec  = pd.DataFrame.sparse.from_spmatrix(X_val_vec)\n",
    "X_val_vec.columns = sorted(cv.vocabulary_)\n",
    "X_val_vec.set_index(y_val.index, inplace=True)"
   ]
  },
  {
   "cell_type": "markdown",
   "metadata": {
    "id": "3XSf_SnJqKJw"
   },
   "source": [
    "## Multinomial Naive Bayes"
   ]
  },
  {
   "cell_type": "markdown",
   "metadata": {
    "id": "B7vcQOEIqKJw"
   },
   "source": [
    "Now let's fit the the Multinomial Naive Bayes Classifier on our training data"
   ]
  },
  {
   "cell_type": "code",
   "execution_count": null,
   "metadata": {
    "colab": {
     "base_uri": "https://localhost:8080/"
    },
    "id": "_j7T47g2qKJw",
    "outputId": "c8636577-0192-4064-d86c-983aba745b46"
   },
   "outputs": [],
   "source": [
    "mnb = MultinomialNB()\n",
    "\n",
    "mnb.fit(X_t_vec, y_t)"
   ]
  },
  {
   "cell_type": "code",
   "execution_count": null,
   "metadata": {
    "colab": {
     "base_uri": "https://localhost:8080/"
    },
    "id": "6mAv_gVFqKJw",
    "outputId": "61234fa9-45f6-40dc-9d20-7b830ff72bc6"
   },
   "outputs": [],
   "source": [
    "#What should our priors for each class be?\n",
    "\n",
    "prior_0 = y_t.value_counts()[0]/len(y_t)\n",
    "prior_1 = y_t.value_counts()[1]/len(y_t)\n",
    "print(prior_0, prior_1)"
   ]
  },
  {
   "cell_type": "code",
   "execution_count": null,
   "metadata": {
    "colab": {
     "base_uri": "https://localhost:8080/"
    },
    "id": "AVDKCYC_qKJw",
    "outputId": "fdaaa85e-a1be-482a-c3e8-46d94662aef8"
   },
   "outputs": [],
   "source": [
    "y_t.value_counts()"
   ]
  },
  {
   "cell_type": "code",
   "execution_count": null,
   "metadata": {
    "colab": {
     "base_uri": "https://localhost:8080/"
    },
    "id": "gn9yeU_EqKJw",
    "outputId": "47d2100c-9ed2-474e-d8f2-73245e86e4cd"
   },
   "outputs": [],
   "source": [
    "mnb.class_log_prior_"
   ]
  },
  {
   "cell_type": "code",
   "execution_count": null,
   "metadata": {
    "colab": {
     "base_uri": "https://localhost:8080/"
    },
    "id": "UlWZe354qKJw",
    "outputId": "e8a550b8-8de2-4d05-fced-14ceef92f587"
   },
   "outputs": [],
   "source": [
    "np.log(prior_0)"
   ]
  },
  {
   "cell_type": "markdown",
   "metadata": {
    "id": "C8gIo0s9qKJw"
   },
   "source": [
    "Generate model predictions and get an accuracy score!"
   ]
  },
  {
   "cell_type": "code",
   "execution_count": null,
   "metadata": {
    "colab": {
     "base_uri": "https://localhost:8080/"
    },
    "id": "oVa8wT2uqKJw",
    "outputId": "9bcf7020-183e-46a6-a34c-e6c77fdaafb2"
   },
   "outputs": [],
   "source": [
    "y_hat = mnb.predict(X_val_vec)\n",
    "accuracy_score(y_val, y_hat)"
   ]
  },
  {
   "cell_type": "markdown",
   "metadata": {
    "id": "bCRWNb-fqKJw"
   },
   "source": [
    "Let's consider the scenario that we would like to isolate satirical news on Facebook so we can flag it. We do not want to flag real news by mistake. In other words, we want to minimize false positives."
   ]
  },
  {
   "cell_type": "code",
   "execution_count": null,
   "metadata": {
    "colab": {
     "base_uri": "https://localhost:8080/",
     "height": 315
    },
    "id": "neGuTrcoqKJw",
    "outputId": "dc54cd5d-95f9-4840-8e11-8c8e3a1ddad3"
   },
   "outputs": [],
   "source": [
    "cm = confusion_matrix(y_val, y_hat)\n",
    "plot_confusion_matrix(cm)"
   ]
  },
  {
   "cell_type": "code",
   "execution_count": null,
   "metadata": {
    "colab": {
     "base_uri": "https://localhost:8080/"
    },
    "id": "203WF62TqKJw",
    "outputId": "ad98c6a2-e2c6-454f-f47d-3bd8b72fe1df"
   },
   "outputs": [],
   "source": [
    "precision_score(y_val, y_hat)"
   ]
  },
  {
   "cell_type": "markdown",
   "metadata": {
    "id": "lKkSkVrfqKJw"
   },
   "source": [
    "That's pretty good for a five word vocabulary.\n",
    "\n",
    "Let's see what happens when we don't restrict our vocabulary."
   ]
  },
  {
   "cell_type": "code",
   "execution_count": null,
   "metadata": {
    "id": "y360W-HLqKJw"
   },
   "outputs": [],
   "source": [
    "cv = CountVectorizer()\n",
    "X_t_vec = cv.fit_transform(X_t)\n",
    "X_t_vec  = pd.DataFrame.sparse.from_spmatrix(X_t_vec)\n",
    "X_t_vec.columns = sorted(cv.vocabulary_)\n",
    "X_t_vec.set_index(y_t.index, inplace=True)\n",
    "\n",
    "\n",
    "X_val_vec = cv.transform(X_val)\n",
    "X_val_vec  = pd.DataFrame.sparse.from_spmatrix(X_val_vec)\n",
    "X_val_vec.columns = sorted(cv.vocabulary_)\n",
    "X_val_vec.set_index(y_val.index, inplace=True)"
   ]
  },
  {
   "cell_type": "code",
   "execution_count": null,
   "metadata": {
    "colab": {
     "base_uri": "https://localhost:8080/",
     "height": 315
    },
    "id": "QwWDtWRtqKJx",
    "outputId": "585661e1-7f52-407b-9ca6-6686330f8527"
   },
   "outputs": [],
   "source": [
    "mnb = MultinomialNB()\n",
    "\n",
    "mnb.fit(X_t_vec, y_t)\n",
    "y_hat = mnb.predict(X_val_vec)\n",
    "cm2 = confusion_matrix(y_val, y_hat)\n",
    "plot_confusion_matrix(cm2)"
   ]
  },
  {
   "cell_type": "markdown",
   "metadata": {
    "id": "tBUd-aRKqKJx"
   },
   "source": [
    "Wow! Look how well that performed. "
   ]
  },
  {
   "cell_type": "code",
   "execution_count": null,
   "metadata": {
    "colab": {
     "base_uri": "https://localhost:8080/"
    },
    "id": "eQR9WKwMqKJx",
    "outputId": "018e046f-8f5b-4242-f9c2-5f5ff95a4083"
   },
   "outputs": [],
   "source": [
    "precision_score(y_val, y_hat)"
   ]
  },
  {
   "cell_type": "code",
   "execution_count": null,
   "metadata": {
    "colab": {
     "base_uri": "https://localhost:8080/"
    },
    "id": "3uC_G78jqKJx",
    "outputId": "7843599b-6d71-4b51-ada2-2ef72932a065"
   },
   "outputs": [],
   "source": [
    "len(cv.vocabulary_)"
   ]
  },
  {
   "cell_type": "markdown",
   "metadata": {
    "id": "uBC5A65pqKJx"
   },
   "source": [
    "Let's see whether or not we can maintain that level of accuracy with fewer words."
   ]
  },
  {
   "cell_type": "code",
   "execution_count": null,
   "metadata": {
    "colab": {
     "base_uri": "https://localhost:8080/"
    },
    "id": "Pg7nAzXIqKJx",
    "outputId": "f2e66c95-6e88-4af8-a820-53932b21380a"
   },
   "outputs": [],
   "source": [
    "cv = CountVectorizer(min_df=0.05, max_df=0.95)\n",
    "X_t_vec = cv.fit_transform(X_t)\n",
    "X_t_vec  = pd.DataFrame.sparse.from_spmatrix(X_t_vec)\n",
    "X_t_vec.columns = sorted(cv.vocabulary_)\n",
    "X_t_vec.set_index(y_t.index, inplace=True)\n",
    "\n",
    "X_val_vec = cv.transform(X_val)\n",
    "X_val_vec  = pd.DataFrame.sparse.from_spmatrix(X_val_vec)\n",
    "X_val_vec.columns = sorted(cv.vocabulary_)\n",
    "X_val_vec.set_index(y_val.index, inplace=True)\n",
    "\n",
    "mnb = MultinomialNB()\n",
    "\n",
    "mnb.fit(X_t_vec, y_t)\n",
    "y_hat = mnb.predict(X_val_vec)\n",
    "\n",
    "precision_score(y_val, y_hat)"
   ]
  },
  {
   "cell_type": "code",
   "execution_count": null,
   "metadata": {
    "colab": {
     "base_uri": "https://localhost:8080/"
    },
    "id": "Rif8wA2mqKJx",
    "outputId": "db5dff42-02ab-4ac2-b55c-c02c0d707d3d"
   },
   "outputs": [],
   "source": [
    "len(cv.vocabulary_)"
   ]
  },
  {
   "cell_type": "code",
   "execution_count": null,
   "metadata": {
    "id": "kvV6ZbSDqKJx"
   },
   "outputs": [],
   "source": [
    "# Now let's see what happens with TF-IDF"
   ]
  },
  {
   "cell_type": "code",
   "execution_count": null,
   "metadata": {
    "colab": {
     "base_uri": "https://localhost:8080/"
    },
    "id": "c7aTYp84qKJx",
    "outputId": "b0c1bd2a-b046-4de1-fabf-981930b6741c"
   },
   "outputs": [],
   "source": [
    "tfidf = TfidfVectorizer()\n",
    "X_t_vec = tfidf.fit_transform(X_t)\n",
    "X_t_vec  = pd.DataFrame.sparse.from_spmatrix(X_t_vec)\n",
    "X_t_vec.columns = sorted(tfidf.vocabulary_)\n",
    "X_t_vec.set_index(y_t.index, inplace=True)\n",
    "\n",
    "X_val_vec = tfidf.transform(X_val)\n",
    "X_val_vec  = pd.DataFrame.sparse.from_spmatrix(X_val_vec)\n",
    "X_val_vec.columns = sorted(tfidf.vocabulary_)\n",
    "X_val_vec.set_index(y_val.index, inplace=True)\n",
    "\n",
    "mnb = MultinomialNB()\n",
    "\n",
    "mnb.fit(X_t_vec, y_t)\n",
    "y_hat = mnb.predict(X_val_vec)\n",
    "\n",
    "precision_score(y_val, y_hat)"
   ]
  },
  {
   "cell_type": "markdown",
   "metadata": {
    "id": "GvvOyIhlqKJx"
   },
   "source": [
    "TFIDF does not necessarily perform better than CV. It is just a tool in our toolbelt that's often worth trying out."
   ]
  },
  {
   "cell_type": "code",
   "execution_count": null,
   "metadata": {
    "colab": {
     "base_uri": "https://localhost:8080/"
    },
    "id": "lWK2yQktqKJx",
    "outputId": "d018539a-d19f-4389-c693-bd19112724ab"
   },
   "outputs": [],
   "source": [
    "len(tfidf.vocabulary_)"
   ]
  },
  {
   "cell_type": "code",
   "execution_count": null,
   "metadata": {
    "colab": {
     "base_uri": "https://localhost:8080/"
    },
    "id": "u5kgPUQVqKJx",
    "outputId": "3280111d-7b86-48dd-a0c9-75082d4fe1d9"
   },
   "outputs": [],
   "source": [
    "tfidf = TfidfVectorizer(min_df=0.05, max_df=0.95)\n",
    "X_t_vec = tfidf.fit_transform(X_t)\n",
    "X_t_vec  = pd.DataFrame.sparse.from_spmatrix(X_t_vec)\n",
    "X_t_vec.columns = sorted(tfidf.vocabulary_)\n",
    "X_t_vec.set_index(y_t.index, inplace=True)\n",
    "\n",
    "X_val_vec = tfidf.transform(X_val)\n",
    "X_val_vec  = pd.DataFrame.sparse.from_spmatrix(X_val_vec)\n",
    "X_val_vec.columns = sorted(tfidf.vocabulary_)\n",
    "X_val_vec.set_index(y_val.index, inplace=True)\n",
    "\n",
    "mnb = MultinomialNB()\n",
    "\n",
    "mnb.fit(X_t_vec, y_t)\n",
    "y_hat = mnb.predict(X_val_vec)\n",
    "\n",
    "precision_score(y_val, y_hat)"
   ]
  },
  {
   "cell_type": "code",
   "execution_count": null,
   "metadata": {
    "colab": {
     "base_uri": "https://localhost:8080/"
    },
    "id": "4XrJdQ6YqKJx",
    "outputId": "24f6e838-632f-41cc-8ab0-28a7aa0a89f5"
   },
   "outputs": [],
   "source": [
    "len(tfidf.vocabulary_)"
   ]
  },
  {
   "cell_type": "markdown",
   "metadata": {
    "id": "0dH-wS9pqKJx"
   },
   "source": [
    "Let's compare MNB to Random Forest:"
   ]
  },
  {
   "cell_type": "code",
   "execution_count": null,
   "metadata": {
    "colab": {
     "base_uri": "https://localhost:8080/"
    },
    "id": "cg0eEGxMqKJx",
    "outputId": "c7af7b84-fe80-4b38-a6d3-1fc09a89b35a"
   },
   "outputs": [],
   "source": [
    "rf = RandomForestClassifier(n_estimators=1000, max_features=5, max_depth=5)\n",
    "rf.fit(X_t_vec, y_t)\n",
    "y_hat = rf.predict(X_val_vec)\n",
    "precision_score(y_val, y_hat)"
   ]
  },
  {
   "cell_type": "markdown",
   "metadata": {
    "id": "fos_4IudqKJx"
   },
   "source": [
    "The two perform comparably, but MNB is lightweight as far as computational power and speed. For real-time predictions, we may choose MNB over Random Forest because the classifications can be performed quickly."
   ]
  },
  {
   "cell_type": "markdown",
   "metadata": {
    "id": "URrJCBHhp5RJ"
   },
   "source": [
    "Let's go a bit deeper into NLP 👇:\n",
    "\n",
    "<br><a href=\"https://colab.research.google.com/drive/1_L7U1R5Ij5RP5lAHwodvSQdhpQYqA-Fy?usp=sharing#offline=true&sandboxMode=true\">\n",
    "               <img src=\"https://colab.research.google.com/assets/colab-badge.svg\" alt=\"Open In Colab\"/>\n",
    "</a>"
   ]
  }
 ],
 "metadata": {
  "colab": {
   "provenance": []
  },
  "kernelspec": {
   "display_name": "Python 3 (ipykernel)",
   "language": "python",
   "name": "python3"
  },
  "language_info": {
   "codemirror_mode": {
    "name": "ipython",
    "version": 3
   },
   "file_extension": ".py",
   "mimetype": "text/x-python",
   "name": "python",
   "nbconvert_exporter": "python",
   "pygments_lexer": "ipython3",
   "version": "3.9.13"
  }
 },
 "nbformat": 4,
 "nbformat_minor": 1
}
