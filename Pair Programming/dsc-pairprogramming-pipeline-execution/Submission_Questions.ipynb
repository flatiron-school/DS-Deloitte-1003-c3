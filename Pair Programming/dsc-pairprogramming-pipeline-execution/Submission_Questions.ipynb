{
 "cells": [
  {
   "cell_type": "markdown",
   "id": "83d0e696",
   "metadata": {},
   "source": [
    "# Were you able to successfully create and execute the pipeline using the provided walkthrough?"
   ]
  },
  {
   "cell_type": "markdown",
   "id": "1e975f83",
   "metadata": {},
   "source": [
    "###### Please provide your answer here &darr;"
   ]
  },
  {
   "cell_type": "markdown",
   "id": "a586c181",
   "metadata": {},
   "source": [
    "Yes, I was able to both create and execute the pipeline. The walkthrough was great, it really worked for me!"
   ]
  },
  {
   "cell_type": "markdown",
   "id": "5cafcc06",
   "metadata": {},
   "source": [
    "# What (if any) blockers did you encounter?"
   ]
  },
  {
   "cell_type": "markdown",
   "id": "c15e1b40",
   "metadata": {},
   "source": [
    "###### Please provide your answer here &darr;"
   ]
  },
  {
   "cell_type": "markdown",
   "id": "b974ab1a",
   "metadata": {},
   "source": [
    "None, fortunately. Although my internet makes the waiting a bit longer than usual"
   ]
  },
  {
   "cell_type": "markdown",
   "id": "e0328248",
   "metadata": {},
   "source": [
    "# Do you have any suggestions for improving this material?"
   ]
  },
  {
   "cell_type": "markdown",
   "id": "a702b9db",
   "metadata": {},
   "source": [
    "###### Please provide your answer here &darr;"
   ]
  },
  {
   "cell_type": "markdown",
   "id": "32645543",
   "metadata": {},
   "source": [
    "More walkthroughs like these would be nice!"
   ]
  }
 ],
 "metadata": {
  "kernelspec": {
   "display_name": "Python 3 (ipykernel)",
   "language": "python",
   "name": "python3"
  },
  "language_info": {
   "codemirror_mode": {
    "name": "ipython",
    "version": 3
   },
   "file_extension": ".py",
   "mimetype": "text/x-python",
   "name": "python",
   "nbconvert_exporter": "python",
   "pygments_lexer": "ipython3",
   "version": "3.9.12"
  }
 },
 "nbformat": 4,
 "nbformat_minor": 5
}
